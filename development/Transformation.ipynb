{
 "cells": [
  {
   "cell_type": "code",
   "execution_count": 382,
   "id": "initial_id",
   "metadata": {
    "is_executing": true,
    "jupyter": {
     "is_executing": true
    }
   },
   "outputs": [],
   "source": [
    "from pyforest  import*\n",
    "import warnings\n",
    "from sklearn.metrics import mean_squared_error\n",
    "import xgboost as xgb\n",
    "from sklearn.ensemble import ExtraTreesRegressor\n",
    "from sklearn.metrics import r2_score\n",
    "import warnings\n",
    "warnings.filterwarnings('ignore')\n",
    "import time\n"
   ]
  },
  {
   "cell_type": "code",
   "execution_count": 383,
   "id": "8c5c1b98",
   "metadata": {
    "ExecuteTime": {
     "end_time": "2024-03-28T22:38:48.992789Z",
     "start_time": "2024-03-28T22:38:42.010119Z"
    },
    "scrolled": true
   },
   "outputs": [
    {
     "data": {
      "application/javascript": [
       "\n",
       "        if (window._pyforest_update_imports_cell) { window._pyforest_update_imports_cell('import pandas as pd\\nfrom sklearn.preprocessing import LabelEncoder\\nimport plotly.graph_objs as go\\nfrom sklearn.ensemble import RandomForestRegressor\\nimport matplotlib.pyplot as plt\\nfrom sklearn.linear_model import LinearRegression\\nfrom sklearn.model_selection import train_test_split\\nimport seaborn as sns\\nimport pickle'); }\n",
       "    "
      ],
      "text/plain": [
       "<IPython.core.display.Javascript object>"
      ]
     },
     "metadata": {},
     "output_type": "display_data"
    },
    {
     "data": {
      "text/html": [
       "<div>\n",
       "<style scoped>\n",
       "    .dataframe tbody tr th:only-of-type {\n",
       "        vertical-align: middle;\n",
       "    }\n",
       "\n",
       "    .dataframe tbody tr th {\n",
       "        vertical-align: top;\n",
       "    }\n",
       "\n",
       "    .dataframe thead th {\n",
       "        text-align: right;\n",
       "    }\n",
       "</style>\n",
       "<table border=\"1\" class=\"dataframe\">\n",
       "  <thead>\n",
       "    <tr style=\"text-align: right;\">\n",
       "      <th></th>\n",
       "      <th>url</th>\n",
       "      <th>address</th>\n",
       "      <th>name</th>\n",
       "      <th>online_order</th>\n",
       "      <th>book_table</th>\n",
       "      <th>rate</th>\n",
       "      <th>votes</th>\n",
       "      <th>phone</th>\n",
       "      <th>location</th>\n",
       "      <th>rest_type</th>\n",
       "      <th>dish_liked</th>\n",
       "      <th>cuisines</th>\n",
       "      <th>approx_cost(for two people)</th>\n",
       "      <th>reviews_list</th>\n",
       "      <th>menu_item</th>\n",
       "      <th>listed_in(type)</th>\n",
       "      <th>listed_in(city)</th>\n",
       "    </tr>\n",
       "  </thead>\n",
       "  <tbody>\n",
       "    <tr>\n",
       "      <th>0</th>\n",
       "      <td>https://www.zomato.com/bangalore/jalsa-banasha...</td>\n",
       "      <td>942, 21st Main Road, 2nd Stage, Banashankari, ...</td>\n",
       "      <td>Jalsa</td>\n",
       "      <td>Yes</td>\n",
       "      <td>Yes</td>\n",
       "      <td>4.1/5</td>\n",
       "      <td>775</td>\n",
       "      <td>080 42297555\\r\\n+91 9743772233</td>\n",
       "      <td>Banashankari</td>\n",
       "      <td>Casual Dining</td>\n",
       "      <td>Pasta, Lunch Buffet, Masala Papad, Paneer Laja...</td>\n",
       "      <td>North Indian, Mughlai, Chinese</td>\n",
       "      <td>800</td>\n",
       "      <td>[('Rated 4.0', 'RATED\\n  A beautiful place to ...</td>\n",
       "      <td>[]</td>\n",
       "      <td>Buffet</td>\n",
       "      <td>Banashankari</td>\n",
       "    </tr>\n",
       "    <tr>\n",
       "      <th>1</th>\n",
       "      <td>https://www.zomato.com/bangalore/spice-elephan...</td>\n",
       "      <td>2nd Floor, 80 Feet Road, Near Big Bazaar, 6th ...</td>\n",
       "      <td>Spice Elephant</td>\n",
       "      <td>Yes</td>\n",
       "      <td>No</td>\n",
       "      <td>4.1/5</td>\n",
       "      <td>787</td>\n",
       "      <td>080 41714161</td>\n",
       "      <td>Banashankari</td>\n",
       "      <td>Casual Dining</td>\n",
       "      <td>Momos, Lunch Buffet, Chocolate Nirvana, Thai G...</td>\n",
       "      <td>Chinese, North Indian, Thai</td>\n",
       "      <td>800</td>\n",
       "      <td>[('Rated 4.0', 'RATED\\n  Had been here for din...</td>\n",
       "      <td>[]</td>\n",
       "      <td>Buffet</td>\n",
       "      <td>Banashankari</td>\n",
       "    </tr>\n",
       "    <tr>\n",
       "      <th>2</th>\n",
       "      <td>https://www.zomato.com/SanchurroBangalore?cont...</td>\n",
       "      <td>1112, Next to KIMS Medical College, 17th Cross...</td>\n",
       "      <td>San Churro Cafe</td>\n",
       "      <td>Yes</td>\n",
       "      <td>No</td>\n",
       "      <td>3.8/5</td>\n",
       "      <td>918</td>\n",
       "      <td>+91 9663487993</td>\n",
       "      <td>Banashankari</td>\n",
       "      <td>Cafe, Casual Dining</td>\n",
       "      <td>Churros, Cannelloni, Minestrone Soup, Hot Choc...</td>\n",
       "      <td>Cafe, Mexican, Italian</td>\n",
       "      <td>800</td>\n",
       "      <td>[('Rated 3.0', \"RATED\\n  Ambience is not that ...</td>\n",
       "      <td>[]</td>\n",
       "      <td>Buffet</td>\n",
       "      <td>Banashankari</td>\n",
       "    </tr>\n",
       "    <tr>\n",
       "      <th>3</th>\n",
       "      <td>https://www.zomato.com/bangalore/addhuri-udupi...</td>\n",
       "      <td>1st Floor, Annakuteera, 3rd Stage, Banashankar...</td>\n",
       "      <td>Addhuri Udupi Bhojana</td>\n",
       "      <td>No</td>\n",
       "      <td>No</td>\n",
       "      <td>3.7/5</td>\n",
       "      <td>88</td>\n",
       "      <td>+91 9620009302</td>\n",
       "      <td>Banashankari</td>\n",
       "      <td>Quick Bites</td>\n",
       "      <td>Masala Dosa</td>\n",
       "      <td>South Indian, North Indian</td>\n",
       "      <td>300</td>\n",
       "      <td>[('Rated 4.0', \"RATED\\n  Great food and proper...</td>\n",
       "      <td>[]</td>\n",
       "      <td>Buffet</td>\n",
       "      <td>Banashankari</td>\n",
       "    </tr>\n",
       "    <tr>\n",
       "      <th>4</th>\n",
       "      <td>https://www.zomato.com/bangalore/grand-village...</td>\n",
       "      <td>10, 3rd Floor, Lakshmi Associates, Gandhi Baza...</td>\n",
       "      <td>Grand Village</td>\n",
       "      <td>No</td>\n",
       "      <td>No</td>\n",
       "      <td>3.8/5</td>\n",
       "      <td>166</td>\n",
       "      <td>+91 8026612447\\r\\n+91 9901210005</td>\n",
       "      <td>Basavanagudi</td>\n",
       "      <td>Casual Dining</td>\n",
       "      <td>Panipuri, Gol Gappe</td>\n",
       "      <td>North Indian, Rajasthani</td>\n",
       "      <td>600</td>\n",
       "      <td>[('Rated 4.0', 'RATED\\n  Very good restaurant ...</td>\n",
       "      <td>[]</td>\n",
       "      <td>Buffet</td>\n",
       "      <td>Banashankari</td>\n",
       "    </tr>\n",
       "  </tbody>\n",
       "</table>\n",
       "</div>"
      ],
      "text/plain": [
       "                                                 url  \\\n",
       "0  https://www.zomato.com/bangalore/jalsa-banasha...   \n",
       "1  https://www.zomato.com/bangalore/spice-elephan...   \n",
       "2  https://www.zomato.com/SanchurroBangalore?cont...   \n",
       "3  https://www.zomato.com/bangalore/addhuri-udupi...   \n",
       "4  https://www.zomato.com/bangalore/grand-village...   \n",
       "\n",
       "                                             address                   name  \\\n",
       "0  942, 21st Main Road, 2nd Stage, Banashankari, ...                  Jalsa   \n",
       "1  2nd Floor, 80 Feet Road, Near Big Bazaar, 6th ...         Spice Elephant   \n",
       "2  1112, Next to KIMS Medical College, 17th Cross...        San Churro Cafe   \n",
       "3  1st Floor, Annakuteera, 3rd Stage, Banashankar...  Addhuri Udupi Bhojana   \n",
       "4  10, 3rd Floor, Lakshmi Associates, Gandhi Baza...          Grand Village   \n",
       "\n",
       "  online_order book_table   rate  votes                             phone  \\\n",
       "0          Yes        Yes  4.1/5    775    080 42297555\\r\\n+91 9743772233   \n",
       "1          Yes         No  4.1/5    787                      080 41714161   \n",
       "2          Yes         No  3.8/5    918                    +91 9663487993   \n",
       "3           No         No  3.7/5     88                    +91 9620009302   \n",
       "4           No         No  3.8/5    166  +91 8026612447\\r\\n+91 9901210005   \n",
       "\n",
       "       location            rest_type  \\\n",
       "0  Banashankari        Casual Dining   \n",
       "1  Banashankari        Casual Dining   \n",
       "2  Banashankari  Cafe, Casual Dining   \n",
       "3  Banashankari          Quick Bites   \n",
       "4  Basavanagudi        Casual Dining   \n",
       "\n",
       "                                          dish_liked  \\\n",
       "0  Pasta, Lunch Buffet, Masala Papad, Paneer Laja...   \n",
       "1  Momos, Lunch Buffet, Chocolate Nirvana, Thai G...   \n",
       "2  Churros, Cannelloni, Minestrone Soup, Hot Choc...   \n",
       "3                                        Masala Dosa   \n",
       "4                                Panipuri, Gol Gappe   \n",
       "\n",
       "                         cuisines approx_cost(for two people)  \\\n",
       "0  North Indian, Mughlai, Chinese                         800   \n",
       "1     Chinese, North Indian, Thai                         800   \n",
       "2          Cafe, Mexican, Italian                         800   \n",
       "3      South Indian, North Indian                         300   \n",
       "4        North Indian, Rajasthani                         600   \n",
       "\n",
       "                                        reviews_list menu_item  \\\n",
       "0  [('Rated 4.0', 'RATED\\n  A beautiful place to ...        []   \n",
       "1  [('Rated 4.0', 'RATED\\n  Had been here for din...        []   \n",
       "2  [('Rated 3.0', \"RATED\\n  Ambience is not that ...        []   \n",
       "3  [('Rated 4.0', \"RATED\\n  Great food and proper...        []   \n",
       "4  [('Rated 4.0', 'RATED\\n  Very good restaurant ...        []   \n",
       "\n",
       "  listed_in(type) listed_in(city)  \n",
       "0          Buffet    Banashankari  \n",
       "1          Buffet    Banashankari  \n",
       "2          Buffet    Banashankari  \n",
       "3          Buffet    Banashankari  \n",
       "4          Buffet    Banashankari  "
      ]
     },
     "execution_count": 383,
     "metadata": {},
     "output_type": "execute_result"
    }
   ],
   "source": [
    "data = pd.read_csv(\"./../data/zomato.csv\") #the dataset is too big so i make a copy of 20000 first rows only \n",
    " #and i delete the original one manually and name the new one zamato\n",
    "\n",
    "data.head()"
   ]
  },
  {
   "cell_type": "code",
   "execution_count": 384,
   "id": "c7eb4bf1",
   "metadata": {
    "ExecuteTime": {
     "end_time": "2024-03-28T22:38:49.009910Z",
     "start_time": "2024-03-28T22:38:48.995087Z"
    }
   },
   "outputs": [
    {
     "data": {
      "text/plain": [
       "(6400, 17)"
      ]
     },
     "execution_count": 384,
     "metadata": {},
     "output_type": "execute_result"
    }
   ],
   "source": [
    "data.shape"
   ]
  },
  {
   "cell_type": "code",
   "execution_count": 385,
   "id": "e82acdd0",
   "metadata": {
    "ExecuteTime": {
     "end_time": "2024-03-28T22:38:50.711733Z",
     "start_time": "2024-03-28T22:38:50.700544Z"
    }
   },
   "outputs": [
    {
     "data": {
      "text/plain": [
       "url                            object\n",
       "address                        object\n",
       "name                           object\n",
       "online_order                   object\n",
       "book_table                     object\n",
       "rate                           object\n",
       "votes                           int64\n",
       "phone                          object\n",
       "location                       object\n",
       "rest_type                      object\n",
       "dish_liked                     object\n",
       "cuisines                       object\n",
       "approx_cost(for two people)    object\n",
       "reviews_list                   object\n",
       "menu_item                      object\n",
       "listed_in(type)                object\n",
       "listed_in(city)                object\n",
       "dtype: object"
      ]
     },
     "execution_count": 385,
     "metadata": {},
     "output_type": "execute_result"
    }
   ],
   "source": [
    "data.dtypes"
   ]
  },
  {
   "cell_type": "code",
   "execution_count": 386,
   "id": "ada96c2a",
   "metadata": {
    "ExecuteTime": {
     "end_time": "2024-03-28T22:38:51.735441Z",
     "start_time": "2024-03-28T22:38:51.678286Z"
    }
   },
   "outputs": [
    {
     "data": {
      "text/plain": [
       "url                               0\n",
       "address                           0\n",
       "name                              0\n",
       "online_order                      0\n",
       "book_table                        0\n",
       "rate                            846\n",
       "votes                             0\n",
       "phone                           115\n",
       "location                          1\n",
       "rest_type                        26\n",
       "dish_liked                     3537\n",
       "cuisines                          5\n",
       "approx_cost(for two people)      13\n",
       "reviews_list                      0\n",
       "menu_item                         0\n",
       "listed_in(type)                   0\n",
       "listed_in(city)                   0\n",
       "dtype: int64"
      ]
     },
     "execution_count": 386,
     "metadata": {},
     "output_type": "execute_result"
    }
   ],
   "source": [
    "#total null\n",
    "data.isna().sum()\n",
    "\n"
   ]
  },
  {
   "cell_type": "code",
   "execution_count": 387,
   "id": "5b5b797d82415252",
   "metadata": {},
   "outputs": [],
   "source": [
    "data=data.dropna()"
   ]
  },
  {
   "cell_type": "code",
   "execution_count": 388,
   "id": "e3878447",
   "metadata": {},
   "outputs": [
    {
     "data": {
      "text/plain": [
       "url                            0\n",
       "address                        0\n",
       "name                           0\n",
       "online_order                   0\n",
       "book_table                     0\n",
       "rate                           0\n",
       "votes                          0\n",
       "phone                          0\n",
       "location                       0\n",
       "rest_type                      0\n",
       "dish_liked                     0\n",
       "cuisines                       0\n",
       "approx_cost(for two people)    0\n",
       "reviews_list                   0\n",
       "menu_item                      0\n",
       "listed_in(type)                0\n",
       "listed_in(city)                0\n",
       "dtype: int64"
      ]
     },
     "execution_count": 388,
     "metadata": {},
     "output_type": "execute_result"
    }
   ],
   "source": [
    "data.isna().sum()\n"
   ]
  },
  {
   "cell_type": "code",
   "execution_count": 389,
   "id": "1b488f5e",
   "metadata": {
    "ExecuteTime": {
     "end_time": "2024-03-28T22:38:52.545949Z",
     "start_time": "2024-03-28T22:38:52.521789Z"
    }
   },
   "outputs": [],
   "source": [
    "#delete unneccessary colums\n",
    "df = data.drop (['url','phone'],axis = 1)"
   ]
  },
  {
   "cell_type": "code",
   "execution_count": 390,
   "id": "869a3252",
   "metadata": {
    "ExecuteTime": {
     "end_time": "2024-03-28T22:38:56.417429Z",
     "start_time": "2024-03-28T22:38:54.311557Z"
    }
   },
   "outputs": [
    {
     "data": {
      "text/plain": [
       "0"
      ]
     },
     "execution_count": 390,
     "metadata": {},
     "output_type": "execute_result"
    }
   ],
   "source": [
    "#any duplicate?\n",
    "df.duplicated().sum()"
   ]
  },
  {
   "cell_type": "code",
   "execution_count": 391,
   "id": "8056c7cd",
   "metadata": {
    "ExecuteTime": {
     "end_time": "2024-03-28T22:39:02.462381Z",
     "start_time": "2024-03-28T22:38:59.692897Z"
    }
   },
   "outputs": [
    {
     "data": {
      "text/plain": [
       "0"
      ]
     },
     "execution_count": 391,
     "metadata": {},
     "output_type": "execute_result"
    }
   ],
   "source": [
    "# remouve all duplicate\n",
    "df.drop_duplicates(inplace = True)\n",
    "# test \n",
    "df.duplicated().sum()"
   ]
  },
  {
   "cell_type": "code",
   "execution_count": 392,
   "id": "06f9a670",
   "metadata": {
    "ExecuteTime": {
     "end_time": "2024-03-28T22:39:04.057787Z",
     "start_time": "2024-03-28T22:39:03.992019Z"
    }
   },
   "outputs": [
    {
     "data": {
      "text/plain": [
       "address                        0\n",
       "name                           0\n",
       "online_order                   0\n",
       "book_table                     0\n",
       "rate                           0\n",
       "votes                          0\n",
       "location                       0\n",
       "rest_type                      0\n",
       "dish_liked                     0\n",
       "cuisines                       0\n",
       "approx_cost(for two people)    0\n",
       "reviews_list                   0\n",
       "menu_item                      0\n",
       "listed_in(type)                0\n",
       "listed_in(city)                0\n",
       "dtype: int64"
      ]
     },
     "execution_count": 392,
     "metadata": {},
     "output_type": "execute_result"
    }
   ],
   "source": [
    "#Drop null value\n",
    "df.dropna(how = 'any',inplace = True)\n",
    "#checking\n",
    "df.isnull().sum()"
   ]
  },
  {
   "cell_type": "code",
   "execution_count": 393,
   "id": "553cf1b0",
   "metadata": {
    "ExecuteTime": {
     "end_time": "2024-03-28T22:39:06.042019Z",
     "start_time": "2024-03-28T22:39:06.033839Z"
    }
   },
   "outputs": [
    {
     "data": {
      "text/plain": [
       "Index(['address', 'name', 'online_order', 'book_table', 'rate', 'votes',\n",
       "       'location', 'rest_type', 'dish_liked', 'cuisines',\n",
       "       'approx_cost(for two people)', 'reviews_list', 'menu_item',\n",
       "       'listed_in(type)', 'listed_in(city)'],\n",
       "      dtype='object')"
      ]
     },
     "execution_count": 393,
     "metadata": {},
     "output_type": "execute_result"
    }
   ],
   "source": [
    "df.columns"
   ]
  },
  {
   "cell_type": "code",
   "execution_count": 401,
   "id": "af430335",
   "metadata": {
    "ExecuteTime": {
     "end_time": "2024-03-28T22:39:08.035543Z",
     "start_time": "2024-03-28T22:39:08.023630Z"
    }
   },
   "outputs": [],
   "source": [
    "#rename columns\n",
    "df = df.rename(columns = {\n",
    "    'approx_cost(for two people)':'cost',\n",
    "    'listed_in(type)':'type',\n",
    "    'listed_in(city)':'city'})"
   ]
  },
  {
   "cell_type": "code",
   "execution_count": null,
   "id": "57faeb59",
   "metadata": {},
   "outputs": [],
   "source": []
  },
  {
   "cell_type": "code",
   "execution_count": 402,
   "id": "c7759dad",
   "metadata": {
    "ExecuteTime": {
     "end_time": "2024-03-28T22:39:09.874914Z",
     "start_time": "2024-03-28T22:39:09.869025Z"
    }
   },
   "outputs": [
    {
     "data": {
      "text/plain": [
       "Index(['address', 'name', 'online_order', 'book_table', 'rate', 'votes',\n",
       "       'location', 'rest_type', 'dish_liked', 'cuisines', 'cost',\n",
       "       'reviews_list', 'menu_item', 'type', 'city'],\n",
       "      dtype='object')"
      ]
     },
     "execution_count": 402,
     "metadata": {},
     "output_type": "execute_result"
    }
   ],
   "source": [
    "df.columns"
   ]
  },
  {
   "cell_type": "code",
   "execution_count": 403,
   "id": "e0eb59f9",
   "metadata": {
    "ExecuteTime": {
     "end_time": "2024-03-28T22:39:11.343738Z",
     "start_time": "2024-03-28T22:39:11.329537Z"
    }
   },
   "outputs": [
    {
     "data": {
      "text/plain": [
       "array(['800', '300', '600', '700', '550', '500', '450', '650', '400',\n",
       "       '750', '200', '850', '1,200', '150', '350', '250', '1,500',\n",
       "       '1,300', '1,000', '100', '900', '1,100', '1,600', '950', '230',\n",
       "       '1,700', '1,400', '1,350', '2,200', '2,000', '1,800', '1,900',\n",
       "       '180', '330', '2,500', '2,100', '3,000', '2,800', '3,400', '40',\n",
       "       '1,250', '3,500', '4,000', '2,400'], dtype=object)"
      ]
     },
     "execution_count": 403,
     "metadata": {},
     "output_type": "execute_result"
    }
   ],
   "source": [
    "#cleaning \n",
    "df.dtypes\n",
    "# i seec cost in an oject here String object\n",
    "df['cost'].unique()\n",
    "#yeah it s string and the comma should be dot also"
   ]
  },
  {
   "cell_type": "code",
   "execution_count": 404,
   "id": "411a91d6",
   "metadata": {
    "ExecuteTime": {
     "end_time": "2024-03-28T22:39:12.990770Z",
     "start_time": "2024-03-28T22:39:12.965060Z"
    }
   },
   "outputs": [
    {
     "data": {
      "text/plain": [
       "address          object\n",
       "name             object\n",
       "online_order     object\n",
       "book_table       object\n",
       "rate             object\n",
       "votes             int64\n",
       "location         object\n",
       "rest_type        object\n",
       "dish_liked       object\n",
       "cuisines         object\n",
       "cost            float64\n",
       "reviews_list     object\n",
       "menu_item        object\n",
       "type             object\n",
       "city             object\n",
       "dtype: object"
      ]
     },
     "execution_count": 404,
     "metadata": {},
     "output_type": "execute_result"
    }
   ],
   "source": [
    "df['cost'] = df['cost'].apply (lambda x:x.replace(',',''))\n",
    "df['cost'] = df['cost'].astype(float)\n",
    "#verication\n",
    "df.dtypes"
   ]
  },
  {
   "cell_type": "code",
   "execution_count": 405,
   "id": "7952d62d",
   "metadata": {
    "ExecuteTime": {
     "end_time": "2024-03-28T22:39:14.469810Z",
     "start_time": "2024-03-28T22:39:14.453893Z"
    }
   },
   "outputs": [
    {
     "name": "stdout",
     "output_type": "stream",
     "text": [
      "[ 800.  300.  600.  700.  550.  500.  450.  650.  400.  750.  200.  850.\n",
      " 1200.  150.  350.  250. 1500. 1300. 1000.  100.  900. 1100. 1600.  950.\n",
      "  230. 1700. 1400. 1350. 2200. 2000. 1800. 1900.  180.  330. 2500. 2100.\n",
      " 3000. 2800. 3400.   40. 1250. 3500. 4000. 2400.]\n"
     ]
    }
   ],
   "source": [
    "#verify if comma are deleted\n",
    "print(df['cost'].unique())"
   ]
  },
  {
   "cell_type": "code",
   "execution_count": null,
   "id": "2d821d92",
   "metadata": {},
   "outputs": [],
   "source": []
  },
  {
   "cell_type": "code",
   "execution_count": 406,
   "id": "ec2f3235",
   "metadata": {
    "ExecuteTime": {
     "end_time": "2024-03-28T22:39:16.015561Z",
     "start_time": "2024-03-28T22:39:16.006664Z"
    }
   },
   "outputs": [
    {
     "data": {
      "text/plain": [
       "array(['4.1/5', '3.8/5', '3.7/5', '4.6/5', '4.0/5', '4.2/5', '3.9/5',\n",
       "       '3.0/5', '3.6/5', '2.8/5', '4.4/5', '3.1/5', '4.3/5', '2.6/5',\n",
       "       '3.3/5', '3.5/5', '3.8 /5', '3.2/5', '4.5/5', '2.5/5', '2.9/5',\n",
       "       '3.4/5', '2.7/5', '4.7/5', 'NEW', '2.4/5', '2.2/5', '2.3/5',\n",
       "       '4.8/5', '3.9 /5', '4.2 /5', '4.0 /5', '4.1 /5', '2.9 /5',\n",
       "       '2.7 /5', '2.5 /5', '2.6 /5', '4.5 /5', '4.3 /5', '3.7 /5',\n",
       "       '4.4 /5', '4.9/5', '2.1/5', '2.0/5', '1.8/5'], dtype=object)"
      ]
     },
     "execution_count": 406,
     "metadata": {},
     "output_type": "execute_result"
    }
   ],
   "source": [
    "#same for rating .need to be clean\n",
    "df['rate'].unique()"
   ]
  },
  {
   "cell_type": "code",
   "execution_count": 407,
   "id": "78b0a214",
   "metadata": {
    "ExecuteTime": {
     "end_time": "2024-03-28T22:39:17.124810Z",
     "start_time": "2024-03-28T22:39:17.090656Z"
    }
   },
   "outputs": [
    {
     "data": {
      "text/plain": [
       "0       4.1\n",
       "1       4.1\n",
       "2       3.8\n",
       "3       3.7\n",
       "4       3.8\n",
       "       ... \n",
       "6384    3.2\n",
       "6385    3.9\n",
       "6386    3.6\n",
       "6391    3.8\n",
       "6392    3.9\n",
       "Name: rate, Length: 2816, dtype: object"
      ]
     },
     "execution_count": 407,
     "metadata": {},
     "output_type": "execute_result"
    }
   ],
   "source": [
    "#DELETE THE NEW\n",
    "df = df.loc[df.rate != 'NEW']\n",
    "df['rate'] =[ x.replace('/5','') for x in df['rate'] ]\n",
    "df['rate']"
   ]
  },
  {
   "cell_type": "code",
   "execution_count": 408,
   "id": "d65227f9",
   "metadata": {},
   "outputs": [
    {
     "data": {
      "text/plain": [
       "(2816, 15)"
      ]
     },
     "execution_count": 408,
     "metadata": {},
     "output_type": "execute_result"
    }
   ],
   "source": [
    "df.shape\n"
   ]
  },
  {
   "cell_type": "code",
   "execution_count": 409,
   "id": "00d0f1aa",
   "metadata": {
    "ExecuteTime": {
     "end_time": "2024-03-28T22:39:22.206736Z",
     "start_time": "2024-03-28T22:39:18.342884Z"
    },
    "scrolled": true
   },
   "outputs": [
    {
     "data": {
      "application/javascript": [
       "\n",
       "        if (window._pyforest_update_imports_cell) { window._pyforest_update_imports_cell('import pandas as pd\\nfrom sklearn.preprocessing import LabelEncoder\\nimport plotly.graph_objs as go\\nfrom sklearn.ensemble import RandomForestRegressor\\nimport matplotlib.pyplot as plt\\nfrom sklearn.linear_model import LinearRegression\\nfrom sklearn.model_selection import train_test_split\\nimport seaborn as sns\\nimport pickle'); }\n",
       "    "
      ],
      "text/plain": [
       "<IPython.core.display.Javascript object>"
      ]
     },
     "metadata": {},
     "output_type": "display_data"
    },
    {
     "data": {
      "application/javascript": [
       "\n",
       "        if (window._pyforest_update_imports_cell) { window._pyforest_update_imports_cell('import pandas as pd\\nfrom sklearn.preprocessing import LabelEncoder\\nimport plotly.graph_objs as go\\nfrom sklearn.ensemble import RandomForestRegressor\\nimport matplotlib.pyplot as plt\\nfrom sklearn.linear_model import LinearRegression\\nfrom sklearn.model_selection import train_test_split\\nimport seaborn as sns\\nimport pickle'); }\n",
       "    "
      ],
      "text/plain": [
       "<IPython.core.display.Javascript object>"
      ]
     },
     "metadata": {},
     "output_type": "display_data"
    },
    {
     "data": {
      "application/javascript": [
       "\n",
       "        if (window._pyforest_update_imports_cell) { window._pyforest_update_imports_cell('import pandas as pd\\nfrom sklearn.preprocessing import LabelEncoder\\nimport plotly.graph_objs as go\\nfrom sklearn.ensemble import RandomForestRegressor\\nimport matplotlib.pyplot as plt\\nfrom sklearn.linear_model import LinearRegression\\nfrom sklearn.model_selection import train_test_split\\nimport seaborn as sns\\nimport pickle'); }\n",
       "    "
      ],
      "text/plain": [
       "<IPython.core.display.Javascript object>"
      ]
     },
     "metadata": {},
     "output_type": "display_data"
    },
    {
     "data": {
      "application/javascript": [
       "\n",
       "        if (window._pyforest_update_imports_cell) { window._pyforest_update_imports_cell('import pandas as pd\\nfrom sklearn.preprocessing import LabelEncoder\\nimport plotly.graph_objs as go\\nfrom sklearn.ensemble import RandomForestRegressor\\nimport matplotlib.pyplot as plt\\nfrom sklearn.linear_model import LinearRegression\\nfrom sklearn.model_selection import train_test_split\\nimport seaborn as sns\\nimport pickle'); }\n",
       "    "
      ],
      "text/plain": [
       "<IPython.core.display.Javascript object>"
      ]
     },
     "metadata": {},
     "output_type": "display_data"
    },
    {
     "data": {
      "application/javascript": [
       "\n",
       "        if (window._pyforest_update_imports_cell) { window._pyforest_update_imports_cell('import pandas as pd\\nfrom sklearn.preprocessing import LabelEncoder\\nimport plotly.graph_objs as go\\nfrom sklearn.ensemble import RandomForestRegressor\\nimport matplotlib.pyplot as plt\\nfrom sklearn.linear_model import LinearRegression\\nfrom sklearn.model_selection import train_test_split\\nimport seaborn as sns\\nimport pickle'); }\n",
       "    "
      ],
      "text/plain": [
       "<IPython.core.display.Javascript object>"
      ]
     },
     "metadata": {},
     "output_type": "display_data"
    },
    {
     "data": {
      "image/png": "[encoded data removed]",
      "text/plain": [
       "<Figure size 1700x1000 with 1 Axes>"
      ]
     },
     "metadata": {},
     "output_type": "display_data"
    }
   ],
   "source": [
    "df.to_csv('./../data/zomatoClean.csv',index=False)\n",
    "\n",
    "plt.figure(figsize=(17,10))\n",
    "chains = df['name'].value_counts()[:20]\n",
    "sns.barplot(x=chains,y=chains.index,palette='deep')\n",
    "plt.title(\"top Restaurant\")\n",
    "plt.xlabel(\"number\")\n",
    "plt.show()\n"
   ]
  },
  {
   "cell_type": "code",
   "execution_count": 410,
   "id": "06b7e3d8",
   "metadata": {
    "ExecuteTime": {
     "end_time": "2024-03-28T22:39:22.215145Z",
     "start_time": "2024-03-28T22:39:22.209365Z"
    }
   },
   "outputs": [],
   "source": [
    "#restaurant that offer booking or not"
   ]
  },
  {
   "cell_type": "code",
   "execution_count": 411,
   "id": "d4d38187",
   "metadata": {
    "ExecuteTime": {
     "end_time": "2024-03-28T22:39:24.301388Z",
     "start_time": "2024-03-28T22:39:24.165861Z"
    }
   },
   "outputs": [
    {
     "data": {
      "application/javascript": [
       "\n",
       "        if (window._pyforest_update_imports_cell) { window._pyforest_update_imports_cell('import pandas as pd\\nfrom sklearn.preprocessing import LabelEncoder\\nimport plotly.graph_objs as go\\nfrom sklearn.ensemble import RandomForestRegressor\\nimport matplotlib.pyplot as plt\\nfrom sklearn.linear_model import LinearRegression\\nfrom sklearn.model_selection import train_test_split\\nimport seaborn as sns\\nimport pickle'); }\n",
       "    "
      ],
      "text/plain": [
       "<IPython.core.display.Javascript object>"
      ]
     },
     "metadata": {},
     "output_type": "display_data"
    },
    {
     "data": {
      "application/javascript": [
       "\n",
       "        if (window._pyforest_update_imports_cell) { window._pyforest_update_imports_cell('import pandas as pd\\nfrom sklearn.preprocessing import LabelEncoder\\nimport plotly.graph_objs as go\\nfrom sklearn.ensemble import RandomForestRegressor\\nimport matplotlib.pyplot as plt\\nfrom sklearn.linear_model import LinearRegression\\nfrom sklearn.model_selection import train_test_split\\nimport seaborn as sns\\nimport pickle'); }\n",
       "    "
      ],
      "text/plain": [
       "<IPython.core.display.Javascript object>"
      ]
     },
     "metadata": {},
     "output_type": "display_data"
    },
    {
     "data": {
      "application/javascript": [
       "\n",
       "        if (window._pyforest_update_imports_cell) { window._pyforest_update_imports_cell('import pandas as pd\\nfrom sklearn.preprocessing import LabelEncoder\\nimport plotly.graph_objs as go\\nfrom sklearn.ensemble import RandomForestRegressor\\nimport matplotlib.pyplot as plt\\nfrom sklearn.linear_model import LinearRegression\\nfrom sklearn.model_selection import train_test_split\\nimport seaborn as sns\\nimport pickle'); }\n",
       "    "
      ],
      "text/plain": [
       "<IPython.core.display.Javascript object>"
      ]
     },
     "metadata": {},
     "output_type": "display_data"
    },
    {
     "data": {
      "application/javascript": [
       "\n",
       "        if (window._pyforest_update_imports_cell) { window._pyforest_update_imports_cell('import pandas as pd\\nfrom sklearn.preprocessing import LabelEncoder\\nimport plotly.graph_objs as go\\nfrom sklearn.ensemble import RandomForestRegressor\\nimport matplotlib.pyplot as plt\\nfrom sklearn.linear_model import LinearRegression\\nfrom sklearn.model_selection import train_test_split\\nimport seaborn as sns\\nimport pickle'); }\n",
       "    "
      ],
      "text/plain": [
       "<IPython.core.display.Javascript object>"
      ]
     },
     "metadata": {},
     "output_type": "display_data"
    },
    {
     "data": {
      "application/javascript": [
       "\n",
       "        if (window._pyforest_update_imports_cell) { window._pyforest_update_imports_cell('import pandas as pd\\nfrom sklearn.preprocessing import LabelEncoder\\nimport plotly.graph_objs as go\\nfrom sklearn.ensemble import RandomForestRegressor\\nimport matplotlib.pyplot as plt\\nfrom sklearn.linear_model import LinearRegression\\nfrom sklearn.model_selection import train_test_split\\nimport seaborn as sns\\nimport pickle'); }\n",
       "    "
      ],
      "text/plain": [
       "<IPython.core.display.Javascript object>"
      ]
     },
     "metadata": {},
     "output_type": "display_data"
    },
    {
     "data": {
      "image/png": "[encoded data removed]",
      "text/plain": [
       "<Figure size 600x600 with 1 Axes>"
      ]
     },
     "metadata": {},
     "output_type": "display_data"
    }
   ],
   "source": [
    "x = df['book_table'].value_counts()\n",
    "plt.figure(figsize=(6, 6))\n",
    "plt.pie(x, labels=x, autopct='%1.1f%%', startangle=140)\n",
    "plt.axis('equal')\n",
    "plt.title('Pie Chart')\n",
    "plt.show()"
   ]
  },
  {
   "cell_type": "code",
   "execution_count": 412,
   "id": "f4d3eaeb",
   "metadata": {
    "ExecuteTime": {
     "end_time": "2024-03-28T22:39:27.070636Z",
     "start_time": "2024-03-28T22:39:27.050573Z"
    }
   },
   "outputs": [
    {
     "data": {
      "text/html": [
       "<div>\n",
       "<style scoped>\n",
       "    .dataframe tbody tr th:only-of-type {\n",
       "        vertical-align: middle;\n",
       "    }\n",
       "\n",
       "    .dataframe tbody tr th {\n",
       "        vertical-align: top;\n",
       "    }\n",
       "\n",
       "    .dataframe thead th {\n",
       "        text-align: right;\n",
       "    }\n",
       "</style>\n",
       "<table border=\"1\" class=\"dataframe\">\n",
       "  <thead>\n",
       "    <tr style=\"text-align: right;\">\n",
       "      <th></th>\n",
       "      <th>address</th>\n",
       "      <th>name</th>\n",
       "      <th>online_order</th>\n",
       "      <th>book_table</th>\n",
       "      <th>rate</th>\n",
       "      <th>votes</th>\n",
       "      <th>location</th>\n",
       "      <th>rest_type</th>\n",
       "      <th>dish_liked</th>\n",
       "      <th>cuisines</th>\n",
       "      <th>cost</th>\n",
       "      <th>reviews_list</th>\n",
       "      <th>menu_item</th>\n",
       "      <th>type</th>\n",
       "      <th>city</th>\n",
       "    </tr>\n",
       "  </thead>\n",
       "  <tbody>\n",
       "    <tr>\n",
       "      <th>0</th>\n",
       "      <td>942, 21st Main Road, 2nd Stage, Banashankari, ...</td>\n",
       "      <td>Jalsa</td>\n",
       "      <td>Yes</td>\n",
       "      <td>Yes</td>\n",
       "      <td>4.1</td>\n",
       "      <td>775</td>\n",
       "      <td>Banashankari</td>\n",
       "      <td>Casual Dining</td>\n",
       "      <td>Pasta, Lunch Buffet, Masala Papad, Paneer Laja...</td>\n",
       "      <td>North Indian, Mughlai, Chinese</td>\n",
       "      <td>800.0</td>\n",
       "      <td>[('Rated 4.0', 'RATED\\n  A beautiful place to ...</td>\n",
       "      <td>[]</td>\n",
       "      <td>Buffet</td>\n",
       "      <td>Banashankari</td>\n",
       "    </tr>\n",
       "    <tr>\n",
       "      <th>1</th>\n",
       "      <td>2nd Floor, 80 Feet Road, Near Big Bazaar, 6th ...</td>\n",
       "      <td>Spice Elephant</td>\n",
       "      <td>Yes</td>\n",
       "      <td>No</td>\n",
       "      <td>4.1</td>\n",
       "      <td>787</td>\n",
       "      <td>Banashankari</td>\n",
       "      <td>Casual Dining</td>\n",
       "      <td>Momos, Lunch Buffet, Chocolate Nirvana, Thai G...</td>\n",
       "      <td>Chinese, North Indian, Thai</td>\n",
       "      <td>800.0</td>\n",
       "      <td>[('Rated 4.0', 'RATED\\n  Had been here for din...</td>\n",
       "      <td>[]</td>\n",
       "      <td>Buffet</td>\n",
       "      <td>Banashankari</td>\n",
       "    </tr>\n",
       "    <tr>\n",
       "      <th>2</th>\n",
       "      <td>1112, Next to KIMS Medical College, 17th Cross...</td>\n",
       "      <td>San Churro Cafe</td>\n",
       "      <td>Yes</td>\n",
       "      <td>No</td>\n",
       "      <td>3.8</td>\n",
       "      <td>918</td>\n",
       "      <td>Banashankari</td>\n",
       "      <td>Cafe, Casual Dining</td>\n",
       "      <td>Churros, Cannelloni, Minestrone Soup, Hot Choc...</td>\n",
       "      <td>Cafe, Mexican, Italian</td>\n",
       "      <td>800.0</td>\n",
       "      <td>[('Rated 3.0', \"RATED\\n  Ambience is not that ...</td>\n",
       "      <td>[]</td>\n",
       "      <td>Buffet</td>\n",
       "      <td>Banashankari</td>\n",
       "    </tr>\n",
       "    <tr>\n",
       "      <th>3</th>\n",
       "      <td>1st Floor, Annakuteera, 3rd Stage, Banashankar...</td>\n",
       "      <td>Addhuri Udupi Bhojana</td>\n",
       "      <td>No</td>\n",
       "      <td>No</td>\n",
       "      <td>3.7</td>\n",
       "      <td>88</td>\n",
       "      <td>Banashankari</td>\n",
       "      <td>Quick Bites</td>\n",
       "      <td>Masala Dosa</td>\n",
       "      <td>South Indian, North Indian</td>\n",
       "      <td>300.0</td>\n",
       "      <td>[('Rated 4.0', \"RATED\\n  Great food and proper...</td>\n",
       "      <td>[]</td>\n",
       "      <td>Buffet</td>\n",
       "      <td>Banashankari</td>\n",
       "    </tr>\n",
       "    <tr>\n",
       "      <th>4</th>\n",
       "      <td>10, 3rd Floor, Lakshmi Associates, Gandhi Baza...</td>\n",
       "      <td>Grand Village</td>\n",
       "      <td>No</td>\n",
       "      <td>No</td>\n",
       "      <td>3.8</td>\n",
       "      <td>166</td>\n",
       "      <td>Basavanagudi</td>\n",
       "      <td>Casual Dining</td>\n",
       "      <td>Panipuri, Gol Gappe</td>\n",
       "      <td>North Indian, Rajasthani</td>\n",
       "      <td>600.0</td>\n",
       "      <td>[('Rated 4.0', 'RATED\\n  Very good restaurant ...</td>\n",
       "      <td>[]</td>\n",
       "      <td>Buffet</td>\n",
       "      <td>Banashankari</td>\n",
       "    </tr>\n",
       "    <tr>\n",
       "      <th>...</th>\n",
       "      <td>...</td>\n",
       "      <td>...</td>\n",
       "      <td>...</td>\n",
       "      <td>...</td>\n",
       "      <td>...</td>\n",
       "      <td>...</td>\n",
       "      <td>...</td>\n",
       "      <td>...</td>\n",
       "      <td>...</td>\n",
       "      <td>...</td>\n",
       "      <td>...</td>\n",
       "      <td>...</td>\n",
       "      <td>...</td>\n",
       "      <td>...</td>\n",
       "      <td>...</td>\n",
       "    </tr>\n",
       "    <tr>\n",
       "      <th>6384</th>\n",
       "      <td>KFDC Ltd, Cubbon Park, K.R.Circle, Lavelle Roa...</td>\n",
       "      <td>Mathsya Darshini</td>\n",
       "      <td>No</td>\n",
       "      <td>No</td>\n",
       "      <td>3.2</td>\n",
       "      <td>57</td>\n",
       "      <td>Lavelle Road</td>\n",
       "      <td>Quick Bites</td>\n",
       "      <td>Sea Food, Fish Fry, Fish Curry, Fish Kebab, Bu...</td>\n",
       "      <td>Seafood, Mangalorean</td>\n",
       "      <td>350.0</td>\n",
       "      <td>[('Rated 3.0', 'RATED\\n  Its a darshini inside...</td>\n",
       "      <td>[]</td>\n",
       "      <td>Dine-out</td>\n",
       "      <td>Brigade Road</td>\n",
       "    </tr>\n",
       "    <tr>\n",
       "      <th>6385</th>\n",
       "      <td>15/4 Museum Road, Oppsite SBI Gate No 2, Shant...</td>\n",
       "      <td>SGS Non Veg - Gundu Pulav</td>\n",
       "      <td>Yes</td>\n",
       "      <td>No</td>\n",
       "      <td>3.9</td>\n",
       "      <td>55</td>\n",
       "      <td>St. Marks Road</td>\n",
       "      <td>Quick Bites</td>\n",
       "      <td>Chilli Chicken</td>\n",
       "      <td>Biryani, Fast Food</td>\n",
       "      <td>400.0</td>\n",
       "      <td>[('Rated 4.0', 'RATED\\n  Loved the chicken pul...</td>\n",
       "      <td>[]</td>\n",
       "      <td>Dine-out</td>\n",
       "      <td>Brigade Road</td>\n",
       "    </tr>\n",
       "    <tr>\n",
       "      <th>6386</th>\n",
       "      <td>12/1, Hayes Road, Residency Road, Bangalore</td>\n",
       "      <td>Masala Oota</td>\n",
       "      <td>Yes</td>\n",
       "      <td>No</td>\n",
       "      <td>3.6</td>\n",
       "      <td>79</td>\n",
       "      <td>Residency Road</td>\n",
       "      <td>Quick Bites</td>\n",
       "      <td>Donne Chicken Biryani, Akki Rottis, Roti, Mutt...</td>\n",
       "      <td>South Indian, Biryani</td>\n",
       "      <td>500.0</td>\n",
       "      <td>[('Rated 4.0', 'RATED\\n  A surprisingly large ...</td>\n",
       "      <td>[]</td>\n",
       "      <td>Dine-out</td>\n",
       "      <td>Brigade Road</td>\n",
       "    </tr>\n",
       "    <tr>\n",
       "      <th>6391</th>\n",
       "      <td>2, Church Street, Bangalore</td>\n",
       "      <td>Mel's Korner</td>\n",
       "      <td>No</td>\n",
       "      <td>No</td>\n",
       "      <td>3.8</td>\n",
       "      <td>95</td>\n",
       "      <td>Church Street</td>\n",
       "      <td>Quick Bites</td>\n",
       "      <td>Shawarma, Burgers, Beef Burger, Potato Wedges,...</td>\n",
       "      <td>Fast Food</td>\n",
       "      <td>500.0</td>\n",
       "      <td>[('Rated 5.0', \"RATED\\n  Mel's Korner in churc...</td>\n",
       "      <td>[]</td>\n",
       "      <td>Dine-out</td>\n",
       "      <td>Brigade Road</td>\n",
       "    </tr>\n",
       "    <tr>\n",
       "      <th>6392</th>\n",
       "      <td>22-A, MG Road, Bangalore</td>\n",
       "      <td>Hotel Ajantha</td>\n",
       "      <td>No</td>\n",
       "      <td>No</td>\n",
       "      <td>3.9</td>\n",
       "      <td>77</td>\n",
       "      <td>MG Road</td>\n",
       "      <td>Quick Bites</td>\n",
       "      <td>Masala Dosa, Filter Coffee, Vada, Akki Rottis,...</td>\n",
       "      <td>South Indian</td>\n",
       "      <td>200.0</td>\n",
       "      <td>[('Rated 3.0', \"RATED\\n  Set out in a corner, ...</td>\n",
       "      <td>[]</td>\n",
       "      <td>Dine-out</td>\n",
       "      <td>Brigade Road</td>\n",
       "    </tr>\n",
       "  </tbody>\n",
       "</table>\n",
       "<p>2816 rows × 15 columns</p>\n",
       "</div>"
      ],
      "text/plain": [
       "                                                address  \\\n",
       "0     942, 21st Main Road, 2nd Stage, Banashankari, ...   \n",
       "1     2nd Floor, 80 Feet Road, Near Big Bazaar, 6th ...   \n",
       "2     1112, Next to KIMS Medical College, 17th Cross...   \n",
       "3     1st Floor, Annakuteera, 3rd Stage, Banashankar...   \n",
       "4     10, 3rd Floor, Lakshmi Associates, Gandhi Baza...   \n",
       "...                                                 ...   \n",
       "6384  KFDC Ltd, Cubbon Park, K.R.Circle, Lavelle Roa...   \n",
       "6385  15/4 Museum Road, Oppsite SBI Gate No 2, Shant...   \n",
       "6386        12/1, Hayes Road, Residency Road, Bangalore   \n",
       "6391                        2, Church Street, Bangalore   \n",
       "6392                           22-A, MG Road, Bangalore   \n",
       "\n",
       "                           name online_order book_table rate  votes  \\\n",
       "0                         Jalsa          Yes        Yes  4.1    775   \n",
       "1                Spice Elephant          Yes         No  4.1    787   \n",
       "2               San Churro Cafe          Yes         No  3.8    918   \n",
       "3         Addhuri Udupi Bhojana           No         No  3.7     88   \n",
       "4                 Grand Village           No         No  3.8    166   \n",
       "...                         ...          ...        ...  ...    ...   \n",
       "6384           Mathsya Darshini           No         No  3.2     57   \n",
       "6385  SGS Non Veg - Gundu Pulav          Yes         No  3.9     55   \n",
       "6386                Masala Oota          Yes         No  3.6     79   \n",
       "6391               Mel's Korner           No         No  3.8     95   \n",
       "6392              Hotel Ajantha           No         No  3.9     77   \n",
       "\n",
       "            location            rest_type  \\\n",
       "0       Banashankari        Casual Dining   \n",
       "1       Banashankari        Casual Dining   \n",
       "2       Banashankari  Cafe, Casual Dining   \n",
       "3       Banashankari          Quick Bites   \n",
       "4       Basavanagudi        Casual Dining   \n",
       "...              ...                  ...   \n",
       "6384    Lavelle Road          Quick Bites   \n",
       "6385  St. Marks Road          Quick Bites   \n",
       "6386  Residency Road          Quick Bites   \n",
       "6391   Church Street          Quick Bites   \n",
       "6392         MG Road          Quick Bites   \n",
       "\n",
       "                                             dish_liked  \\\n",
       "0     Pasta, Lunch Buffet, Masala Papad, Paneer Laja...   \n",
       "1     Momos, Lunch Buffet, Chocolate Nirvana, Thai G...   \n",
       "2     Churros, Cannelloni, Minestrone Soup, Hot Choc...   \n",
       "3                                           Masala Dosa   \n",
       "4                                   Panipuri, Gol Gappe   \n",
       "...                                                 ...   \n",
       "6384  Sea Food, Fish Fry, Fish Curry, Fish Kebab, Bu...   \n",
       "6385                                     Chilli Chicken   \n",
       "6386  Donne Chicken Biryani, Akki Rottis, Roti, Mutt...   \n",
       "6391  Shawarma, Burgers, Beef Burger, Potato Wedges,...   \n",
       "6392  Masala Dosa, Filter Coffee, Vada, Akki Rottis,...   \n",
       "\n",
       "                            cuisines   cost  \\\n",
       "0     North Indian, Mughlai, Chinese  800.0   \n",
       "1        Chinese, North Indian, Thai  800.0   \n",
       "2             Cafe, Mexican, Italian  800.0   \n",
       "3         South Indian, North Indian  300.0   \n",
       "4           North Indian, Rajasthani  600.0   \n",
       "...                              ...    ...   \n",
       "6384            Seafood, Mangalorean  350.0   \n",
       "6385              Biryani, Fast Food  400.0   \n",
       "6386           South Indian, Biryani  500.0   \n",
       "6391                       Fast Food  500.0   \n",
       "6392                    South Indian  200.0   \n",
       "\n",
       "                                           reviews_list menu_item      type  \\\n",
       "0     [('Rated 4.0', 'RATED\\n  A beautiful place to ...        []    Buffet   \n",
       "1     [('Rated 4.0', 'RATED\\n  Had been here for din...        []    Buffet   \n",
       "2     [('Rated 3.0', \"RATED\\n  Ambience is not that ...        []    Buffet   \n",
       "3     [('Rated 4.0', \"RATED\\n  Great food and proper...        []    Buffet   \n",
       "4     [('Rated 4.0', 'RATED\\n  Very good restaurant ...        []    Buffet   \n",
       "...                                                 ...       ...       ...   \n",
       "6384  [('Rated 3.0', 'RATED\\n  Its a darshini inside...        []  Dine-out   \n",
       "6385  [('Rated 4.0', 'RATED\\n  Loved the chicken pul...        []  Dine-out   \n",
       "6386  [('Rated 4.0', 'RATED\\n  A surprisingly large ...        []  Dine-out   \n",
       "6391  [('Rated 5.0', \"RATED\\n  Mel's Korner in churc...        []  Dine-out   \n",
       "6392  [('Rated 3.0', \"RATED\\n  Set out in a corner, ...        []  Dine-out   \n",
       "\n",
       "              city  \n",
       "0     Banashankari  \n",
       "1     Banashankari  \n",
       "2     Banashankari  \n",
       "3     Banashankari  \n",
       "4     Banashankari  \n",
       "...            ...  \n",
       "6384  Brigade Road  \n",
       "6385  Brigade Road  \n",
       "6386  Brigade Road  \n",
       "6391  Brigade Road  \n",
       "6392  Brigade Road  \n",
       "\n",
       "[2816 rows x 15 columns]"
      ]
     },
     "execution_count": 412,
     "metadata": {},
     "output_type": "execute_result"
    }
   ],
   "source": [
    "#online order\n",
    "df\n"
   ]
  },
  {
   "cell_type": "code",
   "execution_count": 413,
   "id": "6825c063",
   "metadata": {
    "ExecuteTime": {
     "end_time": "2024-03-28T22:39:28.550433Z",
     "start_time": "2024-03-28T22:39:28.540258Z"
    }
   },
   "outputs": [
    {
     "data": {
      "text/plain": [
       "dtype('O')"
      ]
     },
     "execution_count": 413,
     "metadata": {},
     "output_type": "execute_result"
    }
   ],
   "source": [
    "df['rate'].dtypes"
   ]
  },
  {
   "cell_type": "code",
   "execution_count": 414,
   "id": "6e93137a",
   "metadata": {},
   "outputs": [
    {
     "data": {
      "application/javascript": [
       "\n",
       "        if (window._pyforest_update_imports_cell) { window._pyforest_update_imports_cell('import pandas as pd\\nfrom sklearn.preprocessing import LabelEncoder\\nimport plotly.graph_objs as go\\nfrom sklearn.ensemble import RandomForestRegressor\\nimport matplotlib.pyplot as plt\\nfrom sklearn.linear_model import LinearRegression\\nfrom sklearn.model_selection import train_test_split\\nimport seaborn as sns\\nimport pickle'); }\n",
       "    "
      ],
      "text/plain": [
       "<IPython.core.display.Javascript object>"
      ]
     },
     "metadata": {},
     "output_type": "display_data"
    },
    {
     "data": {
      "application/javascript": [
       "\n",
       "        if (window._pyforest_update_imports_cell) { window._pyforest_update_imports_cell('import pandas as pd\\nfrom sklearn.preprocessing import LabelEncoder\\nimport plotly.graph_objs as go\\nfrom sklearn.ensemble import RandomForestRegressor\\nimport matplotlib.pyplot as plt\\nfrom sklearn.linear_model import LinearRegression\\nfrom sklearn.model_selection import train_test_split\\nimport seaborn as sns\\nimport pickle'); }\n",
       "    "
      ],
      "text/plain": [
       "<IPython.core.display.Javascript object>"
      ]
     },
     "metadata": {},
     "output_type": "display_data"
    },
    {
     "data": {
      "application/javascript": [
       "\n",
       "        if (window._pyforest_update_imports_cell) { window._pyforest_update_imports_cell('import pandas as pd\\nfrom sklearn.preprocessing import LabelEncoder\\nimport plotly.graph_objs as go\\nfrom sklearn.ensemble import RandomForestRegressor\\nimport matplotlib.pyplot as plt\\nfrom sklearn.linear_model import LinearRegression\\nfrom sklearn.model_selection import train_test_split\\nimport seaborn as sns\\nimport pickle'); }\n",
       "    "
      ],
      "text/plain": [
       "<IPython.core.display.Javascript object>"
      ]
     },
     "metadata": {},
     "output_type": "display_data"
    },
    {
     "data": {
      "application/javascript": [
       "\n",
       "        if (window._pyforest_update_imports_cell) { window._pyforest_update_imports_cell('import pandas as pd\\nfrom sklearn.preprocessing import LabelEncoder\\nimport plotly.graph_objs as go\\nfrom sklearn.ensemble import RandomForestRegressor\\nimport matplotlib.pyplot as plt\\nfrom sklearn.linear_model import LinearRegression\\nfrom sklearn.model_selection import train_test_split\\nimport seaborn as sns\\nimport pickle'); }\n",
       "    "
      ],
      "text/plain": [
       "<IPython.core.display.Javascript object>"
      ]
     },
     "metadata": {},
     "output_type": "display_data"
    },
    {
     "data": {
      "application/javascript": [
       "\n",
       "        if (window._pyforest_update_imports_cell) { window._pyforest_update_imports_cell('import pandas as pd\\nfrom sklearn.preprocessing import LabelEncoder\\nimport plotly.graph_objs as go\\nfrom sklearn.ensemble import RandomForestRegressor\\nimport matplotlib.pyplot as plt\\nfrom sklearn.linear_model import LinearRegression\\nfrom sklearn.model_selection import train_test_split\\nimport seaborn as sns\\nimport pickle'); }\n",
       "    "
      ],
      "text/plain": [
       "<IPython.core.display.Javascript object>"
      ]
     },
     "metadata": {},
     "output_type": "display_data"
    },
    {
     "data": {
      "application/javascript": [
       "\n",
       "        if (window._pyforest_update_imports_cell) { window._pyforest_update_imports_cell('import pandas as pd\\nfrom sklearn.preprocessing import LabelEncoder\\nimport plotly.graph_objs as go\\nfrom sklearn.ensemble import RandomForestRegressor\\nimport matplotlib.pyplot as plt\\nfrom sklearn.linear_model import LinearRegression\\nfrom sklearn.model_selection import train_test_split\\nimport seaborn as sns\\nimport pickle'); }\n",
       "    "
      ],
      "text/plain": [
       "<IPython.core.display.Javascript object>"
      ]
     },
     "metadata": {},
     "output_type": "display_data"
    },
    {
     "data": {
      "application/javascript": [
       "\n",
       "        if (window._pyforest_update_imports_cell) { window._pyforest_update_imports_cell('import pandas as pd\\nfrom sklearn.preprocessing import LabelEncoder\\nimport plotly.graph_objs as go\\nfrom sklearn.ensemble import RandomForestRegressor\\nimport matplotlib.pyplot as plt\\nfrom sklearn.linear_model import LinearRegression\\nfrom sklearn.model_selection import train_test_split\\nimport seaborn as sns\\nimport pickle'); }\n",
       "    "
      ],
      "text/plain": [
       "<IPython.core.display.Javascript object>"
      ]
     },
     "metadata": {},
     "output_type": "display_data"
    },
    {
     "data": {
      "image/png": "[encoded data removed]",
      "text/plain": [
       "<Figure size 800x800 with 1 Axes>"
      ]
     },
     "metadata": {},
     "output_type": "display_data"
    }
   ],
   "source": [
    "plt.figure(figsize=(8, 8))\n",
    "plt.scatter(df['votes'], df['rate'], color='blue', alpha=0.5)\n",
    "plt.title('Scatter Plot of Votes vs Rate')\n",
    "plt.xlabel('Votes')\n",
    "plt.ylabel('Rate')\n",
    "plt.grid(False)\n",
    "plt.show()\n"
   ]
  },
  {
   "cell_type": "code",
   "execution_count": 415,
   "id": "74cad169",
   "metadata": {
    "ExecuteTime": {
     "end_time": "2024-03-28T22:39:30.318438Z",
     "start_time": "2024-03-28T22:39:29.938022Z"
    }
   },
   "outputs": [
    {
     "data": {
      "application/javascript": [
       "\n",
       "        if (window._pyforest_update_imports_cell) { window._pyforest_update_imports_cell('import pandas as pd\\nfrom sklearn.preprocessing import LabelEncoder\\nimport plotly.graph_objs as go\\nfrom sklearn.ensemble import RandomForestRegressor\\nimport matplotlib.pyplot as plt\\nfrom sklearn.linear_model import LinearRegression\\nfrom sklearn.model_selection import train_test_split\\nimport seaborn as sns\\nimport pickle'); }\n",
       "    "
      ],
      "text/plain": [
       "<IPython.core.display.Javascript object>"
      ]
     },
     "metadata": {},
     "output_type": "display_data"
    },
    {
     "data": {
      "application/javascript": [
       "\n",
       "        if (window._pyforest_update_imports_cell) { window._pyforest_update_imports_cell('import pandas as pd\\nfrom sklearn.preprocessing import LabelEncoder\\nimport plotly.graph_objs as go\\nfrom sklearn.ensemble import RandomForestRegressor\\nimport matplotlib.pyplot as plt\\nfrom sklearn.linear_model import LinearRegression\\nfrom sklearn.model_selection import train_test_split\\nimport seaborn as sns\\nimport pickle'); }\n",
       "    "
      ],
      "text/plain": [
       "<IPython.core.display.Javascript object>"
      ]
     },
     "metadata": {},
     "output_type": "display_data"
    },
    {
     "data": {
      "text/plain": [
       "<seaborn.axisgrid.FacetGrid at 0x2c5f75bf410>"
      ]
     },
     "execution_count": 415,
     "metadata": {},
     "output_type": "execute_result"
    },
    {
     "data": {
      "text/plain": [
       "<Figure size 900x700 with 0 Axes>"
      ]
     },
     "metadata": {},
     "output_type": "display_data"
    },
    {
     "data": {
      "image/png": "[encoded data removed]",
      "text/plain": [
       "<Figure size 500x500 with 1 Axes>"
      ]
     },
     "metadata": {},
     "output_type": "display_data"
    }
   ],
   "source": [
    "#distribution of review rate\n",
    "df['rate'] = df['rate'].astype(float) #convert first object to float\n",
    "plt.figure(figsize = (9,7))\n",
    "sns.displot(df['rate'],bins=20)"
   ]
  },
  {
   "cell_type": "code",
   "execution_count": 416,
   "id": "814e67c0",
   "metadata": {
    "ExecuteTime": {
     "end_time": "2024-03-28T22:39:31.900628Z",
     "start_time": "2024-03-28T22:39:31.896465Z"
    }
   },
   "outputs": [],
   "source": [
    "#Counting rating betwen 1 and 2,2 and 3, 3 and 4 ,and 4 and 5"
   ]
  },
  {
   "cell_type": "code",
   "execution_count": 417,
   "id": "635fd3dd",
   "metadata": {
    "ExecuteTime": {
     "end_time": "2024-03-28T22:39:33.680306Z",
     "start_time": "2024-03-28T22:39:33.671352Z"
    }
   },
   "outputs": [
    {
     "data": {
      "text/plain": [
       "array([4.1, 3.8, 3.7, 4.6, 4. , 4.2, 3.9, 3. , 3.6, 2.8, 4.4, 3.1, 4.3,\n",
       "       2.6, 3.3, 3.5, 3.2, 4.5, 2.5, 2.9, 3.4, 2.7, 4.7, 2.4, 2.2, 2.3,\n",
       "       4.8, 4.9, 2.1, 2. , 1.8])"
      ]
     },
     "execution_count": 417,
     "metadata": {},
     "output_type": "execute_result"
    }
   ],
   "source": [
    "df['rate'].unique()"
   ]
  },
  {
   "cell_type": "code",
   "execution_count": 418,
   "id": "aad0376a",
   "metadata": {
    "ExecuteTime": {
     "end_time": "2024-03-28T22:39:35.346621Z",
     "start_time": "2024-03-28T22:39:35.338211Z"
    }
   },
   "outputs": [
    {
     "data": {
      "text/plain": [
       "1.8"
      ]
     },
     "execution_count": 418,
     "metadata": {},
     "output_type": "execute_result"
    }
   ],
   "source": [
    "#min\n",
    "df['rate'].min()"
   ]
  },
  {
   "cell_type": "code",
   "execution_count": 419,
   "id": "9dd2390d",
   "metadata": {
    "ExecuteTime": {
     "end_time": "2024-03-28T22:39:36.914165Z",
     "start_time": "2024-03-28T22:39:36.906642Z"
    }
   },
   "outputs": [
    {
     "data": {
      "text/plain": [
       "4.9"
      ]
     },
     "execution_count": 419,
     "metadata": {},
     "output_type": "execute_result"
    }
   ],
   "source": [
    "#max\n",
    "df['rate'].max()"
   ]
  },
  {
   "cell_type": "code",
   "execution_count": 420,
   "id": "c3840aab",
   "metadata": {
    "ExecuteTime": {
     "end_time": "2024-03-28T22:39:38.412334Z",
     "start_time": "2024-03-28T22:39:38.403125Z"
    }
   },
   "outputs": [
    {
     "data": {
      "text/plain": [
       "1"
      ]
     },
     "execution_count": 420,
     "metadata": {},
     "output_type": "execute_result"
    }
   ],
   "source": [
    "#between 1 and 2\n",
    "x1=((df['rate']>=1) & (df['rate']<2)).sum()\n",
    "x1"
   ]
  },
  {
   "cell_type": "code",
   "execution_count": 421,
   "id": "088680e4",
   "metadata": {
    "ExecuteTime": {
     "end_time": "2024-03-28T22:39:39.785556Z",
     "start_time": "2024-03-28T22:39:39.775662Z"
    }
   },
   "outputs": [
    {
     "data": {
      "text/plain": [
       "175"
      ]
     },
     "execution_count": 421,
     "metadata": {},
     "output_type": "execute_result"
    }
   ],
   "source": [
    "#between 2 and 3\n",
    "x2=((df['rate']>=2) & (df['rate']<3)).sum()\n",
    "x2"
   ]
  },
  {
   "cell_type": "code",
   "execution_count": 422,
   "id": "826f5dcc",
   "metadata": {
    "ExecuteTime": {
     "end_time": "2024-03-28T22:39:40.965522Z",
     "start_time": "2024-03-28T22:39:40.955937Z"
    }
   },
   "outputs": [
    {
     "data": {
      "text/plain": [
       "1318"
      ]
     },
     "execution_count": 422,
     "metadata": {},
     "output_type": "execute_result"
    }
   ],
   "source": [
    "#between 3 and 4\n",
    "x3=((df['rate']>=3) & (df['rate']<4)).sum()\n",
    "x3"
   ]
  },
  {
   "cell_type": "code",
   "execution_count": 423,
   "id": "ba006604",
   "metadata": {
    "ExecuteTime": {
     "end_time": "2024-03-28T22:39:42.163581Z",
     "start_time": "2024-03-28T22:39:42.154076Z"
    }
   },
   "outputs": [
    {
     "data": {
      "text/plain": [
       "1322"
      ]
     },
     "execution_count": 423,
     "metadata": {},
     "output_type": "execute_result"
    }
   ],
   "source": [
    "#between 4 and 5\n",
    "x4=((df['rate']>=4) & (df['rate']<=5)).sum()\n",
    "x4"
   ]
  },
  {
   "cell_type": "code",
   "execution_count": 424,
   "id": "03b2cb84",
   "metadata": {
    "ExecuteTime": {
     "end_time": "2024-03-28T22:39:43.502575Z",
     "start_time": "2024-03-28T22:39:43.497487Z"
    }
   },
   "outputs": [],
   "source": [
    "slices = [x1,x2,x3,x4]\n"
   ]
  },
  {
   "cell_type": "code",
   "execution_count": 425,
   "id": "7fad0387",
   "metadata": {
    "ExecuteTime": {
     "end_time": "2024-03-28T22:39:48.203612Z",
     "start_time": "2024-03-28T22:39:48.084620Z"
    }
   },
   "outputs": [
    {
     "data": {
      "application/javascript": [
       "\n",
       "        if (window._pyforest_update_imports_cell) { window._pyforest_update_imports_cell('import pandas as pd\\nfrom sklearn.preprocessing import LabelEncoder\\nimport plotly.graph_objs as go\\nfrom sklearn.ensemble import RandomForestRegressor\\nimport matplotlib.pyplot as plt\\nfrom sklearn.linear_model import LinearRegression\\nfrom sklearn.model_selection import train_test_split\\nimport seaborn as sns\\nimport pickle'); }\n",
       "    "
      ],
      "text/plain": [
       "<IPython.core.display.Javascript object>"
      ]
     },
     "metadata": {},
     "output_type": "display_data"
    },
    {
     "data": {
      "application/javascript": [
       "\n",
       "        if (window._pyforest_update_imports_cell) { window._pyforest_update_imports_cell('import pandas as pd\\nfrom sklearn.preprocessing import LabelEncoder\\nimport plotly.graph_objs as go\\nfrom sklearn.ensemble import RandomForestRegressor\\nimport matplotlib.pyplot as plt\\nfrom sklearn.linear_model import LinearRegression\\nfrom sklearn.model_selection import train_test_split\\nimport seaborn as sns\\nimport pickle'); }\n",
       "    "
      ],
      "text/plain": [
       "<IPython.core.display.Javascript object>"
      ]
     },
     "metadata": {},
     "output_type": "display_data"
    },
    {
     "data": {
      "application/javascript": [
       "\n",
       "        if (window._pyforest_update_imports_cell) { window._pyforest_update_imports_cell('import pandas as pd\\nfrom sklearn.preprocessing import LabelEncoder\\nimport plotly.graph_objs as go\\nfrom sklearn.ensemble import RandomForestRegressor\\nimport matplotlib.pyplot as plt\\nfrom sklearn.linear_model import LinearRegression\\nfrom sklearn.model_selection import train_test_split\\nimport seaborn as sns\\nimport pickle'); }\n",
       "    "
      ],
      "text/plain": [
       "<IPython.core.display.Javascript object>"
      ]
     },
     "metadata": {},
     "output_type": "display_data"
    },
    {
     "data": {
      "application/javascript": [
       "\n",
       "        if (window._pyforest_update_imports_cell) { window._pyforest_update_imports_cell('import pandas as pd\\nfrom sklearn.preprocessing import LabelEncoder\\nimport plotly.graph_objs as go\\nfrom sklearn.ensemble import RandomForestRegressor\\nimport matplotlib.pyplot as plt\\nfrom sklearn.linear_model import LinearRegression\\nfrom sklearn.model_selection import train_test_split\\nimport seaborn as sns\\nimport pickle'); }\n",
       "    "
      ],
      "text/plain": [
       "<IPython.core.display.Javascript object>"
      ]
     },
     "metadata": {},
     "output_type": "display_data"
    },
    {
     "data": {
      "application/javascript": [
       "\n",
       "        if (window._pyforest_update_imports_cell) { window._pyforest_update_imports_cell('import pandas as pd\\nfrom sklearn.preprocessing import LabelEncoder\\nimport plotly.graph_objs as go\\nfrom sklearn.ensemble import RandomForestRegressor\\nimport matplotlib.pyplot as plt\\nfrom sklearn.linear_model import LinearRegression\\nfrom sklearn.model_selection import train_test_split\\nimport seaborn as sns\\nimport pickle'); }\n",
       "    "
      ],
      "text/plain": [
       "<IPython.core.display.Javascript object>"
      ]
     },
     "metadata": {},
     "output_type": "display_data"
    },
    {
     "data": {
      "image/png": "[encoded data removed]",
      "text/plain": [
       "<Figure size 600x600 with 1 Axes>"
      ]
     },
     "metadata": {},
     "output_type": "display_data"
    }
   ],
   "source": [
    "label=['1<rating<2','2<rating<3','3<rating<4','4<rating<5']\n",
    "\n",
    "plt.figure(figsize=(6, 6))\n",
    "plt.pie(slices, labels=label, autopct='%1.1f%%' ,pctdistance=.5)\n",
    "fig = plt.gcf()\n",
    "plt.title('Restauring Reviews %')\n",
    "plt.show()"
   ]
  },
  {
   "cell_type": "code",
   "execution_count": 426,
   "id": "6adbcb18",
   "metadata": {
    "ExecuteTime": {
     "end_time": "2024-03-28T22:39:50.912668Z",
     "start_time": "2024-03-28T22:39:50.302187Z"
    }
   },
   "outputs": [
    {
     "data": {
      "application/javascript": [
       "\n",
       "        if (window._pyforest_update_imports_cell) { window._pyforest_update_imports_cell('import pandas as pd\\nfrom sklearn.preprocessing import LabelEncoder\\nimport plotly.graph_objs as go\\nfrom sklearn.ensemble import RandomForestRegressor\\nimport matplotlib.pyplot as plt\\nfrom sklearn.linear_model import LinearRegression\\nfrom sklearn.model_selection import train_test_split\\nimport seaborn as sns\\nimport pickle'); }\n",
       "    "
      ],
      "text/plain": [
       "<IPython.core.display.Javascript object>"
      ]
     },
     "metadata": {},
     "output_type": "display_data"
    },
    {
     "data": {
      "application/javascript": [
       "\n",
       "        if (window._pyforest_update_imports_cell) { window._pyforest_update_imports_cell('import pandas as pd\\nfrom sklearn.preprocessing import LabelEncoder\\nimport plotly.graph_objs as go\\nfrom sklearn.ensemble import RandomForestRegressor\\nimport matplotlib.pyplot as plt\\nfrom sklearn.linear_model import LinearRegression\\nfrom sklearn.model_selection import train_test_split\\nimport seaborn as sns\\nimport pickle'); }\n",
       "    "
      ],
      "text/plain": [
       "<IPython.core.display.Javascript object>"
      ]
     },
     "metadata": {},
     "output_type": "display_data"
    },
    {
     "data": {
      "text/plain": [
       "[Text(0.5, 0, 'Type of Restaurant'), Text(0.5, 1.0, 'Number')]"
      ]
     },
     "execution_count": 426,
     "metadata": {},
     "output_type": "execute_result"
    },
    {
     "data": {
      "image/png": "[encoded data removed]",
      "text/plain": [
       "<Figure size 640x480 with 1 Axes>"
      ]
     },
     "metadata": {},
     "output_type": "display_data"
    }
   ],
   "source": [
    "#Service Type\n",
    "#sns.countplot(df['type']).set_xticklabels(sns.countplot(df['type']).get_xticklabels(),rotation=90,ha=\"right\")\n",
    "#fig = plt.gcf()\n",
    "#fig.set_size_inches(12,12)\n",
    "#plt.title(\"Type Of Service\")\n",
    "word_counts = {}\n",
    "\n",
    "for word in df['type']:\n",
    "  if word in word_counts:\n",
    "    word_counts[word] += 1\n",
    "  else:\n",
    "    word_counts[word] = 1\n",
    "    \n",
    "my_df = pd.DataFrame(word_counts .items())\n",
    "ax = sns.barplot(x=0, y=1, data=my_df)\n",
    "ax.set(xlabel = 'Type of Restaurant',  title='Number')\n",
    "\n"
   ]
  },
  {
   "cell_type": "code",
   "execution_count": 427,
   "id": "5e7900ff",
   "metadata": {
    "ExecuteTime": {
     "end_time": "2024-03-28T22:39:52.371030Z",
     "start_time": "2024-03-28T22:39:52.349262Z"
    }
   },
   "outputs": [],
   "source": [
    "from plotly.offline import iplot"
   ]
  },
  {
   "cell_type": "code",
   "execution_count": 428,
   "id": "e978b710",
   "metadata": {},
   "outputs": [],
   "source": [
    "lower_bound = df['cost'].quantile(0.1)  # Adjust as needed\n",
    "upper_bound = df['cost'].quantile(0.9)  # Adjust as needed\n",
    "\n",
    "\n",
    "df = df[(df['cost'] >= lower_bound) & (df['cost'] <= upper_bound)]"
   ]
  },
  {
   "cell_type": "code",
   "execution_count": 429,
   "id": "f48e39a3",
   "metadata": {
    "ExecuteTime": {
     "end_time": "2024-03-28T22:39:54.433132Z",
     "start_time": "2024-03-28T22:39:53.705832Z"
    }
   },
   "outputs": [
    {
     "data": {
      "application/javascript": [
       "\n",
       "        if (window._pyforest_update_imports_cell) { window._pyforest_update_imports_cell('import pandas as pd\\nfrom sklearn.preprocessing import LabelEncoder\\nimport plotly.graph_objs as go\\nfrom sklearn.ensemble import RandomForestRegressor\\nimport matplotlib.pyplot as plt\\nfrom sklearn.linear_model import LinearRegression\\nfrom sklearn.model_selection import train_test_split\\nimport seaborn as sns\\nimport pickle'); }\n",
       "    "
      ],
      "text/plain": [
       "<IPython.core.display.Javascript object>"
      ]
     },
     "metadata": {},
     "output_type": "display_data"
    },
    {
     "data": {
      "application/javascript": [
       "\n",
       "        if (window._pyforest_update_imports_cell) { window._pyforest_update_imports_cell('import pandas as pd\\nfrom sklearn.preprocessing import LabelEncoder\\nimport plotly.graph_objs as go\\nfrom sklearn.ensemble import RandomForestRegressor\\nimport matplotlib.pyplot as plt\\nfrom sklearn.linear_model import LinearRegression\\nfrom sklearn.model_selection import train_test_split\\nimport seaborn as sns\\nimport pickle'); }\n",
       "    "
      ],
      "text/plain": [
       "<IPython.core.display.Javascript object>"
      ]
     },
     "metadata": {},
     "output_type": "display_data"
    },
    {
     "data": {
      "application/javascript": [
       "\n",
       "        if (window._pyforest_update_imports_cell) { window._pyforest_update_imports_cell('import pandas as pd\\nfrom sklearn.preprocessing import LabelEncoder\\nimport plotly.graph_objs as go\\nfrom sklearn.ensemble import RandomForestRegressor\\nimport matplotlib.pyplot as plt\\nfrom sklearn.linear_model import LinearRegression\\nfrom sklearn.model_selection import train_test_split\\nimport seaborn as sns\\nimport pickle'); }\n",
       "    "
      ],
      "text/plain": [
       "<IPython.core.display.Javascript object>"
      ]
     },
     "metadata": {},
     "output_type": "display_data"
    },
    {
     "data": {
      "application/vnd.plotly.v1+json": {
       "config": {
        "plotlyServerURL": "https://plot.ly"
       },
       "data": [
        {
         "marker": {
          "color": "rgb(113,10,100)"
         },
         "name": "Accepting Online Order",
         "type": "box",
         "y": [
          800,
          800,
          800,
          300,
          600,
          600,
          600,
          700,
          550,
          500,
          600,
          500,
          450,
          800,
          650,
          800,
          700,
          300,
          400,
          500,
          600,
          550,
          600,
          500,
          750,
          500,
          650,
          600,
          750,
          500,
          800,
          600,
          400,
          300,
          450,
          850,
          300,
          400,
          750,
          450,
          450,
          800,
          800,
          800,
          850,
          400,
          1200,
          300,
          300,
          350,
          400,
          600,
          600,
          800,
          300,
          400,
          300,
          400,
          300,
          450,
          800,
          500,
          650,
          400,
          500,
          450,
          500,
          750,
          350,
          800,
          400,
          1200,
          300,
          500,
          450,
          250,
          650,
          300,
          700,
          400,
          300,
          350,
          500,
          750,
          550,
          400,
          750,
          650,
          500,
          250,
          500,
          300,
          800,
          700,
          700,
          550,
          1300,
          500,
          700,
          1000,
          750,
          250,
          600,
          650,
          550,
          450,
          450,
          700,
          600,
          400,
          300,
          600,
          700,
          750,
          600,
          600,
          550,
          650,
          500,
          1200,
          650,
          600,
          850,
          400,
          450,
          300,
          500,
          400,
          900,
          550,
          800,
          250,
          1200,
          400,
          500,
          700,
          400,
          400,
          800,
          800,
          600,
          900,
          800,
          400,
          400,
          300,
          650,
          600,
          650,
          700,
          700,
          350,
          300,
          600,
          400,
          600,
          400,
          800,
          400,
          650,
          1200,
          250,
          400,
          700,
          1200,
          800,
          500,
          800,
          600,
          900,
          400,
          250,
          300,
          400,
          350,
          600,
          450,
          400,
          400,
          250,
          600,
          750,
          800,
          1000,
          600,
          750,
          800,
          800,
          450,
          1000,
          700,
          800,
          600,
          300,
          300,
          400,
          700,
          300,
          550,
          750,
          500,
          500,
          500,
          400,
          400,
          800,
          700,
          500,
          400,
          400,
          400,
          600,
          300,
          400,
          750,
          1200,
          350,
          600,
          800,
          800,
          800,
          1300,
          1200,
          700,
          800,
          550,
          500,
          600,
          500,
          800,
          450,
          600,
          850,
          450,
          800,
          800,
          650,
          900,
          700,
          800,
          700,
          300,
          300,
          500,
          400,
          700,
          600,
          800,
          600,
          750,
          600,
          800,
          850,
          800,
          400,
          750,
          650,
          450,
          450,
          500,
          500,
          300,
          500,
          300,
          300,
          600,
          250,
          300,
          350,
          800,
          250,
          350,
          600,
          500,
          300,
          300,
          300,
          450,
          250,
          400,
          250,
          300,
          400,
          350,
          500,
          600,
          350,
          750,
          550,
          600,
          500,
          550,
          1100,
          450,
          300,
          650,
          600,
          250,
          600,
          400,
          800,
          750,
          600,
          800,
          300,
          300,
          700,
          300,
          300,
          450,
          700,
          250,
          300,
          1300,
          1200,
          800,
          800,
          1100,
          900,
          1000,
          750,
          550,
          1200,
          800,
          1000,
          1000,
          1000,
          1000,
          950,
          600,
          700,
          450,
          300,
          400,
          400,
          500,
          600,
          700,
          350,
          650,
          600,
          600,
          800,
          550,
          650,
          600,
          400,
          450,
          550,
          700,
          500,
          800,
          800,
          300,
          400,
          250,
          400,
          300,
          300,
          500,
          400,
          500,
          300,
          700,
          400,
          400,
          450,
          300,
          250,
          600,
          250,
          400,
          350,
          300,
          450,
          400,
          350,
          300,
          400,
          1000,
          650,
          550,
          600,
          300,
          750,
          600,
          400,
          300,
          400,
          600,
          800,
          500,
          800,
          800,
          300,
          700,
          400,
          700,
          600,
          300,
          400,
          600,
          300,
          400,
          750,
          650,
          700,
          300,
          500,
          250,
          550,
          1000,
          900,
          700,
          650,
          500,
          900,
          600,
          1000,
          800,
          250,
          500,
          400,
          450,
          250,
          400,
          300,
          400,
          400,
          400,
          600,
          1200,
          400,
          1000,
          800,
          600,
          700,
          650,
          500,
          300,
          600,
          800,
          600,
          400,
          700,
          300,
          500,
          400,
          500,
          500,
          600,
          250,
          300,
          400,
          300,
          600,
          500,
          450,
          750,
          600,
          1200,
          300,
          600,
          1000,
          400,
          600,
          500,
          500,
          400,
          400,
          600,
          700,
          400,
          500,
          600,
          800,
          600,
          750,
          500,
          300,
          800,
          350,
          1000,
          250,
          400,
          500,
          250,
          400,
          650,
          600,
          800,
          450,
          450,
          600,
          600,
          750,
          350,
          1100,
          600,
          550,
          250,
          400,
          1000,
          600,
          500,
          1200,
          500,
          300,
          500,
          450,
          800,
          250,
          750,
          300,
          500,
          500,
          600,
          700,
          500,
          600,
          1200,
          400,
          400,
          500,
          400,
          800,
          300,
          1000,
          350,
          250,
          500,
          400,
          400,
          300,
          1300,
          400,
          800,
          600,
          250,
          400,
          700,
          1100,
          400,
          800,
          600,
          500,
          600,
          400,
          350,
          1300,
          300,
          400,
          400,
          400,
          1100,
          650,
          300,
          250,
          500,
          750,
          650,
          400,
          650,
          700,
          800,
          500,
          600,
          550,
          1000,
          550,
          500,
          700,
          1100,
          500,
          350,
          500,
          450,
          650,
          650,
          1000,
          450,
          800,
          450,
          250,
          800,
          250,
          500,
          300,
          750,
          500,
          500,
          800,
          450,
          250,
          250,
          600,
          400,
          900,
          600,
          1200,
          1200,
          1200,
          550,
          400,
          600,
          500,
          700,
          350,
          400,
          250,
          500,
          1000,
          500,
          600,
          500,
          750,
          500,
          400,
          800,
          800,
          500,
          400,
          500,
          400,
          400,
          400,
          250,
          450,
          350,
          400,
          300,
          500,
          400,
          400,
          800,
          700,
          500,
          700,
          600,
          300,
          500,
          500,
          550,
          500,
          400,
          600,
          800,
          550,
          1000,
          800,
          700,
          800,
          700,
          650,
          1000,
          700,
          700,
          800,
          400,
          450,
          800,
          300,
          400,
          900,
          500,
          500,
          600,
          550,
          400,
          500,
          500,
          850,
          450,
          700,
          400,
          600,
          500,
          450,
          1000,
          600,
          650,
          600,
          800,
          500,
          800,
          750,
          500,
          400,
          250,
          300,
          1000,
          250,
          800,
          400,
          400,
          500,
          400,
          400,
          600,
          500,
          600,
          800,
          400,
          400,
          600,
          400,
          300,
          400,
          250,
          400,
          350,
          400,
          600,
          600,
          400,
          500,
          300,
          500,
          250,
          750,
          600,
          650,
          250,
          1100,
          350,
          400,
          250,
          250,
          300,
          400,
          600,
          300,
          800,
          250,
          1200,
          1200,
          1300,
          1200,
          800,
          1300,
          1000,
          400,
          1200,
          750,
          1100,
          700,
          1200,
          550,
          1300,
          1000,
          1100,
          1200,
          1300,
          600,
          1000,
          750,
          1000,
          500,
          600,
          700,
          750,
          700,
          300,
          500,
          350,
          400,
          950,
          400,
          450,
          800,
          450,
          550,
          600,
          600,
          500,
          400,
          1000,
          1100,
          400,
          1000,
          500,
          450,
          950,
          600,
          600,
          550,
          450,
          750,
          750,
          800,
          800,
          650,
          700,
          400,
          300,
          600,
          350,
          800,
          300,
          500,
          600,
          500,
          400,
          600,
          550,
          300,
          250,
          400,
          300,
          500,
          400,
          500,
          400,
          300,
          650,
          250,
          900,
          1200,
          800,
          1200,
          1300,
          1200,
          1200,
          1300,
          1100,
          1100,
          1000,
          600,
          600,
          950,
          750,
          800,
          800,
          1000,
          550,
          1350,
          1200,
          800,
          800,
          600,
          700,
          550,
          600,
          500,
          600,
          400,
          800,
          500,
          400,
          800,
          800,
          850,
          700,
          600,
          800,
          700,
          400,
          550,
          650,
          800,
          650,
          700,
          400,
          650,
          550,
          650,
          450,
          400,
          450,
          500,
          400,
          750,
          450,
          500,
          450,
          300,
          800,
          250,
          650,
          600,
          500,
          800,
          400,
          550,
          400,
          300,
          300,
          300,
          800,
          750,
          500,
          300,
          500,
          600,
          400,
          400,
          650,
          500,
          400,
          800,
          750,
          600,
          750,
          650,
          250,
          500,
          350,
          500,
          650,
          600,
          1200,
          250,
          400,
          400,
          550,
          400,
          400,
          400,
          600,
          800,
          350,
          250,
          1200,
          800,
          900,
          400,
          900,
          800,
          300,
          500,
          650,
          800,
          500,
          300,
          500,
          350,
          300,
          250,
          500,
          500,
          500,
          800,
          1200,
          800,
          500,
          500,
          400,
          400,
          600,
          350,
          250,
          1000,
          800,
          500,
          800,
          400,
          800,
          450,
          700,
          700,
          800,
          300,
          300,
          250,
          650,
          600,
          700,
          700,
          400,
          600,
          450,
          400,
          300,
          1000,
          300,
          600,
          600,
          400,
          600,
          300,
          1300,
          800,
          600,
          1200,
          600,
          700,
          800,
          900,
          700,
          300,
          350,
          450,
          400,
          800,
          400,
          700,
          300,
          800,
          600,
          1000,
          700,
          450,
          400,
          400,
          600,
          400,
          300,
          900,
          800,
          650,
          650,
          1200,
          300,
          750,
          400,
          650,
          500,
          400,
          400,
          450,
          900,
          400,
          1100,
          400,
          350,
          400,
          500,
          400,
          700,
          750,
          550,
          650,
          300,
          550,
          300,
          1000,
          700,
          900,
          600,
          1000,
          500,
          250,
          750,
          400,
          700,
          800,
          300,
          750,
          600,
          500,
          600,
          1200,
          600,
          1200,
          800,
          1000,
          800,
          500,
          450,
          400,
          400,
          300,
          450,
          400,
          700,
          800,
          800,
          1200,
          750,
          400,
          900,
          700,
          1200,
          400,
          300,
          800,
          900,
          1000,
          600,
          1000,
          300,
          1000,
          800,
          700,
          800,
          650,
          1350,
          550,
          600,
          950,
          650,
          600,
          400,
          1350,
          300,
          850,
          1200,
          1000,
          550,
          600,
          600,
          650,
          1200,
          1000,
          800,
          300,
          600,
          1200,
          800,
          400,
          800,
          800,
          450,
          800,
          300,
          350,
          550,
          400,
          300,
          400,
          400,
          500,
          400,
          750,
          500,
          400,
          400,
          400,
          400,
          300,
          600,
          400,
          500,
          400,
          400,
          800,
          400,
          800,
          250,
          400,
          400,
          500,
          350,
          500,
          500,
          400,
          400,
          800,
          300,
          400,
          700,
          300,
          400,
          400,
          300,
          500,
          1000,
          750,
          600,
          350,
          600,
          1000,
          750,
          700,
          500,
          550,
          1100,
          550,
          600,
          450,
          650,
          800,
          600,
          500,
          600,
          600,
          400,
          800,
          650,
          400,
          450,
          600,
          700,
          600,
          300,
          250,
          400,
          500,
          400,
          300,
          500,
          250,
          600,
          300,
          300,
          400,
          250,
          500,
          300,
          750,
          400,
          300,
          500,
          600,
          300,
          600,
          600,
          1000,
          600,
          1200,
          950,
          800,
          1000,
          800,
          700,
          1300,
          350,
          800,
          700,
          500,
          1000,
          400,
          350,
          750,
          800,
          900,
          600,
          750,
          800,
          1200,
          800,
          800,
          1200,
          600,
          650,
          800,
          800,
          400,
          1200,
          250,
          800,
          450,
          700,
          1200,
          850,
          700,
          1300,
          600,
          800,
          650,
          700,
          400,
          550,
          1000,
          600,
          650,
          900,
          400,
          800,
          800,
          350,
          900,
          800,
          800,
          750,
          1200,
          800,
          700,
          450,
          650,
          500,
          550,
          1350,
          450,
          800,
          600,
          400,
          400,
          700,
          750,
          1000,
          400,
          900,
          500,
          400,
          400,
          1000,
          550,
          550,
          500,
          300,
          700,
          500,
          1000,
          400,
          1350,
          650,
          250,
          250,
          250,
          300,
          400,
          350,
          250,
          1200,
          650,
          450,
          450,
          700,
          800,
          300,
          250,
          400,
          350,
          500,
          600,
          350,
          300,
          650,
          800,
          850,
          250,
          300,
          300,
          800,
          300,
          400,
          850,
          1000,
          1100,
          1200,
          1200,
          1300,
          1350,
          1000,
          800,
          1400,
          1000,
          1400,
          1200,
          1100,
          1000,
          700,
          800,
          1400,
          1300,
          1300,
          1000,
          1100,
          1300,
          500,
          700,
          400,
          600,
          900,
          600,
          500,
          550,
          1000,
          500,
          600,
          800,
          700,
          400,
          650,
          500,
          450,
          450,
          400,
          400,
          400,
          300,
          300,
          400,
          500,
          300,
          400,
          600,
          700,
          600,
          500,
          800,
          900,
          750,
          550,
          400,
          400,
          800,
          400,
          400,
          300,
          300,
          550,
          600,
          250,
          600,
          300,
          400,
          300,
          600,
          750,
          650,
          750,
          450,
          450,
          600,
          400,
          950,
          400,
          650,
          400,
          500,
          450,
          400,
          500,
          600,
          800,
          500,
          450,
          300,
          800,
          600,
          600,
          1200,
          800,
          500,
          500,
          1400,
          300,
          600,
          600,
          1200,
          500,
          800,
          400,
          800,
          1300,
          700,
          500,
          300,
          400,
          400,
          800,
          1100,
          400,
          600,
          600,
          800,
          750,
          600,
          350,
          300,
          550,
          900,
          300,
          400,
          250,
          800,
          600,
          500,
          1000,
          500,
          250,
          400,
          850,
          500,
          500,
          450,
          1200,
          600,
          700,
          1000,
          600,
          400,
          1100,
          500,
          900,
          250,
          450,
          1000,
          450,
          1000,
          500,
          250,
          500,
          450,
          750,
          800,
          750,
          500,
          1400,
          600,
          600,
          300,
          500,
          500,
          400,
          250,
          900,
          1000,
          700,
          500,
          1200,
          600,
          400,
          1100,
          350,
          400,
          350,
          450,
          600,
          600,
          400,
          250,
          400,
          600,
          1200,
          800,
          1400,
          650,
          400,
          650,
          300,
          300,
          400,
          1400,
          300,
          800,
          800,
          500,
          500,
          1000,
          300,
          500,
          1300,
          1300,
          750,
          600,
          400,
          750,
          600,
          750,
          400,
          400,
          700,
          600,
          800,
          500,
          330,
          250,
          550,
          600,
          1400,
          800,
          600,
          800,
          550,
          500,
          700,
          700,
          300,
          500,
          500,
          500,
          450,
          400,
          800,
          500,
          800,
          400,
          550,
          550,
          450,
          500,
          650,
          300,
          750,
          600,
          300,
          300,
          400,
          1000,
          600,
          700,
          250,
          800,
          300,
          600,
          500,
          300,
          400,
          500,
          400,
          250,
          600,
          500,
          600,
          600,
          900,
          300,
          600,
          500,
          400,
          750,
          700,
          300,
          300,
          350,
          500,
          1100,
          1000,
          1400,
          750,
          1200,
          800,
          1200,
          950,
          600,
          400,
          700,
          600,
          750,
          500,
          400,
          600,
          900,
          400,
          800,
          500,
          650,
          500,
          800,
          1400,
          600,
          500,
          800,
          550,
          500,
          1000,
          400,
          600,
          800,
          900,
          700,
          400,
          500,
          450,
          800,
          550,
          550,
          750,
          400,
          550,
          1000,
          800,
          450,
          300,
          500,
          300,
          400,
          250,
          500,
          600,
          300,
          400,
          500,
          450,
          250,
          350,
          330,
          400,
          600,
          250,
          500,
          400,
          800,
          400,
          450,
          400,
          1400,
          1400,
          1300,
          1400,
          1300,
          1000,
          1400,
          1100,
          1300,
          600,
          700,
          700,
          800,
          500,
          500,
          850,
          800,
          1200,
          900,
          800,
          1000,
          550,
          800,
          300,
          750,
          600,
          600,
          700,
          400,
          500,
          700,
          600,
          600,
          250,
          500,
          250,
          300,
          400,
          550,
          250,
          600,
          400,
          400,
          400,
          500,
          300,
          800,
          300,
          1300,
          1400,
          1000,
          1400,
          1400,
          1200,
          1400,
          1400,
          1100,
          1400,
          1400,
          1200,
          1200,
          800,
          650,
          1000,
          1200,
          1400,
          750,
          500,
          1000,
          1200,
          1200,
          1300,
          1300,
          1000,
          1200,
          1000,
          1400,
          800,
          1000,
          500,
          1200,
          650,
          1300,
          1100,
          750,
          1200,
          500,
          650,
          800,
          350,
          1100,
          800,
          900,
          1000,
          600,
          600,
          650,
          1400,
          750,
          400,
          900,
          700,
          700,
          500,
          700,
          800,
          800,
          750,
          650,
          750,
          500,
          1000,
          1000,
          400,
          1200,
          500,
          500,
          600,
          800,
          1000,
          500,
          600,
          700,
          900,
          1300,
          750,
          1000,
          750,
          300,
          300,
          300,
          500,
          450,
          600,
          800,
          550,
          350,
          250,
          500,
          500,
          350,
          500,
          650,
          500,
          600,
          650,
          400,
          250,
          750,
          750,
          400,
          1200,
          400,
          750,
          400,
          450,
          400,
          800,
          250,
          800,
          500,
          750,
          400,
          650,
          400,
          750,
          650,
          1300,
          1200,
          1200,
          500,
          300,
          600,
          450,
          750,
          1300,
          600,
          350,
          600,
          500,
          500,
          700,
          400,
          400,
          800,
          900,
          400,
          400,
          800,
          300,
          400,
          1300,
          350,
          400,
          500,
          900,
          250,
          1100,
          400,
          700,
          700,
          650,
          700,
          700,
          500,
          300,
          400,
          300,
          400,
          400,
          250,
          350,
          800,
          400,
          600,
          700,
          500,
          700,
          450,
          700,
          300,
          400,
          500,
          500,
          800,
          300,
          750,
          400,
          500,
          750,
          1300,
          1300,
          600,
          850,
          500,
          1000,
          1000,
          700,
          700,
          1000,
          300,
          800,
          950,
          300,
          900,
          800,
          500,
          1000,
          500,
          300,
          1400,
          1300,
          500,
          550,
          600,
          750,
          550,
          550,
          1000,
          700,
          600,
          250,
          1400,
          700,
          400,
          400,
          600,
          400,
          450,
          450,
          500,
          500,
          500,
          1000,
          700,
          300,
          700,
          350,
          450,
          250,
          400,
          400,
          400,
          400,
          700,
          600,
          750,
          700,
          300,
          700,
          1200,
          400,
          800,
          600,
          1000,
          500,
          700,
          600,
          550,
          300,
          500,
          650,
          800,
          650,
          500,
          500,
          650,
          300,
          600,
          750,
          650,
          1000,
          700,
          800,
          800,
          300,
          700,
          600,
          550,
          1000,
          400,
          500,
          1200,
          700,
          750,
          1200,
          800,
          900,
          650,
          800,
          800,
          1300,
          300,
          600,
          1000,
          500,
          1100,
          1400,
          650,
          800,
          450,
          1000,
          600,
          600,
          700,
          1000,
          750,
          1000,
          1400,
          1200,
          850,
          850,
          1000,
          600,
          1200,
          300,
          1000,
          1400,
          1400,
          400,
          1400,
          350,
          800,
          300,
          500,
          1300,
          800,
          400,
          550,
          800,
          1000,
          300,
          800,
          550,
          600,
          1000,
          500,
          1300,
          1000,
          1200,
          1300,
          300,
          550,
          250,
          500,
          700,
          1200,
          1000,
          1200,
          1000,
          550,
          800,
          900,
          1400,
          550,
          400,
          750,
          400,
          900,
          500,
          800,
          500,
          800,
          400,
          800,
          750,
          600,
          1200,
          500,
          400,
          500,
          800,
          1100,
          500,
          300,
          350,
          300,
          250,
          300,
          550,
          500,
          600,
          550,
          400,
          450,
          250,
          450,
          400,
          300,
          800,
          800,
          1000,
          600,
          400,
          1250,
          1400,
          300,
          700,
          700,
          500,
          300,
          400,
          400,
          700,
          1000,
          500,
          400,
          300,
          350,
          400,
          300,
          800,
          400,
          400,
          300,
          900,
          250,
          400,
          400,
          300,
          300,
          500,
          350,
          600,
          900,
          1300,
          750,
          300,
          700,
          1300,
          1100,
          750,
          1200,
          800,
          1100,
          1100,
          500,
          750,
          800,
          700,
          650,
          650,
          350,
          400,
          650,
          700,
          500,
          1300,
          1000,
          600,
          500,
          500,
          800,
          800,
          550,
          450,
          250,
          300,
          400,
          600,
          500,
          300,
          450,
          600,
          800,
          550,
          1100,
          1200,
          1200,
          1300,
          1300,
          1200,
          800,
          1000,
          800,
          700,
          1000,
          1400,
          600,
          800,
          900,
          1200,
          1300,
          1400,
          1000,
          1000,
          600,
          1400,
          550,
          500,
          1000,
          1100,
          650,
          1200,
          1000,
          1400,
          1100,
          600,
          1300,
          1000,
          1300,
          650,
          850,
          750,
          500,
          1000,
          1000,
          1200,
          750,
          1000,
          1400,
          400,
          900,
          1200,
          800,
          1200,
          500,
          700,
          1300,
          1200,
          1000,
          1200,
          1000,
          700,
          1200,
          800,
          1200,
          1000,
          700,
          1300,
          800,
          1000,
          500,
          750,
          800,
          800,
          800,
          1000,
          500,
          750,
          800,
          650,
          950,
          750,
          1000,
          500,
          400,
          550,
          1000,
          600,
          700,
          550,
          1200,
          1000,
          300,
          1300,
          500,
          1000,
          500,
          500,
          1000,
          450,
          1000,
          400,
          650,
          550,
          1200,
          1200,
          1000,
          1000,
          400,
          300,
          1200,
          500,
          500,
          800,
          700,
          1400,
          600,
          600,
          800,
          550,
          850,
          500,
          1400,
          800,
          1000,
          1200,
          250,
          600,
          700,
          500,
          500,
          800,
          600,
          800,
          1200,
          550,
          800,
          800,
          1200,
          800,
          600,
          350,
          700,
          600,
          900,
          600,
          1000,
          600,
          400,
          250,
          700,
          400,
          300,
          500,
          500,
          300,
          500,
          300,
          300,
          300,
          250,
          500,
          300,
          400,
          250,
          350,
          800,
          400,
          350,
          400,
          500,
          500
         ]
        }
       ],
       "layout": {
        "height": 900,
        "template": {
         "data": {
          "bar": [
           {
            "error_x": {
             "color": "#2a3f5f"
            },
            "error_y": {
             "color": "#2a3f5f"
            },
            "marker": {
             "line": {
              "color": "#E5ECF6",
              "width": 0.5
             },
             "pattern": {
              "fillmode": "overlay",
              "size": 10,
              "solidity": 0.2
             }
            },
            "type": "bar"
           }
          ],
          "barpolar": [
           {
            "marker": {
             "line": {
              "color": "#E5ECF6",
              "width": 0.5
             },
             "pattern": {
              "fillmode": "overlay",
              "size": 10,
              "solidity": 0.2
             }
            },
            "type": "barpolar"
           }
          ],
          "carpet": [
           {
            "aaxis": {
             "endlinecolor": "#2a3f5f",
             "gridcolor": "white",
             "linecolor": "white",
             "minorgridcolor": "white",
             "startlinecolor": "#2a3f5f"
            },
            "baxis": {
             "endlinecolor": "#2a3f5f",
             "gridcolor": "white",
             "linecolor": "white",
             "minorgridcolor": "white",
             "startlinecolor": "#2a3f5f"
            },
            "type": "carpet"
           }
          ],
          "choropleth": [
           {
            "colorbar": {
             "outlinewidth": 0,
             "ticks": ""
            },
            "type": "choropleth"
           }
          ],
          "contour": [
           {
            "colorbar": {
             "outlinewidth": 0,
             "ticks": ""
            },
            "colorscale": [
             [
              0,
              "#0d0887"
             ],
             [
              0.1111111111111111,
              "#46039f"
             ],
             [
              0.2222222222222222,
              "#7201a8"
             ],
             [
              0.3333333333333333,
              "#9c179e"
             ],
             [
              0.4444444444444444,
              "#bd3786"
             ],
             [
              0.5555555555555556,
              "#d8576b"
             ],
             [
              0.6666666666666666,
              "#ed7953"
             ],
             [
              0.7777777777777778,
              "#fb9f3a"
             ],
             [
              0.8888888888888888,
              "#fdca26"
             ],
             [
              1,
              "#f0f921"
             ]
            ],
            "type": "contour"
           }
          ],
          "contourcarpet": [
           {
            "colorbar": {
             "outlinewidth": 0,
             "ticks": ""
            },
            "type": "contourcarpet"
           }
          ],
          "heatmap": [
           {
            "colorbar": {
             "outlinewidth": 0,
             "ticks": ""
            },
            "colorscale": [
             [
              0,
              "#0d0887"
             ],
             [
              0.1111111111111111,
              "#46039f"
             ],
             [
              0.2222222222222222,
              "#7201a8"
             ],
             [
              0.3333333333333333,
              "#9c179e"
             ],
             [
              0.4444444444444444,
              "#bd3786"
             ],
             [
              0.5555555555555556,
              "#d8576b"
             ],
             [
              0.6666666666666666,
              "#ed7953"
             ],
             [
              0.7777777777777778,
              "#fb9f3a"
             ],
             [
              0.8888888888888888,
              "#fdca26"
             ],
             [
              1,
              "#f0f921"
             ]
            ],
            "type": "heatmap"
           }
          ],
          "heatmapgl": [
           {
            "colorbar": {
             "outlinewidth": 0,
             "ticks": ""
            },
            "colorscale": [
             [
              0,
              "#0d0887"
             ],
             [
              0.1111111111111111,
              "#46039f"
             ],
             [
              0.2222222222222222,
              "#7201a8"
             ],
             [
              0.3333333333333333,
              "#9c179e"
             ],
             [
              0.4444444444444444,
              "#bd3786"
             ],
             [
              0.5555555555555556,
              "#d8576b"
             ],
             [
              0.6666666666666666,
              "#ed7953"
             ],
             [
              0.7777777777777778,
              "#fb9f3a"
             ],
             [
              0.8888888888888888,
              "#fdca26"
             ],
             [
              1,
              "#f0f921"
             ]
            ],
            "type": "heatmapgl"
           }
          ],
          "histogram": [
           {
            "marker": {
             "pattern": {
              "fillmode": "overlay",
              "size": 10,
              "solidity": 0.2
             }
            },
            "type": "histogram"
           }
          ],
          "histogram2d": [
           {
            "colorbar": {
             "outlinewidth": 0,
             "ticks": ""
            },
            "colorscale": [
             [
              0,
              "#0d0887"
             ],
             [
              0.1111111111111111,
              "#46039f"
             ],
             [
              0.2222222222222222,
              "#7201a8"
             ],
             [
              0.3333333333333333,
              "#9c179e"
             ],
             [
              0.4444444444444444,
              "#bd3786"
             ],
             [
              0.5555555555555556,
              "#d8576b"
             ],
             [
              0.6666666666666666,
              "#ed7953"
             ],
             [
              0.7777777777777778,
              "#fb9f3a"
             ],
             [
              0.8888888888888888,
              "#fdca26"
             ],
             [
              1,
              "#f0f921"
             ]
            ],
            "type": "histogram2d"
           }
          ],
          "histogram2dcontour": [
           {
            "colorbar": {
             "outlinewidth": 0,
             "ticks": ""
            },
            "colorscale": [
             [
              0,
              "#0d0887"
             ],
             [
              0.1111111111111111,
              "#46039f"
             ],
             [
              0.2222222222222222,
              "#7201a8"
             ],
             [
              0.3333333333333333,
              "#9c179e"
             ],
             [
              0.4444444444444444,
              "#bd3786"
             ],
             [
              0.5555555555555556,
              "#d8576b"
             ],
             [
              0.6666666666666666,
              "#ed7953"
             ],
             [
              0.7777777777777778,
              "#fb9f3a"
             ],
             [
              0.8888888888888888,
              "#fdca26"
             ],
             [
              1,
              "#f0f921"
             ]
            ],
            "type": "histogram2dcontour"
           }
          ],
          "mesh3d": [
           {
            "colorbar": {
             "outlinewidth": 0,
             "ticks": ""
            },
            "type": "mesh3d"
           }
          ],
          "parcoords": [
           {
            "line": {
             "colorbar": {
              "outlinewidth": 0,
              "ticks": ""
             }
            },
            "type": "parcoords"
           }
          ],
          "pie": [
           {
            "automargin": true,
            "type": "pie"
           }
          ],
          "scatter": [
           {
            "fillpattern": {
             "fillmode": "overlay",
             "size": 10,
             "solidity": 0.2
            },
            "type": "scatter"
           }
          ],
          "scatter3d": [
           {
            "line": {
             "colorbar": {
              "outlinewidth": 0,
              "ticks": ""
             }
            },
            "marker": {
             "colorbar": {
              "outlinewidth": 0,
              "ticks": ""
             }
            },
            "type": "scatter3d"
           }
          ],
          "scattercarpet": [
           {
            "marker": {
             "colorbar": {
              "outlinewidth": 0,
              "ticks": ""
             }
            },
            "type": "scattercarpet"
           }
          ],
          "scattergeo": [
           {
            "marker": {
             "colorbar": {
              "outlinewidth": 0,
              "ticks": ""
             }
            },
            "type": "scattergeo"
           }
          ],
          "scattergl": [
           {
            "marker": {
             "colorbar": {
              "outlinewidth": 0,
              "ticks": ""
             }
            },
            "type": "scattergl"
           }
          ],
          "scattermapbox": [
           {
            "marker": {
             "colorbar": {
              "outlinewidth": 0,
              "ticks": ""
             }
            },
            "type": "scattermapbox"
           }
          ],
          "scatterpolar": [
           {
            "marker": {
             "colorbar": {
              "outlinewidth": 0,
              "ticks": ""
             }
            },
            "type": "scatterpolar"
           }
          ],
          "scatterpolargl": [
           {
            "marker": {
             "colorbar": {
              "outlinewidth": 0,
              "ticks": ""
             }
            },
            "type": "scatterpolargl"
           }
          ],
          "scatterternary": [
           {
            "marker": {
             "colorbar": {
              "outlinewidth": 0,
              "ticks": ""
             }
            },
            "type": "scatterternary"
           }
          ],
          "surface": [
           {
            "colorbar": {
             "outlinewidth": 0,
             "ticks": ""
            },
            "colorscale": [
             [
              0,
              "#0d0887"
             ],
             [
              0.1111111111111111,
              "#46039f"
             ],
             [
              0.2222222222222222,
              "#7201a8"
             ],
             [
              0.3333333333333333,
              "#9c179e"
             ],
             [
              0.4444444444444444,
              "#bd3786"
             ],
             [
              0.5555555555555556,
              "#d8576b"
             ],
             [
              0.6666666666666666,
              "#ed7953"
             ],
             [
              0.7777777777777778,
              "#fb9f3a"
             ],
             [
              0.8888888888888888,
              "#fdca26"
             ],
             [
              1,
              "#f0f921"
             ]
            ],
            "type": "surface"
           }
          ],
          "table": [
           {
            "cells": {
             "fill": {
              "color": "#EBF0F8"
             },
             "line": {
              "color": "white"
             }
            },
            "header": {
             "fill": {
              "color": "#C8D4E3"
             },
             "line": {
              "color": "white"
             }
            },
            "type": "table"
           }
          ]
         },
         "layout": {
          "annotationdefaults": {
           "arrowcolor": "#2a3f5f",
           "arrowhead": 0,
           "arrowwidth": 1
          },
          "autotypenumbers": "strict",
          "coloraxis": {
           "colorbar": {
            "outlinewidth": 0,
            "ticks": ""
           }
          },
          "colorscale": {
           "diverging": [
            [
             0,
             "#8e0152"
            ],
            [
             0.1,
             "#c51b7d"
            ],
            [
             0.2,
             "#de77ae"
            ],
            [
             0.3,
             "#f1b6da"
            ],
            [
             0.4,
             "#fde0ef"
            ],
            [
             0.5,
             "#f7f7f7"
            ],
            [
             0.6,
             "#e6f5d0"
            ],
            [
             0.7,
             "#b8e186"
            ],
            [
             0.8,
             "#7fbc41"
            ],
            [
             0.9,
             "#4d9221"
            ],
            [
             1,
             "#276419"
            ]
           ],
           "sequential": [
            [
             0,
             "#0d0887"
            ],
            [
             0.1111111111111111,
             "#46039f"
            ],
            [
             0.2222222222222222,
             "#7201a8"
            ],
            [
             0.3333333333333333,
             "#9c179e"
            ],
            [
             0.4444444444444444,
             "#bd3786"
            ],
            [
             0.5555555555555556,
             "#d8576b"
            ],
            [
             0.6666666666666666,
             "#ed7953"
            ],
            [
             0.7777777777777778,
             "#fb9f3a"
            ],
            [
             0.8888888888888888,
             "#fdca26"
            ],
            [
             1,
             "#f0f921"
            ]
           ],
           "sequentialminus": [
            [
             0,
             "#0d0887"
            ],
            [
             0.1111111111111111,
             "#46039f"
            ],
            [
             0.2222222222222222,
             "#7201a8"
            ],
            [
             0.3333333333333333,
             "#9c179e"
            ],
            [
             0.4444444444444444,
             "#bd3786"
            ],
            [
             0.5555555555555556,
             "#d8576b"
            ],
            [
             0.6666666666666666,
             "#ed7953"
            ],
            [
             0.7777777777777778,
             "#fb9f3a"
            ],
            [
             0.8888888888888888,
             "#fdca26"
            ],
            [
             1,
             "#f0f921"
            ]
           ]
          },
          "colorway": [
           "#636efa",
           "#EF553B",
           "#00cc96",
           "#ab63fa",
           "#FFA15A",
           "#19d3f3",
           "#FF6692",
           "#B6E880",
           "#FF97FF",
           "#FECB52"
          ],
          "font": {
           "color": "#2a3f5f"
          },
          "geo": {
           "bgcolor": "white",
           "lakecolor": "white",
           "landcolor": "#E5ECF6",
           "showlakes": true,
           "showland": true,
           "subunitcolor": "white"
          },
          "hoverlabel": {
           "align": "left"
          },
          "hovermode": "closest",
          "mapbox": {
           "style": "light"
          },
          "paper_bgcolor": "white",
          "plot_bgcolor": "#E5ECF6",
          "polar": {
           "angularaxis": {
            "gridcolor": "white",
            "linecolor": "white",
            "ticks": ""
           },
           "bgcolor": "#E5ECF6",
           "radialaxis": {
            "gridcolor": "white",
            "linecolor": "white",
            "ticks": ""
           }
          },
          "scene": {
           "xaxis": {
            "backgroundcolor": "#E5ECF6",
            "gridcolor": "white",
            "gridwidth": 2,
            "linecolor": "white",
            "showbackground": true,
            "ticks": "",
            "zerolinecolor": "white"
           },
           "yaxis": {
            "backgroundcolor": "#E5ECF6",
            "gridcolor": "white",
            "gridwidth": 2,
            "linecolor": "white",
            "showbackground": true,
            "ticks": "",
            "zerolinecolor": "white"
           },
           "zaxis": {
            "backgroundcolor": "#E5ECF6",
            "gridcolor": "white",
            "gridwidth": 2,
            "linecolor": "white",
            "showbackground": true,
            "ticks": "",
            "zerolinecolor": "white"
           }
          },
          "shapedefaults": {
           "line": {
            "color": "#2a3f5f"
           }
          },
          "ternary": {
           "aaxis": {
            "gridcolor": "white",
            "linecolor": "white",
            "ticks": ""
           },
           "baxis": {
            "gridcolor": "white",
            "linecolor": "white",
            "ticks": ""
           },
           "bgcolor": "#E5ECF6",
           "caxis": {
            "gridcolor": "white",
            "linecolor": "white",
            "ticks": ""
           }
          },
          "title": {
           "x": 0.05
          },
          "xaxis": {
           "automargin": true,
           "gridcolor": "white",
           "linecolor": "white",
           "ticks": "",
           "title": {
            "standoff": 15
           },
           "zerolinecolor": "white",
           "zerolinewidth": 2
          },
          "yaxis": {
           "automargin": true,
           "gridcolor": "white",
           "linecolor": "white",
           "ticks": "",
           "title": {
            "standoff": 15
           },
           "zerolinecolor": "white",
           "zerolinewidth": 2
          }
         }
        },
        "title": {
         "text": "Box plot of approx cost"
        },
        "width": 800,
        "yaxis": {
         "title": {
          "text": "Price"
         }
        }
       }
      },
      "text/html": [
       "<div>                            <div id=\"efbd3091-aaf4-41fd-9b13-50bf9aed88a7\" class=\"plotly-graph-div\" style=\"height:900px; width:800px;\"></div>            <script type=\"text/javascript\">                require([\"plotly\"], function(Plotly) {                    window.PLOTLYENV=window.PLOTLYENV || {};                                    if (document.getElementById(\"efbd3091-aaf4-41fd-9b13-50bf9aed88a7\")) {                    Plotly.newPlot(                        \"efbd3091-aaf4-41fd-9b13-50bf9aed88a7\",                        [{\"marker\":{\"color\":\"rgb(113,10,100)\"},\"name\":\"Accepting Online Order\",\"y\":[800.0,800.0,800.0,300.0,600.0,600.0,600.0,700.0,550.0,500.0,600.0,500.0,450.0,800.0,650.0,800.0,700.0,300.0,400.0,500.0,600.0,550.0,600.0,500.0,750.0,500.0,650.0,600.0,750.0,500.0,800.0,600.0,400.0,300.0,450.0,850.0,300.0,400.0,750.0,450.0,450.0,800.0,800.0,800.0,850.0,400.0,1200.0,300.0,300.0,350.0,400.0,600.0,600.0,800.0,300.0,400.0,300.0,400.0,300.0,450.0,800.0,500.0,650.0,400.0,500.0,450.0,500.0,750.0,350.0,800.0,400.0,1200.0,300.0,500.0,450.0,250.0,650.0,300.0,700.0,400.0,300.0,350.0,500.0,750.0,550.0,400.0,750.0,650.0,500.0,250.0,500.0,300.0,800.0,700.0,700.0,550.0,1300.0,500.0,700.0,1000.0,750.0,250.0,600.0,650.0,550.0,450.0,450.0,700.0,600.0,400.0,300.0,600.0,700.0,750.0,600.0,600.0,550.0,650.0,500.0,1200.0,650.0,600.0,850.0,400.0,450.0,300.0,500.0,400.0,900.0,550.0,800.0,250.0,1200.0,400.0,500.0,700.0,400.0,400.0,800.0,800.0,600.0,900.0,800.0,400.0,400.0,300.0,650.0,600.0,650.0,700.0,700.0,350.0,300.0,600.0,400.0,600.0,400.0,800.0,400.0,650.0,1200.0,250.0,400.0,700.0,1200.0,800.0,500.0,800.0,600.0,900.0,400.0,250.0,300.0,400.0,350.0,600.0,450.0,400.0,400.0,250.0,600.0,750.0,800.0,1000.0,600.0,750.0,800.0,800.0,450.0,1000.0,700.0,800.0,600.0,300.0,300.0,400.0,700.0,300.0,550.0,750.0,500.0,500.0,500.0,400.0,400.0,800.0,700.0,500.0,400.0,400.0,400.0,600.0,300.0,400.0,750.0,1200.0,350.0,600.0,800.0,800.0,800.0,1300.0,1200.0,700.0,800.0,550.0,500.0,600.0,500.0,800.0,450.0,600.0,850.0,450.0,800.0,800.0,650.0,900.0,700.0,800.0,700.0,300.0,300.0,500.0,400.0,700.0,600.0,800.0,600.0,750.0,600.0,800.0,850.0,800.0,400.0,750.0,650.0,450.0,450.0,500.0,500.0,300.0,500.0,300.0,300.0,600.0,250.0,300.0,350.0,800.0,250.0,350.0,600.0,500.0,300.0,300.0,300.0,450.0,250.0,400.0,250.0,300.0,400.0,350.0,500.0,600.0,350.0,750.0,550.0,600.0,500.0,550.0,1100.0,450.0,300.0,650.0,600.0,250.0,600.0,400.0,800.0,750.0,600.0,800.0,300.0,300.0,700.0,300.0,300.0,450.0,700.0,250.0,300.0,1300.0,1200.0,800.0,800.0,1100.0,900.0,1000.0,750.0,550.0,1200.0,800.0,1000.0,1000.0,1000.0,1000.0,950.0,600.0,700.0,450.0,300.0,400.0,400.0,500.0,600.0,700.0,350.0,650.0,600.0,600.0,800.0,550.0,650.0,600.0,400.0,450.0,550.0,700.0,500.0,800.0,800.0,300.0,400.0,250.0,400.0,300.0,300.0,500.0,400.0,500.0,300.0,700.0,400.0,400.0,450.0,300.0,250.0,600.0,250.0,400.0,350.0,300.0,450.0,400.0,350.0,300.0,400.0,1000.0,650.0,550.0,600.0,300.0,750.0,600.0,400.0,300.0,400.0,600.0,800.0,500.0,800.0,800.0,300.0,700.0,400.0,700.0,600.0,300.0,400.0,600.0,300.0,400.0,750.0,650.0,700.0,300.0,500.0,250.0,550.0,1000.0,900.0,700.0,650.0,500.0,900.0,600.0,1000.0,800.0,250.0,500.0,400.0,450.0,250.0,400.0,300.0,400.0,400.0,400.0,600.0,1200.0,400.0,1000.0,800.0,600.0,700.0,650.0,500.0,300.0,600.0,800.0,600.0,400.0,700.0,300.0,500.0,400.0,500.0,500.0,600.0,250.0,300.0,400.0,300.0,600.0,500.0,450.0,750.0,600.0,1200.0,300.0,600.0,1000.0,400.0,600.0,500.0,500.0,400.0,400.0,600.0,700.0,400.0,500.0,600.0,800.0,600.0,750.0,500.0,300.0,800.0,350.0,1000.0,250.0,400.0,500.0,250.0,400.0,650.0,600.0,800.0,450.0,450.0,600.0,600.0,750.0,350.0,1100.0,600.0,550.0,250.0,400.0,1000.0,600.0,500.0,1200.0,500.0,300.0,500.0,450.0,800.0,250.0,750.0,300.0,500.0,500.0,600.0,700.0,500.0,600.0,1200.0,400.0,400.0,500.0,400.0,800.0,300.0,1000.0,350.0,250.0,500.0,400.0,400.0,300.0,1300.0,400.0,800.0,600.0,250.0,400.0,700.0,1100.0,400.0,800.0,600.0,500.0,600.0,400.0,350.0,1300.0,300.0,400.0,400.0,400.0,1100.0,650.0,300.0,250.0,500.0,750.0,650.0,400.0,650.0,700.0,800.0,500.0,600.0,550.0,1000.0,550.0,500.0,700.0,1100.0,500.0,350.0,500.0,450.0,650.0,650.0,1000.0,450.0,800.0,450.0,250.0,800.0,250.0,500.0,300.0,750.0,500.0,500.0,800.0,450.0,250.0,250.0,600.0,400.0,900.0,600.0,1200.0,1200.0,1200.0,550.0,400.0,600.0,500.0,700.0,350.0,400.0,250.0,500.0,1000.0,500.0,600.0,500.0,750.0,500.0,400.0,800.0,800.0,500.0,400.0,500.0,400.0,400.0,400.0,250.0,450.0,350.0,400.0,300.0,500.0,400.0,400.0,800.0,700.0,500.0,700.0,600.0,300.0,500.0,500.0,550.0,500.0,400.0,600.0,800.0,550.0,1000.0,800.0,700.0,800.0,700.0,650.0,1000.0,700.0,700.0,800.0,400.0,450.0,800.0,300.0,400.0,900.0,500.0,500.0,600.0,550.0,400.0,500.0,500.0,850.0,450.0,700.0,400.0,600.0,500.0,450.0,1000.0,600.0,650.0,600.0,800.0,500.0,800.0,750.0,500.0,400.0,250.0,300.0,1000.0,250.0,800.0,400.0,400.0,500.0,400.0,400.0,600.0,500.0,600.0,800.0,400.0,400.0,600.0,400.0,300.0,400.0,250.0,400.0,350.0,400.0,600.0,600.0,400.0,500.0,300.0,500.0,250.0,750.0,600.0,650.0,250.0,1100.0,350.0,400.0,250.0,250.0,300.0,400.0,600.0,300.0,800.0,250.0,1200.0,1200.0,1300.0,1200.0,800.0,1300.0,1000.0,400.0,1200.0,750.0,1100.0,700.0,1200.0,550.0,1300.0,1000.0,1100.0,1200.0,1300.0,600.0,1000.0,750.0,1000.0,500.0,600.0,700.0,750.0,700.0,300.0,500.0,350.0,400.0,950.0,400.0,450.0,800.0,450.0,550.0,600.0,600.0,500.0,400.0,1000.0,1100.0,400.0,1000.0,500.0,450.0,950.0,600.0,600.0,550.0,450.0,750.0,750.0,800.0,800.0,650.0,700.0,400.0,300.0,600.0,350.0,800.0,300.0,500.0,600.0,500.0,400.0,600.0,550.0,300.0,250.0,400.0,300.0,500.0,400.0,500.0,400.0,300.0,650.0,250.0,900.0,1200.0,800.0,1200.0,1300.0,1200.0,1200.0,1300.0,1100.0,1100.0,1000.0,600.0,600.0,950.0,750.0,800.0,800.0,1000.0,550.0,1350.0,1200.0,800.0,800.0,600.0,700.0,550.0,600.0,500.0,600.0,400.0,800.0,500.0,400.0,800.0,800.0,850.0,700.0,600.0,800.0,700.0,400.0,550.0,650.0,800.0,650.0,700.0,400.0,650.0,550.0,650.0,450.0,400.0,450.0,500.0,400.0,750.0,450.0,500.0,450.0,300.0,800.0,250.0,650.0,600.0,500.0,800.0,400.0,550.0,400.0,300.0,300.0,300.0,800.0,750.0,500.0,300.0,500.0,600.0,400.0,400.0,650.0,500.0,400.0,800.0,750.0,600.0,750.0,650.0,250.0,500.0,350.0,500.0,650.0,600.0,1200.0,250.0,400.0,400.0,550.0,400.0,400.0,400.0,600.0,800.0,350.0,250.0,1200.0,800.0,900.0,400.0,900.0,800.0,300.0,500.0,650.0,800.0,500.0,300.0,500.0,350.0,300.0,250.0,500.0,500.0,500.0,800.0,1200.0,800.0,500.0,500.0,400.0,400.0,600.0,350.0,250.0,1000.0,800.0,500.0,800.0,400.0,800.0,450.0,700.0,700.0,800.0,300.0,300.0,250.0,650.0,600.0,700.0,700.0,400.0,600.0,450.0,400.0,300.0,1000.0,300.0,600.0,600.0,400.0,600.0,300.0,1300.0,800.0,600.0,1200.0,600.0,700.0,800.0,900.0,700.0,300.0,350.0,450.0,400.0,800.0,400.0,700.0,300.0,800.0,600.0,1000.0,700.0,450.0,400.0,400.0,600.0,400.0,300.0,900.0,800.0,650.0,650.0,1200.0,300.0,750.0,400.0,650.0,500.0,400.0,400.0,450.0,900.0,400.0,1100.0,400.0,350.0,400.0,500.0,400.0,700.0,750.0,550.0,650.0,300.0,550.0,300.0,1000.0,700.0,900.0,600.0,1000.0,500.0,250.0,750.0,400.0,700.0,800.0,300.0,750.0,600.0,500.0,600.0,1200.0,600.0,1200.0,800.0,1000.0,800.0,500.0,450.0,400.0,400.0,300.0,450.0,400.0,700.0,800.0,800.0,1200.0,750.0,400.0,900.0,700.0,1200.0,400.0,300.0,800.0,900.0,1000.0,600.0,1000.0,300.0,1000.0,800.0,700.0,800.0,650.0,1350.0,550.0,600.0,950.0,650.0,600.0,400.0,1350.0,300.0,850.0,1200.0,1000.0,550.0,600.0,600.0,650.0,1200.0,1000.0,800.0,300.0,600.0,1200.0,800.0,400.0,800.0,800.0,450.0,800.0,300.0,350.0,550.0,400.0,300.0,400.0,400.0,500.0,400.0,750.0,500.0,400.0,400.0,400.0,400.0,300.0,600.0,400.0,500.0,400.0,400.0,800.0,400.0,800.0,250.0,400.0,400.0,500.0,350.0,500.0,500.0,400.0,400.0,800.0,300.0,400.0,700.0,300.0,400.0,400.0,300.0,500.0,1000.0,750.0,600.0,350.0,600.0,1000.0,750.0,700.0,500.0,550.0,1100.0,550.0,600.0,450.0,650.0,800.0,600.0,500.0,600.0,600.0,400.0,800.0,650.0,400.0,450.0,600.0,700.0,600.0,300.0,250.0,400.0,500.0,400.0,300.0,500.0,250.0,600.0,300.0,300.0,400.0,250.0,500.0,300.0,750.0,400.0,300.0,500.0,600.0,300.0,600.0,600.0,1000.0,600.0,1200.0,950.0,800.0,1000.0,800.0,700.0,1300.0,350.0,800.0,700.0,500.0,1000.0,400.0,350.0,750.0,800.0,900.0,600.0,750.0,800.0,1200.0,800.0,800.0,1200.0,600.0,650.0,800.0,800.0,400.0,1200.0,250.0,800.0,450.0,700.0,1200.0,850.0,700.0,1300.0,600.0,800.0,650.0,700.0,400.0,550.0,1000.0,600.0,650.0,900.0,400.0,800.0,800.0,350.0,900.0,800.0,800.0,750.0,1200.0,800.0,700.0,450.0,650.0,500.0,550.0,1350.0,450.0,800.0,600.0,400.0,400.0,700.0,750.0,1000.0,400.0,900.0,500.0,400.0,400.0,1000.0,550.0,550.0,500.0,300.0,700.0,500.0,1000.0,400.0,1350.0,650.0,250.0,250.0,250.0,300.0,400.0,350.0,250.0,1200.0,650.0,450.0,450.0,700.0,800.0,300.0,250.0,400.0,350.0,500.0,600.0,350.0,300.0,650.0,800.0,850.0,250.0,300.0,300.0,800.0,300.0,400.0,850.0,1000.0,1100.0,1200.0,1200.0,1300.0,1350.0,1000.0,800.0,1400.0,1000.0,1400.0,1200.0,1100.0,1000.0,700.0,800.0,1400.0,1300.0,1300.0,1000.0,1100.0,1300.0,500.0,700.0,400.0,600.0,900.0,600.0,500.0,550.0,1000.0,500.0,600.0,800.0,700.0,400.0,650.0,500.0,450.0,450.0,400.0,400.0,400.0,300.0,300.0,400.0,500.0,300.0,400.0,600.0,700.0,600.0,500.0,800.0,900.0,750.0,550.0,400.0,400.0,800.0,400.0,400.0,300.0,300.0,550.0,600.0,250.0,600.0,300.0,400.0,300.0,600.0,750.0,650.0,750.0,450.0,450.0,600.0,400.0,950.0,400.0,650.0,400.0,500.0,450.0,400.0,500.0,600.0,800.0,500.0,450.0,300.0,800.0,600.0,600.0,1200.0,800.0,500.0,500.0,1400.0,300.0,600.0,600.0,1200.0,500.0,800.0,400.0,800.0,1300.0,700.0,500.0,300.0,400.0,400.0,800.0,1100.0,400.0,600.0,600.0,800.0,750.0,600.0,350.0,300.0,550.0,900.0,300.0,400.0,250.0,800.0,600.0,500.0,1000.0,500.0,250.0,400.0,850.0,500.0,500.0,450.0,1200.0,600.0,700.0,1000.0,600.0,400.0,1100.0,500.0,900.0,250.0,450.0,1000.0,450.0,1000.0,500.0,250.0,500.0,450.0,750.0,800.0,750.0,500.0,1400.0,600.0,600.0,300.0,500.0,500.0,400.0,250.0,900.0,1000.0,700.0,500.0,1200.0,600.0,400.0,1100.0,350.0,400.0,350.0,450.0,600.0,600.0,400.0,250.0,400.0,600.0,1200.0,800.0,1400.0,650.0,400.0,650.0,300.0,300.0,400.0,1400.0,300.0,800.0,800.0,500.0,500.0,1000.0,300.0,500.0,1300.0,1300.0,750.0,600.0,400.0,750.0,600.0,750.0,400.0,400.0,700.0,600.0,800.0,500.0,330.0,250.0,550.0,600.0,1400.0,800.0,600.0,800.0,550.0,500.0,700.0,700.0,300.0,500.0,500.0,500.0,450.0,400.0,800.0,500.0,800.0,400.0,550.0,550.0,450.0,500.0,650.0,300.0,750.0,600.0,300.0,300.0,400.0,1000.0,600.0,700.0,250.0,800.0,300.0,600.0,500.0,300.0,400.0,500.0,400.0,250.0,600.0,500.0,600.0,600.0,900.0,300.0,600.0,500.0,400.0,750.0,700.0,300.0,300.0,350.0,500.0,1100.0,1000.0,1400.0,750.0,1200.0,800.0,1200.0,950.0,600.0,400.0,700.0,600.0,750.0,500.0,400.0,600.0,900.0,400.0,800.0,500.0,650.0,500.0,800.0,1400.0,600.0,500.0,800.0,550.0,500.0,1000.0,400.0,600.0,800.0,900.0,700.0,400.0,500.0,450.0,800.0,550.0,550.0,750.0,400.0,550.0,1000.0,800.0,450.0,300.0,500.0,300.0,400.0,250.0,500.0,600.0,300.0,400.0,500.0,450.0,250.0,350.0,330.0,400.0,600.0,250.0,500.0,400.0,800.0,400.0,450.0,400.0,1400.0,1400.0,1300.0,1400.0,1300.0,1000.0,1400.0,1100.0,1300.0,600.0,700.0,700.0,800.0,500.0,500.0,850.0,800.0,1200.0,900.0,800.0,1000.0,550.0,800.0,300.0,750.0,600.0,600.0,700.0,400.0,500.0,700.0,600.0,600.0,250.0,500.0,250.0,300.0,400.0,550.0,250.0,600.0,400.0,400.0,400.0,500.0,300.0,800.0,300.0,1300.0,1400.0,1000.0,1400.0,1400.0,1200.0,1400.0,1400.0,1100.0,1400.0,1400.0,1200.0,1200.0,800.0,650.0,1000.0,1200.0,1400.0,750.0,500.0,1000.0,1200.0,1200.0,1300.0,1300.0,1000.0,1200.0,1000.0,1400.0,800.0,1000.0,500.0,1200.0,650.0,1300.0,1100.0,750.0,1200.0,500.0,650.0,800.0,350.0,1100.0,800.0,900.0,1000.0,600.0,600.0,650.0,1400.0,750.0,400.0,900.0,700.0,700.0,500.0,700.0,800.0,800.0,750.0,650.0,750.0,500.0,1000.0,1000.0,400.0,1200.0,500.0,500.0,600.0,800.0,1000.0,500.0,600.0,700.0,900.0,1300.0,750.0,1000.0,750.0,300.0,300.0,300.0,500.0,450.0,600.0,800.0,550.0,350.0,250.0,500.0,500.0,350.0,500.0,650.0,500.0,600.0,650.0,400.0,250.0,750.0,750.0,400.0,1200.0,400.0,750.0,400.0,450.0,400.0,800.0,250.0,800.0,500.0,750.0,400.0,650.0,400.0,750.0,650.0,1300.0,1200.0,1200.0,500.0,300.0,600.0,450.0,750.0,1300.0,600.0,350.0,600.0,500.0,500.0,700.0,400.0,400.0,800.0,900.0,400.0,400.0,800.0,300.0,400.0,1300.0,350.0,400.0,500.0,900.0,250.0,1100.0,400.0,700.0,700.0,650.0,700.0,700.0,500.0,300.0,400.0,300.0,400.0,400.0,250.0,350.0,800.0,400.0,600.0,700.0,500.0,700.0,450.0,700.0,300.0,400.0,500.0,500.0,800.0,300.0,750.0,400.0,500.0,750.0,1300.0,1300.0,600.0,850.0,500.0,1000.0,1000.0,700.0,700.0,1000.0,300.0,800.0,950.0,300.0,900.0,800.0,500.0,1000.0,500.0,300.0,1400.0,1300.0,500.0,550.0,600.0,750.0,550.0,550.0,1000.0,700.0,600.0,250.0,1400.0,700.0,400.0,400.0,600.0,400.0,450.0,450.0,500.0,500.0,500.0,1000.0,700.0,300.0,700.0,350.0,450.0,250.0,400.0,400.0,400.0,400.0,700.0,600.0,750.0,700.0,300.0,700.0,1200.0,400.0,800.0,600.0,1000.0,500.0,700.0,600.0,550.0,300.0,500.0,650.0,800.0,650.0,500.0,500.0,650.0,300.0,600.0,750.0,650.0,1000.0,700.0,800.0,800.0,300.0,700.0,600.0,550.0,1000.0,400.0,500.0,1200.0,700.0,750.0,1200.0,800.0,900.0,650.0,800.0,800.0,1300.0,300.0,600.0,1000.0,500.0,1100.0,1400.0,650.0,800.0,450.0,1000.0,600.0,600.0,700.0,1000.0,750.0,1000.0,1400.0,1200.0,850.0,850.0,1000.0,600.0,1200.0,300.0,1000.0,1400.0,1400.0,400.0,1400.0,350.0,800.0,300.0,500.0,1300.0,800.0,400.0,550.0,800.0,1000.0,300.0,800.0,550.0,600.0,1000.0,500.0,1300.0,1000.0,1200.0,1300.0,300.0,550.0,250.0,500.0,700.0,1200.0,1000.0,1200.0,1000.0,550.0,800.0,900.0,1400.0,550.0,400.0,750.0,400.0,900.0,500.0,800.0,500.0,800.0,400.0,800.0,750.0,600.0,1200.0,500.0,400.0,500.0,800.0,1100.0,500.0,300.0,350.0,300.0,250.0,300.0,550.0,500.0,600.0,550.0,400.0,450.0,250.0,450.0,400.0,300.0,800.0,800.0,1000.0,600.0,400.0,1250.0,1400.0,300.0,700.0,700.0,500.0,300.0,400.0,400.0,700.0,1000.0,500.0,400.0,300.0,350.0,400.0,300.0,800.0,400.0,400.0,300.0,900.0,250.0,400.0,400.0,300.0,300.0,500.0,350.0,600.0,900.0,1300.0,750.0,300.0,700.0,1300.0,1100.0,750.0,1200.0,800.0,1100.0,1100.0,500.0,750.0,800.0,700.0,650.0,650.0,350.0,400.0,650.0,700.0,500.0,1300.0,1000.0,600.0,500.0,500.0,800.0,800.0,550.0,450.0,250.0,300.0,400.0,600.0,500.0,300.0,450.0,600.0,800.0,550.0,1100.0,1200.0,1200.0,1300.0,1300.0,1200.0,800.0,1000.0,800.0,700.0,1000.0,1400.0,600.0,800.0,900.0,1200.0,1300.0,1400.0,1000.0,1000.0,600.0,1400.0,550.0,500.0,1000.0,1100.0,650.0,1200.0,1000.0,1400.0,1100.0,600.0,1300.0,1000.0,1300.0,650.0,850.0,750.0,500.0,1000.0,1000.0,1200.0,750.0,1000.0,1400.0,400.0,900.0,1200.0,800.0,1200.0,500.0,700.0,1300.0,1200.0,1000.0,1200.0,1000.0,700.0,1200.0,800.0,1200.0,1000.0,700.0,1300.0,800.0,1000.0,500.0,750.0,800.0,800.0,800.0,1000.0,500.0,750.0,800.0,650.0,950.0,750.0,1000.0,500.0,400.0,550.0,1000.0,600.0,700.0,550.0,1200.0,1000.0,300.0,1300.0,500.0,1000.0,500.0,500.0,1000.0,450.0,1000.0,400.0,650.0,550.0,1200.0,1200.0,1000.0,1000.0,400.0,300.0,1200.0,500.0,500.0,800.0,700.0,1400.0,600.0,600.0,800.0,550.0,850.0,500.0,1400.0,800.0,1000.0,1200.0,250.0,600.0,700.0,500.0,500.0,800.0,600.0,800.0,1200.0,550.0,800.0,800.0,1200.0,800.0,600.0,350.0,700.0,600.0,900.0,600.0,1000.0,600.0,400.0,250.0,700.0,400.0,300.0,500.0,500.0,300.0,500.0,300.0,300.0,300.0,250.0,500.0,300.0,400.0,250.0,350.0,800.0,400.0,350.0,400.0,500.0,500.0],\"type\":\"box\"}],                        {\"height\":900,\"title\":{\"text\":\"Box plot of approx cost\"},\"width\":800,\"yaxis\":{\"title\":{\"text\":\"Price\"}},\"template\":{\"data\":{\"histogram2dcontour\":[{\"type\":\"histogram2dcontour\",\"colorbar\":{\"outlinewidth\":0,\"ticks\":\"\"},\"colorscale\":[[0.0,\"#0d0887\"],[0.1111111111111111,\"#46039f\"],[0.2222222222222222,\"#7201a8\"],[0.3333333333333333,\"#9c179e\"],[0.4444444444444444,\"#bd3786\"],[0.5555555555555556,\"#d8576b\"],[0.6666666666666666,\"#ed7953\"],[0.7777777777777778,\"#fb9f3a\"],[0.8888888888888888,\"#fdca26\"],[1.0,\"#f0f921\"]]}],\"choropleth\":[{\"type\":\"choropleth\",\"colorbar\":{\"outlinewidth\":0,\"ticks\":\"\"}}],\"histogram2d\":[{\"type\":\"histogram2d\",\"colorbar\":{\"outlinewidth\":0,\"ticks\":\"\"},\"colorscale\":[[0.0,\"#0d0887\"],[0.1111111111111111,\"#46039f\"],[0.2222222222222222,\"#7201a8\"],[0.3333333333333333,\"#9c179e\"],[0.4444444444444444,\"#bd3786\"],[0.5555555555555556,\"#d8576b\"],[0.6666666666666666,\"#ed7953\"],[0.7777777777777778,\"#fb9f3a\"],[0.8888888888888888,\"#fdca26\"],[1.0,\"#f0f921\"]]}],\"heatmap\":[{\"type\":\"heatmap\",\"colorbar\":{\"outlinewidth\":0,\"ticks\":\"\"},\"colorscale\":[[0.0,\"#0d0887\"],[0.1111111111111111,\"#46039f\"],[0.2222222222222222,\"#7201a8\"],[0.3333333333333333,\"#9c179e\"],[0.4444444444444444,\"#bd3786\"],[0.5555555555555556,\"#d8576b\"],[0.6666666666666666,\"#ed7953\"],[0.7777777777777778,\"#fb9f3a\"],[0.8888888888888888,\"#fdca26\"],[1.0,\"#f0f921\"]]}],\"heatmapgl\":[{\"type\":\"heatmapgl\",\"colorbar\":{\"outlinewidth\":0,\"ticks\":\"\"},\"colorscale\":[[0.0,\"#0d0887\"],[0.1111111111111111,\"#46039f\"],[0.2222222222222222,\"#7201a8\"],[0.3333333333333333,\"#9c179e\"],[0.4444444444444444,\"#bd3786\"],[0.5555555555555556,\"#d8576b\"],[0.6666666666666666,\"#ed7953\"],[0.7777777777777778,\"#fb9f3a\"],[0.8888888888888888,\"#fdca26\"],[1.0,\"#f0f921\"]]}],\"contourcarpet\":[{\"type\":\"contourcarpet\",\"colorbar\":{\"outlinewidth\":0,\"ticks\":\"\"}}],\"contour\":[{\"type\":\"contour\",\"colorbar\":{\"outlinewidth\":0,\"ticks\":\"\"},\"colorscale\":[[0.0,\"#0d0887\"],[0.1111111111111111,\"#46039f\"],[0.2222222222222222,\"#7201a8\"],[0.3333333333333333,\"#9c179e\"],[0.4444444444444444,\"#bd3786\"],[0.5555555555555556,\"#d8576b\"],[0.6666666666666666,\"#ed7953\"],[0.7777777777777778,\"#fb9f3a\"],[0.8888888888888888,\"#fdca26\"],[1.0,\"#f0f921\"]]}],\"surface\":[{\"type\":\"surface\",\"colorbar\":{\"outlinewidth\":0,\"ticks\":\"\"},\"colorscale\":[[0.0,\"#0d0887\"],[0.1111111111111111,\"#46039f\"],[0.2222222222222222,\"#7201a8\"],[0.3333333333333333,\"#9c179e\"],[0.4444444444444444,\"#bd3786\"],[0.5555555555555556,\"#d8576b\"],[0.6666666666666666,\"#ed7953\"],[0.7777777777777778,\"#fb9f3a\"],[0.8888888888888888,\"#fdca26\"],[1.0,\"#f0f921\"]]}],\"mesh3d\":[{\"type\":\"mesh3d\",\"colorbar\":{\"outlinewidth\":0,\"ticks\":\"\"}}],\"scatter\":[{\"fillpattern\":{\"fillmode\":\"overlay\",\"size\":10,\"solidity\":0.2},\"type\":\"scatter\"}],\"parcoords\":[{\"type\":\"parcoords\",\"line\":{\"colorbar\":{\"outlinewidth\":0,\"ticks\":\"\"}}}],\"scatterpolargl\":[{\"type\":\"scatterpolargl\",\"marker\":{\"colorbar\":{\"outlinewidth\":0,\"ticks\":\"\"}}}],\"bar\":[{\"error_x\":{\"color\":\"#2a3f5f\"},\"error_y\":{\"color\":\"#2a3f5f\"},\"marker\":{\"line\":{\"color\":\"#E5ECF6\",\"width\":0.5},\"pattern\":{\"fillmode\":\"overlay\",\"size\":10,\"solidity\":0.2}},\"type\":\"bar\"}],\"scattergeo\":[{\"type\":\"scattergeo\",\"marker\":{\"colorbar\":{\"outlinewidth\":0,\"ticks\":\"\"}}}],\"scatterpolar\":[{\"type\":\"scatterpolar\",\"marker\":{\"colorbar\":{\"outlinewidth\":0,\"ticks\":\"\"}}}],\"histogram\":[{\"marker\":{\"pattern\":{\"fillmode\":\"overlay\",\"size\":10,\"solidity\":0.2}},\"type\":\"histogram\"}],\"scattergl\":[{\"type\":\"scattergl\",\"marker\":{\"colorbar\":{\"outlinewidth\":0,\"ticks\":\"\"}}}],\"scatter3d\":[{\"type\":\"scatter3d\",\"line\":{\"colorbar\":{\"outlinewidth\":0,\"ticks\":\"\"}},\"marker\":{\"colorbar\":{\"outlinewidth\":0,\"ticks\":\"\"}}}],\"scattermapbox\":[{\"type\":\"scattermapbox\",\"marker\":{\"colorbar\":{\"outlinewidth\":0,\"ticks\":\"\"}}}],\"scatterternary\":[{\"type\":\"scatterternary\",\"marker\":{\"colorbar\":{\"outlinewidth\":0,\"ticks\":\"\"}}}],\"scattercarpet\":[{\"type\":\"scattercarpet\",\"marker\":{\"colorbar\":{\"outlinewidth\":0,\"ticks\":\"\"}}}],\"carpet\":[{\"aaxis\":{\"endlinecolor\":\"#2a3f5f\",\"gridcolor\":\"white\",\"linecolor\":\"white\",\"minorgridcolor\":\"white\",\"startlinecolor\":\"#2a3f5f\"},\"baxis\":{\"endlinecolor\":\"#2a3f5f\",\"gridcolor\":\"white\",\"linecolor\":\"white\",\"minorgridcolor\":\"white\",\"startlinecolor\":\"#2a3f5f\"},\"type\":\"carpet\"}],\"table\":[{\"cells\":{\"fill\":{\"color\":\"#EBF0F8\"},\"line\":{\"color\":\"white\"}},\"header\":{\"fill\":{\"color\":\"#C8D4E3\"},\"line\":{\"color\":\"white\"}},\"type\":\"table\"}],\"barpolar\":[{\"marker\":{\"line\":{\"color\":\"#E5ECF6\",\"width\":0.5},\"pattern\":{\"fillmode\":\"overlay\",\"size\":10,\"solidity\":0.2}},\"type\":\"barpolar\"}],\"pie\":[{\"automargin\":true,\"type\":\"pie\"}]},\"layout\":{\"autotypenumbers\":\"strict\",\"colorway\":[\"#636efa\",\"#EF553B\",\"#00cc96\",\"#ab63fa\",\"#FFA15A\",\"#19d3f3\",\"#FF6692\",\"#B6E880\",\"#FF97FF\",\"#FECB52\"],\"font\":{\"color\":\"#2a3f5f\"},\"hovermode\":\"closest\",\"hoverlabel\":{\"align\":\"left\"},\"paper_bgcolor\":\"white\",\"plot_bgcolor\":\"#E5ECF6\",\"polar\":{\"bgcolor\":\"#E5ECF6\",\"angularaxis\":{\"gridcolor\":\"white\",\"linecolor\":\"white\",\"ticks\":\"\"},\"radialaxis\":{\"gridcolor\":\"white\",\"linecolor\":\"white\",\"ticks\":\"\"}},\"ternary\":{\"bgcolor\":\"#E5ECF6\",\"aaxis\":{\"gridcolor\":\"white\",\"linecolor\":\"white\",\"ticks\":\"\"},\"baxis\":{\"gridcolor\":\"white\",\"linecolor\":\"white\",\"ticks\":\"\"},\"caxis\":{\"gridcolor\":\"white\",\"linecolor\":\"white\",\"ticks\":\"\"}},\"coloraxis\":{\"colorbar\":{\"outlinewidth\":0,\"ticks\":\"\"}},\"colorscale\":{\"sequential\":[[0.0,\"#0d0887\"],[0.1111111111111111,\"#46039f\"],[0.2222222222222222,\"#7201a8\"],[0.3333333333333333,\"#9c179e\"],[0.4444444444444444,\"#bd3786\"],[0.5555555555555556,\"#d8576b\"],[0.6666666666666666,\"#ed7953\"],[0.7777777777777778,\"#fb9f3a\"],[0.8888888888888888,\"#fdca26\"],[1.0,\"#f0f921\"]],\"sequentialminus\":[[0.0,\"#0d0887\"],[0.1111111111111111,\"#46039f\"],[0.2222222222222222,\"#7201a8\"],[0.3333333333333333,\"#9c179e\"],[0.4444444444444444,\"#bd3786\"],[0.5555555555555556,\"#d8576b\"],[0.6666666666666666,\"#ed7953\"],[0.7777777777777778,\"#fb9f3a\"],[0.8888888888888888,\"#fdca26\"],[1.0,\"#f0f921\"]],\"diverging\":[[0,\"#8e0152\"],[0.1,\"#c51b7d\"],[0.2,\"#de77ae\"],[0.3,\"#f1b6da\"],[0.4,\"#fde0ef\"],[0.5,\"#f7f7f7\"],[0.6,\"#e6f5d0\"],[0.7,\"#b8e186\"],[0.8,\"#7fbc41\"],[0.9,\"#4d9221\"],[1,\"#276419\"]]},\"xaxis\":{\"gridcolor\":\"white\",\"linecolor\":\"white\",\"ticks\":\"\",\"title\":{\"standoff\":15},\"zerolinecolor\":\"white\",\"automargin\":true,\"zerolinewidth\":2},\"yaxis\":{\"gridcolor\":\"white\",\"linecolor\":\"white\",\"ticks\":\"\",\"title\":{\"standoff\":15},\"zerolinecolor\":\"white\",\"automargin\":true,\"zerolinewidth\":2},\"scene\":{\"xaxis\":{\"backgroundcolor\":\"#E5ECF6\",\"gridcolor\":\"white\",\"linecolor\":\"white\",\"showbackground\":true,\"ticks\":\"\",\"zerolinecolor\":\"white\",\"gridwidth\":2},\"yaxis\":{\"backgroundcolor\":\"#E5ECF6\",\"gridcolor\":\"white\",\"linecolor\":\"white\",\"showbackground\":true,\"ticks\":\"\",\"zerolinecolor\":\"white\",\"gridwidth\":2},\"zaxis\":{\"backgroundcolor\":\"#E5ECF6\",\"gridcolor\":\"white\",\"linecolor\":\"white\",\"showbackground\":true,\"ticks\":\"\",\"zerolinecolor\":\"white\",\"gridwidth\":2}},\"shapedefaults\":{\"line\":{\"color\":\"#2a3f5f\"}},\"annotationdefaults\":{\"arrowcolor\":\"#2a3f5f\",\"arrowhead\":0,\"arrowwidth\":1},\"geo\":{\"bgcolor\":\"white\",\"landcolor\":\"#E5ECF6\",\"subunitcolor\":\"white\",\"showland\":true,\"showlakes\":true,\"lakecolor\":\"white\"},\"title\":{\"x\":0.05},\"mapbox\":{\"style\":\"light\"}}}},                        {\"responsive\": true}                    ).then(function(){\n",
       "                            \n",
       "var gd = document.getElementById('efbd3091-aaf4-41fd-9b13-50bf9aed88a7');\n",
       "var x = new MutationObserver(function (mutations, observer) {{\n",
       "        var display = window.getComputedStyle(gd).display;\n",
       "        if (!display || display === 'none') {{\n",
       "            console.log([gd, 'removed!']);\n",
       "            Plotly.purge(gd);\n",
       "            observer.disconnect();\n",
       "        }}\n",
       "}});\n",
       "\n",
       "// Listen for the removal of the full notebook cells\n",
       "var notebookContainer = gd.closest('#notebook-container');\n",
       "if (notebookContainer) {{\n",
       "    x.observe(notebookContainer, {childList: true});\n",
       "}}\n",
       "\n",
       "// Listen for the clearing of the current output cell\n",
       "var outputEl = gd.closest('.output');\n",
       "if (outputEl) {{\n",
       "    x.observe(outputEl, {childList: true});\n",
       "}}\n",
       "\n",
       "                        })                };                });            </script>        </div>"
      ]
     },
     "metadata": {},
     "output_type": "display_data"
    }
   ],
   "source": [
    "trace0 = go.Box(y=df['cost'],name=\"Accepting Online Order\",marker=dict(color='rgb(113,10,100)',))\n",
    "data=[trace0]\n",
    "layout=go.Layout(title=\"Box plot of approx cost\",width=800,height=900,yaxis=dict(title=\"Price\"))\n",
    "fig=go.Figure(data=data,layout=layout)\n",
    "fig"
   ]
  },
  {
   "cell_type": "code",
   "execution_count": 430,
   "id": "2cd3a1f9",
   "metadata": {},
   "outputs": [],
   "source": [
    "lower_bound = df['rate'].quantile(0.05)  # Adjust as needed\n",
    "upper_bound = df['rate'].quantile(0.9)  # Adjust as needed\n",
    "\n",
    "\n",
    "df = df[(df['rate'] >= lower_bound) & (df['rate'] <= upper_bound)]"
   ]
  },
  {
   "cell_type": "code",
   "execution_count": 431,
   "id": "f9c01d73",
   "metadata": {},
   "outputs": [
    {
     "data": {
      "application/javascript": [
       "\n",
       "        if (window._pyforest_update_imports_cell) { window._pyforest_update_imports_cell('import pandas as pd\\nfrom sklearn.preprocessing import LabelEncoder\\nimport plotly.graph_objs as go\\nfrom sklearn.ensemble import RandomForestRegressor\\nimport matplotlib.pyplot as plt\\nfrom sklearn.linear_model import LinearRegression\\nfrom sklearn.model_selection import train_test_split\\nimport seaborn as sns\\nimport pickle'); }\n",
       "    "
      ],
      "text/plain": [
       "<IPython.core.display.Javascript object>"
      ]
     },
     "metadata": {},
     "output_type": "display_data"
    },
    {
     "data": {
      "application/javascript": [
       "\n",
       "        if (window._pyforest_update_imports_cell) { window._pyforest_update_imports_cell('import pandas as pd\\nfrom sklearn.preprocessing import LabelEncoder\\nimport plotly.graph_objs as go\\nfrom sklearn.ensemble import RandomForestRegressor\\nimport matplotlib.pyplot as plt\\nfrom sklearn.linear_model import LinearRegression\\nfrom sklearn.model_selection import train_test_split\\nimport seaborn as sns\\nimport pickle'); }\n",
       "    "
      ],
      "text/plain": [
       "<IPython.core.display.Javascript object>"
      ]
     },
     "metadata": {},
     "output_type": "display_data"
    },
    {
     "data": {
      "application/javascript": [
       "\n",
       "        if (window._pyforest_update_imports_cell) { window._pyforest_update_imports_cell('import pandas as pd\\nfrom sklearn.preprocessing import LabelEncoder\\nimport plotly.graph_objs as go\\nfrom sklearn.ensemble import RandomForestRegressor\\nimport matplotlib.pyplot as plt\\nfrom sklearn.linear_model import LinearRegression\\nfrom sklearn.model_selection import train_test_split\\nimport seaborn as sns\\nimport pickle'); }\n",
       "    "
      ],
      "text/plain": [
       "<IPython.core.display.Javascript object>"
      ]
     },
     "metadata": {},
     "output_type": "display_data"
    },
    {
     "data": {
      "application/vnd.plotly.v1+json": {
       "config": {
        "plotlyServerURL": "https://plot.ly"
       },
       "data": [
        {
         "marker": {
          "color": "rgb(113,10,100)"
         },
         "name": "Accepting Online Order",
         "type": "box",
         "y": [
          4.1,
          4.1,
          3.8,
          3.7,
          3.8,
          3.8,
          4,
          4.2,
          4.1,
          4.2,
          4.2,
          4,
          3.8,
          3.8,
          3.9,
          3.8,
          3.9,
          3,
          3.7,
          3.6,
          3.8,
          4,
          3.9,
          4.2,
          3.9,
          4.2,
          3.9,
          3.9,
          3.8,
          3.6,
          4,
          3.7,
          3.1,
          4.3,
          4,
          4,
          3.9,
          4.2,
          4.2,
          3.6,
          4,
          4.1,
          4.1,
          4.1,
          3.6,
          3.8,
          4.2,
          3.3,
          3.7,
          3.8,
          3.5,
          3.8,
          4.1,
          4,
          3,
          4.1,
          3.8,
          3.8,
          4.1,
          3.8,
          4.1,
          3.7,
          3.7,
          3.6,
          4.1,
          3.2,
          4.2,
          3,
          3.8,
          3.9,
          4.1,
          3.9,
          3.9,
          4.2,
          4.1,
          3.8,
          3.3,
          3,
          3.8,
          3.8,
          4.1,
          4.2,
          4.1,
          3.9,
          3.6,
          3.6,
          4.2,
          4.3,
          4.3,
          3.8,
          3.9,
          3.6,
          3.8,
          3.6,
          3.8,
          3.9,
          3.7,
          2.9,
          3.7,
          3.8,
          3.8,
          3.8,
          3.8,
          3.8,
          3.9,
          3.6,
          4.1,
          3.9,
          3.9,
          4.1,
          3.8,
          4.2,
          3.7,
          4.3,
          3.9,
          3.7,
          3.9,
          3.8,
          3.9,
          4.1,
          3.6,
          4,
          3.7,
          4.1,
          4,
          3.4,
          3.9,
          4,
          4.2,
          4,
          3.5,
          3.9,
          3.9,
          3.8,
          3.8,
          4.1,
          3.8,
          3.7,
          4,
          3.8,
          3.7,
          3.4,
          3.6,
          3.5,
          4.1,
          3.7,
          3.7,
          4.1,
          3.8,
          4,
          3.9,
          4.1,
          3.9,
          3.9,
          3.6,
          3.7,
          4,
          3.2,
          3.5,
          4,
          3.9,
          3.5,
          3.5,
          3.7,
          3.8,
          3,
          3.2,
          4,
          3.7,
          4.1,
          4.2,
          4.2,
          4,
          3.5,
          4.2,
          3.8,
          4.1,
          3.9,
          3.8,
          4,
          3.3,
          3.6,
          3.8,
          4.2,
          4,
          4.1,
          3.9,
          3.9,
          4.2,
          3.8,
          4.3,
          3.9,
          3.8,
          3.8,
          4.3,
          3.8,
          3.9,
          4,
          4,
          4,
          3.9,
          4,
          4.2,
          4.2,
          4.1,
          4.2,
          3.8,
          4.1,
          4,
          4.1,
          4.2,
          4.1,
          4.2,
          4.2,
          4.2,
          4,
          4.2,
          4,
          4,
          3.9,
          3.8,
          3.8,
          3.9,
          3.6,
          3.9,
          3.8,
          3.9,
          3.8,
          3,
          3.8,
          3.6,
          3.3,
          3.8,
          3.5,
          3,
          3.5,
          3.7,
          3.9,
          4,
          3.8,
          3.9,
          3.8,
          4.1,
          4.1,
          3.7,
          3.7,
          3.9,
          3.8,
          3.8,
          3.9,
          3.6,
          3.5,
          3,
          4.2,
          3.3,
          3.7,
          3.5,
          3,
          3.5,
          3.9,
          3.6,
          4,
          3,
          4.2,
          3.9,
          3.8,
          3.9,
          3.8,
          4.1,
          3.8,
          3.8,
          3.8,
          3.9,
          3.9,
          3.9,
          4,
          4.2,
          3.7,
          3.8,
          3.9,
          3.7,
          4.1,
          4.1,
          3.8,
          3.8,
          3.6,
          3.9,
          4,
          3.7,
          3.9,
          3.8,
          3.8,
          3.8,
          4.1,
          3.3,
          3,
          4.2,
          4.3,
          3.3,
          4.3,
          4.1,
          4.1,
          3.8,
          4,
          4,
          3.3,
          3,
          4,
          3.9,
          3.7,
          3.7,
          3.9,
          3.9,
          3.9,
          3.8,
          3.9,
          4.1,
          4,
          3.9,
          4.1,
          4.1,
          3.7,
          3.7,
          3.4,
          3.7,
          3.7,
          3.8,
          4.1,
          4,
          2.9,
          4.1,
          3.6,
          4.1,
          3.8,
          4.1,
          4,
          4.1,
          3.9,
          4,
          3.6,
          2.9,
          3.1,
          4,
          3.9,
          3.9,
          3.3,
          4.1,
          3.3,
          3.6,
          3.9,
          3.9,
          4.2,
          4,
          3.3,
          3.8,
          3.6,
          3.2,
          3.7,
          2.9,
          4,
          3.8,
          4,
          3.9,
          4,
          4.2,
          4,
          4,
          3.9,
          3.8,
          3.8,
          4,
          3,
          3.9,
          3.7,
          4.2,
          3.9,
          4.1,
          3.6,
          3.2,
          3.9,
          3.6,
          3.9,
          3.9,
          3.9,
          4.1,
          3.9,
          4,
          4.1,
          3.7,
          4.1,
          3.9,
          3,
          4,
          3.9,
          3.9,
          4.1,
          3.9,
          4.1,
          3.9,
          4.2,
          4,
          3.8,
          4,
          3.5,
          4.2,
          3.7,
          3.8,
          4.1,
          3.7,
          4.2,
          3.9,
          3.7,
          3.6,
          4,
          4,
          3.7,
          3.7,
          3.9,
          3.7,
          3.8,
          3.8,
          4,
          3.9,
          3.7,
          3.6,
          4,
          4.1,
          4,
          4.2,
          3.8,
          4,
          2.9,
          4,
          4,
          3.9,
          3.9,
          4.2,
          4.1,
          3.5,
          3.5,
          3.9,
          3,
          3.9,
          4,
          3,
          4.3,
          3.9,
          3.8,
          4.1,
          3.6,
          4.2,
          3.9,
          3.9,
          3.7,
          4.1,
          3.1,
          3.8,
          3.8,
          3.9,
          4.2,
          3.7,
          3.9,
          3.2,
          4.2,
          3.8,
          4,
          3.8,
          3.9,
          3,
          3.8,
          4.2,
          4.1,
          3.7,
          3.7,
          3.7,
          3.7,
          4.2,
          3.4,
          3.1,
          4,
          3.7,
          4.3,
          4,
          4.1,
          4,
          3.1,
          4.1,
          4,
          3.9,
          3.6,
          3.7,
          4.2,
          3.9,
          3.9,
          3.9,
          3.4,
          3.9,
          4,
          3.8,
          4.1,
          3.8,
          2.9,
          3.7,
          3.7,
          4.1,
          3.9,
          2.9,
          3.1,
          4.1,
          4.2,
          4,
          3.6,
          4,
          3.9,
          4.1,
          3.8,
          3,
          3.8,
          3,
          4.3,
          4,
          3.9,
          4,
          3.4,
          3.7,
          3.9,
          3.9,
          3.8,
          4,
          3.8,
          3.8,
          4.1,
          4,
          3.5,
          4.1,
          2.9,
          3,
          4,
          3.4,
          4,
          2.9,
          3.4,
          2.9,
          3.6,
          4,
          3.8,
          3.7,
          3.2,
          3.6,
          3.7,
          3.2,
          4.1,
          4.3,
          4.2,
          3.7,
          4.1,
          3.8,
          3.7,
          4.1,
          3.8,
          3.9,
          3.9,
          4,
          3.8,
          3.7,
          3.2,
          3.1,
          3.5,
          3,
          3.7,
          2.9,
          3.9,
          3.8,
          3.3,
          4,
          4.1,
          4,
          3.9,
          3.9,
          3.9,
          3.8,
          3.9,
          3.9,
          4,
          3.8,
          4.1,
          4.1,
          4.1,
          4.3,
          4.1,
          3.9,
          4.1,
          4,
          3.8,
          3.2,
          2.9,
          3.6,
          3.8,
          3.9,
          3.8,
          4,
          4.2,
          3.9,
          4.1,
          3.6,
          4,
          4,
          3.8,
          3.9,
          3.7,
          3.7,
          3.7,
          3.9,
          3.9,
          3.9,
          3.8,
          4,
          3.2,
          3.4,
          3.8,
          3.5,
          3,
          2.9,
          2.9,
          3.2,
          3.4,
          3.6,
          2.9,
          3.4,
          3.6,
          3.8,
          3,
          3.8,
          4,
          4,
          4,
          3.9,
          3.8,
          3.7,
          4.1,
          3.7,
          3.7,
          3.9,
          3.7,
          3.8,
          3.8,
          3.8,
          3.3,
          3.9,
          4.2,
          3.2,
          3.4,
          3.1,
          3.2,
          4,
          3.8,
          3.6,
          3.9,
          3.2,
          2.9,
          3.8,
          3.8,
          3.5,
          2.9,
          2.9,
          3.7,
          4,
          3.8,
          3.6,
          3.1,
          4.3,
          4.2,
          4.1,
          3.9,
          4.1,
          4.1,
          4.1,
          4.2,
          4.2,
          4.1,
          4.1,
          4,
          4,
          4.2,
          4.1,
          4.1,
          4,
          3.8,
          3.8,
          3.9,
          4,
          4.1,
          3.9,
          4.1,
          4,
          4.1,
          4,
          3.7,
          3.8,
          3.8,
          3.7,
          3.8,
          3.9,
          3.9,
          3.7,
          4.1,
          2.9,
          4,
          3.8,
          3.9,
          3.4,
          3.7,
          3.8,
          3.9,
          3.8,
          3.3,
          3.8,
          3.1,
          3.4,
          3.1,
          3.5,
          3,
          3.7,
          3,
          3.7,
          3.9,
          3.9,
          3.3,
          2.9,
          3.9,
          4,
          3.9,
          3.7,
          4,
          3,
          3.7,
          4.2,
          3.9,
          4.1,
          4,
          3.7,
          3.7,
          2.9,
          3.9,
          2.9,
          3.9,
          3.9,
          4.1,
          4.1,
          4,
          4.1,
          3.4,
          4.2,
          3.8,
          3.8,
          4.1,
          4.1,
          3.8,
          3.8,
          4.1,
          3.8,
          3.8,
          4.3,
          4.1,
          3.9,
          3.8,
          4,
          4.1,
          3.7,
          3.4,
          4.3,
          4.2,
          4.1,
          4.2,
          4.2,
          4.1,
          4.2,
          4.2,
          4.2,
          4,
          4.2,
          4.1,
          3.8,
          3.8,
          3.8,
          3.8,
          3.9,
          3.2,
          2.9,
          3.7,
          3.9,
          4.1,
          4.2,
          4,
          4.2,
          3.8,
          4.1,
          4,
          3.7,
          3.8,
          3.7,
          3.6,
          4.2,
          3.6,
          4.2,
          4.1,
          3.9,
          3.2,
          4,
          4,
          4,
          3.3,
          4,
          3.9,
          3.9,
          3.8,
          3.9,
          4.1,
          3.9,
          4.1,
          3.8,
          3.9,
          3.9,
          3.2,
          4.1,
          3.7,
          4.2,
          3.9,
          4.2,
          4.1,
          3.5,
          4,
          3.9,
          4.1,
          4.2,
          3.9,
          3.9,
          4,
          4.2,
          4.2,
          3.6,
          4.2,
          4.2,
          3.9,
          4.1,
          3.8,
          4.2,
          3.7,
          3,
          3.9,
          4.3,
          3.8,
          4.1,
          4.2,
          4,
          4.1,
          3.6,
          4.2,
          4.1,
          3.6,
          3.9,
          4.3,
          4.2,
          4.2,
          4.2,
          3.9,
          3.9,
          3.8,
          3.9,
          4,
          4.3,
          4.1,
          3.8,
          3.8,
          3.9,
          3.6,
          3.7,
          4,
          4.1,
          3.8,
          3.8,
          4,
          4,
          3.7,
          4.2,
          3,
          4.2,
          3.8,
          3.9,
          3.8,
          3.5,
          3.9,
          3.5,
          4,
          4.3,
          3.7,
          4.1,
          4.2,
          4.1,
          3.6,
          3.8,
          4,
          3.7,
          3.9,
          3.9,
          3.8,
          3.9,
          3.7,
          3.9,
          2.9,
          3.9,
          3.9,
          3.9,
          3.6,
          3,
          4.1,
          3.9,
          4.1,
          4.1,
          4,
          3.3,
          3.8,
          4.3,
          3.8,
          3.6,
          3.9,
          3.5,
          4.1,
          3.9,
          4.1,
          3,
          3.7,
          3.8,
          3.7,
          4,
          3.8,
          3.9,
          3.8,
          3.9,
          3.6,
          4,
          3.7,
          3.9,
          3.6,
          3.8,
          4.1,
          3.9,
          3.9,
          3.8,
          4.2,
          3.9,
          3.6,
          3.8,
          4.1,
          4.2,
          4.1,
          3.8,
          4.3,
          4.1,
          4.1,
          4.2,
          3.7,
          4,
          4,
          3.9,
          3.4,
          3.9,
          4.1,
          3.5,
          3.8,
          4,
          3.9,
          4,
          3.8,
          4.1,
          3.2,
          3.9,
          4,
          4.2,
          4.2,
          4.1,
          3.9,
          4.2,
          3.8,
          3.8,
          3.8,
          2.9,
          3.7,
          4.1,
          4,
          4.1,
          4,
          3.5,
          3.8,
          3.8,
          3.5,
          3.8,
          4.1,
          3.1,
          3.9,
          3.6,
          3.7,
          4.1,
          3.8,
          3,
          3.8,
          4,
          3.8,
          4.2,
          4.3,
          4.1,
          4.2,
          4,
          3.6,
          3.6,
          3.8,
          3.2,
          4,
          3.7,
          3.5,
          3.9,
          3.8,
          3.9,
          3.8,
          3.8,
          4.3,
          4,
          3.9,
          3.9,
          4,
          4,
          3.8,
          4.1,
          4.1,
          4.3,
          4.2,
          4.2,
          4.2,
          4.2,
          3.8,
          4.1,
          4.3,
          3.5,
          3.7,
          3.8,
          4,
          3.9,
          3.8,
          4.2,
          4,
          3.9,
          4.1,
          3.9,
          4.3,
          4,
          3.8,
          3.9,
          4.1,
          3.8,
          3.9,
          3.8,
          4.1,
          3.8,
          3.8,
          3.9,
          3.9,
          3.6,
          4,
          4.1,
          3.7,
          3.7,
          4.1,
          3.8,
          3.4,
          3.7,
          3.7,
          3.9,
          3.9,
          3.8,
          4.1,
          4.2,
          3.8,
          3.9,
          3.6,
          4.2,
          4.1,
          3.8,
          3.8,
          3.9,
          4.2,
          4.1,
          3.9,
          2.9,
          3.9,
          4,
          3.8,
          3.8,
          4,
          4.2,
          4.1,
          4.1,
          4.3,
          4.3,
          4.2,
          4.1,
          4.3,
          4.2,
          4,
          3.7,
          4.2,
          4.1,
          4.1,
          4.2,
          4.1,
          4,
          4,
          4.1,
          4.2,
          4.1,
          4.2,
          4.1,
          4.1,
          4,
          3.8,
          4.2,
          4.2,
          4.3,
          4.1,
          4.2,
          3.9,
          3.9,
          4.1,
          4.1,
          4.2,
          3.8,
          4.2,
          4.2,
          4,
          4,
          4.2,
          4,
          4.2,
          4.1,
          4.2,
          4.2,
          3.6,
          3.5,
          4,
          4.1,
          3.9,
          3.8,
          3.8,
          3.8,
          3.9,
          3.6,
          3.8,
          3.8,
          3,
          3.9,
          3.7,
          4,
          4,
          3.5,
          3.8,
          3.8,
          3.8,
          3.9,
          3.8,
          3.8,
          3.8,
          3.9,
          4,
          3.7,
          3.8,
          3.7,
          4.1,
          3.8,
          4.1,
          3.7,
          3.8,
          3.9,
          3.9,
          3.8,
          3.9,
          3.9,
          3.8,
          3.6,
          3.8,
          3,
          3.8,
          3.6,
          3.8,
          3.7,
          3,
          2.9,
          3.3,
          3.8,
          3.5,
          3.9,
          4.1,
          3.5,
          3.7,
          3.4,
          2.9,
          3,
          3.5,
          3.7,
          3.5,
          3.6,
          4,
          3.7,
          3.7,
          4.3,
          4.1,
          4.1,
          3.8,
          3.7,
          3.8,
          3,
          4.1,
          4,
          4.1,
          3,
          3.5,
          3,
          4.3,
          4.3,
          3.9,
          4,
          4.3,
          3,
          4,
          3.6,
          3.1,
          4,
          3.7,
          3.8,
          4,
          4.3,
          4.3,
          4.3,
          3.7,
          3.4,
          3.9,
          4.1,
          3.2,
          2.9,
          3.3,
          4.3,
          3.8,
          3.9,
          2.9,
          3.8,
          4,
          4,
          4.2,
          4.2,
          3.9,
          3.8,
          3.8,
          3.8,
          3.7,
          4,
          3.8,
          2.9,
          3.9,
          3.9,
          4,
          3.8,
          4.2,
          4.1,
          4,
          3.9,
          3.8,
          4.1,
          3.8,
          4,
          3.8,
          4,
          3.2,
          3.8,
          3.4,
          3.8,
          4,
          3.5,
          4,
          4.1,
          3.9,
          3.3,
          3.1,
          3.7,
          3.5,
          3.9,
          3.7,
          3.9,
          4.3,
          4.1,
          4,
          2.9,
          4.1,
          3.7,
          3.9,
          3.8,
          3.5,
          4.3,
          4.3,
          3.6,
          4,
          4.3,
          4.3,
          3.5,
          3.5,
          4,
          4.1,
          4,
          3.8,
          3.7,
          3.9,
          4.1,
          3.9,
          3.8,
          4,
          3.9,
          4,
          3.6,
          3.1,
          4.3,
          3.6,
          4,
          3.9,
          3.9,
          3,
          4.2,
          3,
          3.9,
          3.7,
          3.9,
          3.4,
          4.1,
          3.9,
          4,
          3.6,
          3.7,
          4.1,
          4.3,
          4.1,
          2.9,
          4.2,
          4,
          3,
          4.3,
          4,
          4,
          3.2,
          2.9,
          3.9,
          4.1,
          4,
          3.9,
          4,
          4,
          3.2,
          3.7,
          3.2,
          3.7,
          4,
          3.6,
          4,
          4,
          4.2,
          2.9,
          3.7,
          4.1,
          3.7,
          3.2,
          3.8,
          3.8,
          3.6,
          3.2,
          3.6,
          4.1,
          4.1,
          3,
          4,
          3.8,
          4,
          2.9,
          3.7,
          4.2,
          3.8,
          2.9,
          3.9,
          3,
          3.9,
          4.1,
          3.8,
          4,
          4,
          4,
          3.7,
          3.8,
          3.8,
          4.3,
          3.8,
          3.8,
          3.8,
          3.2,
          3.6,
          4.3,
          4,
          3,
          3.2,
          3.1,
          3.7,
          3.9,
          4.3,
          3.6,
          3.7,
          3.5,
          3.7,
          3.6,
          3.8,
          3.7,
          3.5,
          3.9,
          4.2,
          3.5,
          3,
          3.2,
          3.8,
          3.6,
          4,
          3.1,
          3.9,
          3.9,
          4.1,
          3.8,
          3.7,
          4.2,
          4,
          3.8,
          3,
          3.5,
          2.9,
          3.5,
          3.8,
          4.3,
          4,
          4,
          3.9,
          4.2,
          2.9,
          3.6,
          3.9,
          4.1,
          3.7,
          3.7,
          3.8,
          4,
          4.3,
          4.2,
          4.3,
          3.7,
          3.8,
          3.9,
          3.9,
          3.9,
          4.1,
          4.1,
          4,
          4.3,
          4.2,
          4,
          4,
          4,
          4,
          4,
          3.4,
          3.8,
          3.7,
          4,
          3.8,
          3.8,
          4,
          4.1,
          3,
          3.9,
          3.9,
          2.9,
          4.2,
          3.8,
          3,
          3.7,
          3,
          3.2,
          3.6,
          3.1,
          3.5,
          3.7,
          3.7,
          3,
          3.2,
          3.8,
          3.6,
          3.9,
          4,
          4.2,
          4,
          3.5,
          4,
          3.9,
          2.9,
          3.9,
          3.6,
          3.8,
          2.9,
          3.2,
          3.3,
          4,
          2.9,
          3.7,
          3.7,
          4.3,
          3.7,
          3.2,
          2.9,
          3,
          4.2,
          4.3,
          4.3,
          3.9,
          4,
          4.3,
          4.2,
          4.3,
          4.3,
          4.1,
          3.5,
          2.9,
          4.1,
          4.1,
          3.7,
          4,
          3.7,
          4.1,
          4,
          3.7,
          3.8,
          3,
          3.8,
          3.9,
          3.7,
          3.3,
          3.2,
          3.5,
          3.2,
          2.9,
          3.3,
          3.1,
          3.5,
          3.2,
          2.9,
          3.2,
          3.8,
          3.2,
          3.8,
          2.9,
          3.5,
          4,
          4.1,
          4.2,
          4.2,
          4.1,
          4.1,
          4.2,
          4.1,
          3.8,
          4,
          3.9,
          4.3,
          4,
          4.1,
          4.2,
          4.3,
          4.2,
          4,
          3.9,
          4.1,
          3.1,
          3.9,
          3,
          3.7,
          3.7,
          3.8,
          4,
          3.9,
          4.2,
          4.3,
          4.2,
          3.8,
          3.6,
          3.6,
          4.2,
          4,
          4.3,
          4.3,
          4.3,
          4.2,
          4.3,
          4.3,
          4.1,
          4.3,
          4,
          4.1,
          3.9,
          4.3,
          3.9,
          3.6,
          4,
          4.2,
          4.2,
          3.7,
          4,
          4.1,
          3.9,
          4.2,
          3.4,
          3.9,
          3.7,
          3.9,
          3.8,
          3.8,
          4.1,
          4.3,
          4.3,
          4.2,
          4.1,
          3.9,
          4,
          4.3,
          3.8,
          4,
          3.9,
          4.1,
          4,
          3.8,
          4.3,
          4.2,
          3.5,
          4.3,
          4.3,
          3.3,
          3.9,
          4.2,
          4.2,
          4,
          3.8,
          3.8,
          4.3,
          3.6,
          3.8,
          4,
          3.8,
          4.1,
          4.1,
          3.8,
          3.7,
          4.1,
          3.1,
          4.2,
          4.3,
          4.3,
          4.3,
          3.9,
          4,
          3.9,
          4,
          3.9,
          3.1,
          3,
          4.2,
          3.7,
          4,
          4.2,
          3.7,
          3.9,
          4,
          3.9,
          3.5,
          4.1,
          3.9,
          4.3,
          3.9,
          4.1,
          4,
          4.1,
          3.9,
          3.9,
          4.2,
          4,
          4.3,
          4,
          3.9,
          3.5,
          4,
          4.2,
          3.8,
          4.1,
          3.9,
          4,
          3.9,
          4.3,
          4.2,
          3.7,
          3.9,
          3.9,
          4.1,
          3.8,
          4,
          4.2,
          4.2,
          4.2,
          4,
          4.2,
          3.9,
          3.8,
          4.3,
          3.9,
          4.3,
          3.9,
          3.8,
          3.9,
          4,
          4.3,
          4.1,
          3.9,
          4.3,
          4.2,
          3.9,
          3.8,
          3.3,
          3.9,
          3.9,
          4.2,
          3.7,
          4.1,
          4.2,
          4.3,
          3.1,
          3.4,
          3.5,
          4.2,
          4.1,
          4.3,
          4,
          4.3,
          3.9,
          3.9,
          4.3,
          4.1,
          4,
          2.9,
          3.2,
          4.1,
          3.9,
          4.2,
          4,
          4,
          4.2,
          3.8,
          4.1,
          3.9,
          2.9,
          4,
          4,
          3.5,
          3.9,
          3.8,
          3.9,
          4,
          3.9,
          4.2,
          4.3,
          4.2,
          4.1,
          3.9,
          3.7,
          3.4,
          4.1,
          3.6,
          3.7,
          3.9,
          4.2,
          3.9,
          3.7,
          3.6,
          4.2,
          3.8,
          4.1,
          3.7,
          3.4,
          4.1,
          4.1,
          3.8,
          3.5,
          3.7,
          4.1,
          3.8,
          3,
          3.8,
          3.6,
          3.8,
          3.9,
          4.3,
          4,
          3.3,
          4,
          4,
          3.8,
          4.1,
          3.9,
          4.3,
          4.1,
          4.1,
          3.9,
          4.2,
          4.1,
          4,
          3.6,
          3.4,
          4,
          3.5,
          4.1,
          3.3,
          4,
          3.7,
          4.2,
          4.1,
          4.1,
          4,
          3.6,
          3.8,
          4,
          3.9,
          4,
          4.1,
          3.8,
          3.8,
          4,
          3.8,
          3.2,
          4,
          4.3,
          4.3,
          4,
          3,
          3.7,
          3.7,
          3.6,
          2.9,
          4.1,
          4.1,
          3.6,
          3.9,
          3.7,
          3.8,
          4,
          4.3,
          3.7,
          3.8,
          3.6,
          3.8,
          4.1,
          4.1,
          3.9,
          4.3,
          4.1,
          4.3,
          4.3,
          4.2,
          4.1,
          4.3,
          3.9,
          4.1,
          4,
          4.3,
          4.3,
          4.3,
          4,
          3.9,
          3.9,
          4,
          3.8,
          3.9,
          3.9,
          4,
          4.1,
          3.4,
          3.4,
          3,
          3.9,
          3.8,
          3.5,
          4.1,
          3.9,
          3.9,
          3.9,
          4,
          4.1,
          4.2,
          4,
          4.3,
          3.6,
          4.1,
          4.3,
          4,
          4.3,
          4.2,
          4.1,
          4.2,
          4,
          3.6,
          4,
          4.3,
          4.2,
          4,
          4,
          4,
          3.8,
          4.1,
          4,
          4,
          2.9,
          4,
          3.4,
          4.1,
          3.7,
          3.9,
          4.1,
          4.3,
          4.2,
          4.3,
          4.3,
          4.2,
          4,
          4.1,
          4,
          4.2,
          3.9,
          3.7,
          4.2,
          4.1,
          3.8,
          2.9,
          4,
          4,
          3.9,
          3.9,
          3.9,
          3.7,
          3.8,
          3.9,
          3.9,
          3.6,
          4.1,
          3.8,
          3.9,
          4,
          3.7,
          3.7,
          4.2,
          3.4,
          3.5,
          4.3,
          4.3,
          4.3,
          4.3,
          4.1,
          4.2,
          4.2,
          3.9,
          4.2,
          4.3,
          4.3,
          3.9,
          4.3,
          4.1,
          4.1,
          4.3,
          4.3,
          4.1,
          4.2,
          4.3,
          4,
          4.3,
          4.1,
          4.2,
          4.2,
          3.9,
          4.3,
          4.2,
          4,
          4.3,
          4.2,
          4.1,
          4,
          4.2,
          4.1,
          4.1,
          4.3,
          4.3,
          3.9,
          4.1,
          4.3,
          3.9,
          4.1,
          4,
          4.1,
          4.1,
          4.1,
          3.9,
          4.3,
          4.3,
          4.1,
          4,
          4.1,
          4,
          4.3,
          4,
          4,
          3.9,
          4.2,
          4.3,
          4.2,
          3.9,
          3.9,
          3.9,
          3.6,
          3.9,
          4.2,
          4.1,
          4.2,
          4.1,
          4,
          4.2,
          3.9,
          4,
          3.7,
          3.8,
          4.2,
          3.9,
          3.9,
          3.9,
          3.6,
          3,
          3.7,
          3.6,
          4.1,
          3.1,
          4,
          4.1,
          3.1,
          3.7,
          3.9,
          3.8,
          3.8,
          3.9,
          4.2,
          3.9,
          3.9,
          3.4,
          3.9,
          3.7,
          3.8,
          3.3,
          3.8,
          3,
          3.7,
          4.1,
          4,
          3.8,
          3.7,
          3.8,
          4,
          3.8,
          3.5,
          3.6,
          2.9,
          3.8,
          3.9,
          3.8,
          3.7,
          3.4,
          3.8,
          3.4,
          4.1,
          4.1,
          4,
          4.1,
          3.6,
          3.9,
          4,
          4.1,
          4.3,
          4,
          4.1,
          4,
          4.1,
          3.6,
          4,
          3.9,
          4,
          3.9,
          3,
          3.2,
          3.9,
          3.6,
          3.8
         ]
        }
       ],
       "layout": {
        "height": 900,
        "template": {
         "data": {
          "bar": [
           {
            "error_x": {
             "color": "#2a3f5f"
            },
            "error_y": {
             "color": "#2a3f5f"
            },
            "marker": {
             "line": {
              "color": "#E5ECF6",
              "width": 0.5
             },
             "pattern": {
              "fillmode": "overlay",
              "size": 10,
              "solidity": 0.2
             }
            },
            "type": "bar"
           }
          ],
          "barpolar": [
           {
            "marker": {
             "line": {
              "color": "#E5ECF6",
              "width": 0.5
             },
             "pattern": {
              "fillmode": "overlay",
              "size": 10,
              "solidity": 0.2
             }
            },
            "type": "barpolar"
           }
          ],
          "carpet": [
           {
            "aaxis": {
             "endlinecolor": "#2a3f5f",
             "gridcolor": "white",
             "linecolor": "white",
             "minorgridcolor": "white",
             "startlinecolor": "#2a3f5f"
            },
            "baxis": {
             "endlinecolor": "#2a3f5f",
             "gridcolor": "white",
             "linecolor": "white",
             "minorgridcolor": "white",
             "startlinecolor": "#2a3f5f"
            },
            "type": "carpet"
           }
          ],
          "choropleth": [
           {
            "colorbar": {
             "outlinewidth": 0,
             "ticks": ""
            },
            "type": "choropleth"
           }
          ],
          "contour": [
           {
            "colorbar": {
             "outlinewidth": 0,
             "ticks": ""
            },
            "colorscale": [
             [
              0,
              "#0d0887"
             ],
             [
              0.1111111111111111,
              "#46039f"
             ],
             [
              0.2222222222222222,
              "#7201a8"
             ],
             [
              0.3333333333333333,
              "#9c179e"
             ],
             [
              0.4444444444444444,
              "#bd3786"
             ],
             [
              0.5555555555555556,
              "#d8576b"
             ],
             [
              0.6666666666666666,
              "#ed7953"
             ],
             [
              0.7777777777777778,
              "#fb9f3a"
             ],
             [
              0.8888888888888888,
              "#fdca26"
             ],
             [
              1,
              "#f0f921"
             ]
            ],
            "type": "contour"
           }
          ],
          "contourcarpet": [
           {
            "colorbar": {
             "outlinewidth": 0,
             "ticks": ""
            },
            "type": "contourcarpet"
           }
          ],
          "heatmap": [
           {
            "colorbar": {
             "outlinewidth": 0,
             "ticks": ""
            },
            "colorscale": [
             [
              0,
              "#0d0887"
             ],
             [
              0.1111111111111111,
              "#46039f"
             ],
             [
              0.2222222222222222,
              "#7201a8"
             ],
             [
              0.3333333333333333,
              "#9c179e"
             ],
             [
              0.4444444444444444,
              "#bd3786"
             ],
             [
              0.5555555555555556,
              "#d8576b"
             ],
             [
              0.6666666666666666,
              "#ed7953"
             ],
             [
              0.7777777777777778,
              "#fb9f3a"
             ],
             [
              0.8888888888888888,
              "#fdca26"
             ],
             [
              1,
              "#f0f921"
             ]
            ],
            "type": "heatmap"
           }
          ],
          "heatmapgl": [
           {
            "colorbar": {
             "outlinewidth": 0,
             "ticks": ""
            },
            "colorscale": [
             [
              0,
              "#0d0887"
             ],
             [
              0.1111111111111111,
              "#46039f"
             ],
             [
              0.2222222222222222,
              "#7201a8"
             ],
             [
              0.3333333333333333,
              "#9c179e"
             ],
             [
              0.4444444444444444,
              "#bd3786"
             ],
             [
              0.5555555555555556,
              "#d8576b"
             ],
             [
              0.6666666666666666,
              "#ed7953"
             ],
             [
              0.7777777777777778,
              "#fb9f3a"
             ],
             [
              0.8888888888888888,
              "#fdca26"
             ],
             [
              1,
              "#f0f921"
             ]
            ],
            "type": "heatmapgl"
           }
          ],
          "histogram": [
           {
            "marker": {
             "pattern": {
              "fillmode": "overlay",
              "size": 10,
              "solidity": 0.2
             }
            },
            "type": "histogram"
           }
          ],
          "histogram2d": [
           {
            "colorbar": {
             "outlinewidth": 0,
             "ticks": ""
            },
            "colorscale": [
             [
              0,
              "#0d0887"
             ],
             [
              0.1111111111111111,
              "#46039f"
             ],
             [
              0.2222222222222222,
              "#7201a8"
             ],
             [
              0.3333333333333333,
              "#9c179e"
             ],
             [
              0.4444444444444444,
              "#bd3786"
             ],
             [
              0.5555555555555556,
              "#d8576b"
             ],
             [
              0.6666666666666666,
              "#ed7953"
             ],
             [
              0.7777777777777778,
              "#fb9f3a"
             ],
             [
              0.8888888888888888,
              "#fdca26"
             ],
             [
              1,
              "#f0f921"
             ]
            ],
            "type": "histogram2d"
           }
          ],
          "histogram2dcontour": [
           {
            "colorbar": {
             "outlinewidth": 0,
             "ticks": ""
            },
            "colorscale": [
             [
              0,
              "#0d0887"
             ],
             [
              0.1111111111111111,
              "#46039f"
             ],
             [
              0.2222222222222222,
              "#7201a8"
             ],
             [
              0.3333333333333333,
              "#9c179e"
             ],
             [
              0.4444444444444444,
              "#bd3786"
             ],
             [
              0.5555555555555556,
              "#d8576b"
             ],
             [
              0.6666666666666666,
              "#ed7953"
             ],
             [
              0.7777777777777778,
              "#fb9f3a"
             ],
             [
              0.8888888888888888,
              "#fdca26"
             ],
             [
              1,
              "#f0f921"
             ]
            ],
            "type": "histogram2dcontour"
           }
          ],
          "mesh3d": [
           {
            "colorbar": {
             "outlinewidth": 0,
             "ticks": ""
            },
            "type": "mesh3d"
           }
          ],
          "parcoords": [
           {
            "line": {
             "colorbar": {
              "outlinewidth": 0,
              "ticks": ""
             }
            },
            "type": "parcoords"
           }
          ],
          "pie": [
           {
            "automargin": true,
            "type": "pie"
           }
          ],
          "scatter": [
           {
            "fillpattern": {
             "fillmode": "overlay",
             "size": 10,
             "solidity": 0.2
            },
            "type": "scatter"
           }
          ],
          "scatter3d": [
           {
            "line": {
             "colorbar": {
              "outlinewidth": 0,
              "ticks": ""
             }
            },
            "marker": {
             "colorbar": {
              "outlinewidth": 0,
              "ticks": ""
             }
            },
            "type": "scatter3d"
           }
          ],
          "scattercarpet": [
           {
            "marker": {
             "colorbar": {
              "outlinewidth": 0,
              "ticks": ""
             }
            },
            "type": "scattercarpet"
           }
          ],
          "scattergeo": [
           {
            "marker": {
             "colorbar": {
              "outlinewidth": 0,
              "ticks": ""
             }
            },
            "type": "scattergeo"
           }
          ],
          "scattergl": [
           {
            "marker": {
             "colorbar": {
              "outlinewidth": 0,
              "ticks": ""
             }
            },
            "type": "scattergl"
           }
          ],
          "scattermapbox": [
           {
            "marker": {
             "colorbar": {
              "outlinewidth": 0,
              "ticks": ""
             }
            },
            "type": "scattermapbox"
           }
          ],
          "scatterpolar": [
           {
            "marker": {
             "colorbar": {
              "outlinewidth": 0,
              "ticks": ""
             }
            },
            "type": "scatterpolar"
           }
          ],
          "scatterpolargl": [
           {
            "marker": {
             "colorbar": {
              "outlinewidth": 0,
              "ticks": ""
             }
            },
            "type": "scatterpolargl"
           }
          ],
          "scatterternary": [
           {
            "marker": {
             "colorbar": {
              "outlinewidth": 0,
              "ticks": ""
             }
            },
            "type": "scatterternary"
           }
          ],
          "surface": [
           {
            "colorbar": {
             "outlinewidth": 0,
             "ticks": ""
            },
            "colorscale": [
             [
              0,
              "#0d0887"
             ],
             [
              0.1111111111111111,
              "#46039f"
             ],
             [
              0.2222222222222222,
              "#7201a8"
             ],
             [
              0.3333333333333333,
              "#9c179e"
             ],
             [
              0.4444444444444444,
              "#bd3786"
             ],
             [
              0.5555555555555556,
              "#d8576b"
             ],
             [
              0.6666666666666666,
              "#ed7953"
             ],
             [
              0.7777777777777778,
              "#fb9f3a"
             ],
             [
              0.8888888888888888,
              "#fdca26"
             ],
             [
              1,
              "#f0f921"
             ]
            ],
            "type": "surface"
           }
          ],
          "table": [
           {
            "cells": {
             "fill": {
              "color": "#EBF0F8"
             },
             "line": {
              "color": "white"
             }
            },
            "header": {
             "fill": {
              "color": "#C8D4E3"
             },
             "line": {
              "color": "white"
             }
            },
            "type": "table"
           }
          ]
         },
         "layout": {
          "annotationdefaults": {
           "arrowcolor": "#2a3f5f",
           "arrowhead": 0,
           "arrowwidth": 1
          },
          "autotypenumbers": "strict",
          "coloraxis": {
           "colorbar": {
            "outlinewidth": 0,
            "ticks": ""
           }
          },
          "colorscale": {
           "diverging": [
            [
             0,
             "#8e0152"
            ],
            [
             0.1,
             "#c51b7d"
            ],
            [
             0.2,
             "#de77ae"
            ],
            [
             0.3,
             "#f1b6da"
            ],
            [
             0.4,
             "#fde0ef"
            ],
            [
             0.5,
             "#f7f7f7"
            ],
            [
             0.6,
             "#e6f5d0"
            ],
            [
             0.7,
             "#b8e186"
            ],
            [
             0.8,
             "#7fbc41"
            ],
            [
             0.9,
             "#4d9221"
            ],
            [
             1,
             "#276419"
            ]
           ],
           "sequential": [
            [
             0,
             "#0d0887"
            ],
            [
             0.1111111111111111,
             "#46039f"
            ],
            [
             0.2222222222222222,
             "#7201a8"
            ],
            [
             0.3333333333333333,
             "#9c179e"
            ],
            [
             0.4444444444444444,
             "#bd3786"
            ],
            [
             0.5555555555555556,
             "#d8576b"
            ],
            [
             0.6666666666666666,
             "#ed7953"
            ],
            [
             0.7777777777777778,
             "#fb9f3a"
            ],
            [
             0.8888888888888888,
             "#fdca26"
            ],
            [
             1,
             "#f0f921"
            ]
           ],
           "sequentialminus": [
            [
             0,
             "#0d0887"
            ],
            [
             0.1111111111111111,
             "#46039f"
            ],
            [
             0.2222222222222222,
             "#7201a8"
            ],
            [
             0.3333333333333333,
             "#9c179e"
            ],
            [
             0.4444444444444444,
             "#bd3786"
            ],
            [
             0.5555555555555556,
             "#d8576b"
            ],
            [
             0.6666666666666666,
             "#ed7953"
            ],
            [
             0.7777777777777778,
             "#fb9f3a"
            ],
            [
             0.8888888888888888,
             "#fdca26"
            ],
            [
             1,
             "#f0f921"
            ]
           ]
          },
          "colorway": [
           "#636efa",
           "#EF553B",
           "#00cc96",
           "#ab63fa",
           "#FFA15A",
           "#19d3f3",
           "#FF6692",
           "#B6E880",
           "#FF97FF",
           "#FECB52"
          ],
          "font": {
           "color": "#2a3f5f"
          },
          "geo": {
           "bgcolor": "white",
           "lakecolor": "white",
           "landcolor": "#E5ECF6",
           "showlakes": true,
           "showland": true,
           "subunitcolor": "white"
          },
          "hoverlabel": {
           "align": "left"
          },
          "hovermode": "closest",
          "mapbox": {
           "style": "light"
          },
          "paper_bgcolor": "white",
          "plot_bgcolor": "#E5ECF6",
          "polar": {
           "angularaxis": {
            "gridcolor": "white",
            "linecolor": "white",
            "ticks": ""
           },
           "bgcolor": "#E5ECF6",
           "radialaxis": {
            "gridcolor": "white",
            "linecolor": "white",
            "ticks": ""
           }
          },
          "scene": {
           "xaxis": {
            "backgroundcolor": "#E5ECF6",
            "gridcolor": "white",
            "gridwidth": 2,
            "linecolor": "white",
            "showbackground": true,
            "ticks": "",
            "zerolinecolor": "white"
           },
           "yaxis": {
            "backgroundcolor": "#E5ECF6",
            "gridcolor": "white",
            "gridwidth": 2,
            "linecolor": "white",
            "showbackground": true,
            "ticks": "",
            "zerolinecolor": "white"
           },
           "zaxis": {
            "backgroundcolor": "#E5ECF6",
            "gridcolor": "white",
            "gridwidth": 2,
            "linecolor": "white",
            "showbackground": true,
            "ticks": "",
            "zerolinecolor": "white"
           }
          },
          "shapedefaults": {
           "line": {
            "color": "#2a3f5f"
           }
          },
          "ternary": {
           "aaxis": {
            "gridcolor": "white",
            "linecolor": "white",
            "ticks": ""
           },
           "baxis": {
            "gridcolor": "white",
            "linecolor": "white",
            "ticks": ""
           },
           "bgcolor": "#E5ECF6",
           "caxis": {
            "gridcolor": "white",
            "linecolor": "white",
            "ticks": ""
           }
          },
          "title": {
           "x": 0.05
          },
          "xaxis": {
           "automargin": true,
           "gridcolor": "white",
           "linecolor": "white",
           "ticks": "",
           "title": {
            "standoff": 15
           },
           "zerolinecolor": "white",
           "zerolinewidth": 2
          },
          "yaxis": {
           "automargin": true,
           "gridcolor": "white",
           "linecolor": "white",
           "ticks": "",
           "title": {
            "standoff": 15
           },
           "zerolinecolor": "white",
           "zerolinewidth": 2
          }
         }
        },
        "title": {
         "text": "Box plot of approx cost"
        },
        "width": 800,
        "yaxis": {
         "title": {
          "text": "rate"
         }
        }
       }
      },
      "text/html": [
       "<div>                            <div id=\"be853cfe-ba10-488a-aae9-7b48f1ea1a18\" class=\"plotly-graph-div\" style=\"height:900px; width:800px;\"></div>            <script type=\"text/javascript\">                require([\"plotly\"], function(Plotly) {                    window.PLOTLYENV=window.PLOTLYENV || {};                                    if (document.getElementById(\"be853cfe-ba10-488a-aae9-7b48f1ea1a18\")) {                    Plotly.newPlot(                        \"be853cfe-ba10-488a-aae9-7b48f1ea1a18\",                        [{\"marker\":{\"color\":\"rgb(113,10,100)\"},\"name\":\"Accepting Online Order\",\"y\":[4.1,4.1,3.8,3.7,3.8,3.8,4.0,4.2,4.1,4.2,4.2,4.0,3.8,3.8,3.9,3.8,3.9,3.0,3.7,3.6,3.8,4.0,3.9,4.2,3.9,4.2,3.9,3.9,3.8,3.6,4.0,3.7,3.1,4.3,4.0,4.0,3.9,4.2,4.2,3.6,4.0,4.1,4.1,4.1,3.6,3.8,4.2,3.3,3.7,3.8,3.5,3.8,4.1,4.0,3.0,4.1,3.8,3.8,4.1,3.8,4.1,3.7,3.7,3.6,4.1,3.2,4.2,3.0,3.8,3.9,4.1,3.9,3.9,4.2,4.1,3.8,3.3,3.0,3.8,3.8,4.1,4.2,4.1,3.9,3.6,3.6,4.2,4.3,4.3,3.8,3.9,3.6,3.8,3.6,3.8,3.9,3.7,2.9,3.7,3.8,3.8,3.8,3.8,3.8,3.9,3.6,4.1,3.9,3.9,4.1,3.8,4.2,3.7,4.3,3.9,3.7,3.9,3.8,3.9,4.1,3.6,4.0,3.7,4.1,4.0,3.4,3.9,4.0,4.2,4.0,3.5,3.9,3.9,3.8,3.8,4.1,3.8,3.7,4.0,3.8,3.7,3.4,3.6,3.5,4.1,3.7,3.7,4.1,3.8,4.0,3.9,4.1,3.9,3.9,3.6,3.7,4.0,3.2,3.5,4.0,3.9,3.5,3.5,3.7,3.8,3.0,3.2,4.0,3.7,4.1,4.2,4.2,4.0,3.5,4.2,3.8,4.1,3.9,3.8,4.0,3.3,3.6,3.8,4.2,4.0,4.1,3.9,3.9,4.2,3.8,4.3,3.9,3.8,3.8,4.3,3.8,3.9,4.0,4.0,4.0,3.9,4.0,4.2,4.2,4.1,4.2,3.8,4.1,4.0,4.1,4.2,4.1,4.2,4.2,4.2,4.0,4.2,4.0,4.0,3.9,3.8,3.8,3.9,3.6,3.9,3.8,3.9,3.8,3.0,3.8,3.6,3.3,3.8,3.5,3.0,3.5,3.7,3.9,4.0,3.8,3.9,3.8,4.1,4.1,3.7,3.7,3.9,3.8,3.8,3.9,3.6,3.5,3.0,4.2,3.3,3.7,3.5,3.0,3.5,3.9,3.6,4.0,3.0,4.2,3.9,3.8,3.9,3.8,4.1,3.8,3.8,3.8,3.9,3.9,3.9,4.0,4.2,3.7,3.8,3.9,3.7,4.1,4.1,3.8,3.8,3.6,3.9,4.0,3.7,3.9,3.8,3.8,3.8,4.1,3.3,3.0,4.2,4.3,3.3,4.3,4.1,4.1,3.8,4.0,4.0,3.3,3.0,4.0,3.9,3.7,3.7,3.9,3.9,3.9,3.8,3.9,4.1,4.0,3.9,4.1,4.1,3.7,3.7,3.4,3.7,3.7,3.8,4.1,4.0,2.9,4.1,3.6,4.1,3.8,4.1,4.0,4.1,3.9,4.0,3.6,2.9,3.1,4.0,3.9,3.9,3.3,4.1,3.3,3.6,3.9,3.9,4.2,4.0,3.3,3.8,3.6,3.2,3.7,2.9,4.0,3.8,4.0,3.9,4.0,4.2,4.0,4.0,3.9,3.8,3.8,4.0,3.0,3.9,3.7,4.2,3.9,4.1,3.6,3.2,3.9,3.6,3.9,3.9,3.9,4.1,3.9,4.0,4.1,3.7,4.1,3.9,3.0,4.0,3.9,3.9,4.1,3.9,4.1,3.9,4.2,4.0,3.8,4.0,3.5,4.2,3.7,3.8,4.1,3.7,4.2,3.9,3.7,3.6,4.0,4.0,3.7,3.7,3.9,3.7,3.8,3.8,4.0,3.9,3.7,3.6,4.0,4.1,4.0,4.2,3.8,4.0,2.9,4.0,4.0,3.9,3.9,4.2,4.1,3.5,3.5,3.9,3.0,3.9,4.0,3.0,4.3,3.9,3.8,4.1,3.6,4.2,3.9,3.9,3.7,4.1,3.1,3.8,3.8,3.9,4.2,3.7,3.9,3.2,4.2,3.8,4.0,3.8,3.9,3.0,3.8,4.2,4.1,3.7,3.7,3.7,3.7,4.2,3.4,3.1,4.0,3.7,4.3,4.0,4.1,4.0,3.1,4.1,4.0,3.9,3.6,3.7,4.2,3.9,3.9,3.9,3.4,3.9,4.0,3.8,4.1,3.8,2.9,3.7,3.7,4.1,3.9,2.9,3.1,4.1,4.2,4.0,3.6,4.0,3.9,4.1,3.8,3.0,3.8,3.0,4.3,4.0,3.9,4.0,3.4,3.7,3.9,3.9,3.8,4.0,3.8,3.8,4.1,4.0,3.5,4.1,2.9,3.0,4.0,3.4,4.0,2.9,3.4,2.9,3.6,4.0,3.8,3.7,3.2,3.6,3.7,3.2,4.1,4.3,4.2,3.7,4.1,3.8,3.7,4.1,3.8,3.9,3.9,4.0,3.8,3.7,3.2,3.1,3.5,3.0,3.7,2.9,3.9,3.8,3.3,4.0,4.1,4.0,3.9,3.9,3.9,3.8,3.9,3.9,4.0,3.8,4.1,4.1,4.1,4.3,4.1,3.9,4.1,4.0,3.8,3.2,2.9,3.6,3.8,3.9,3.8,4.0,4.2,3.9,4.1,3.6,4.0,4.0,3.8,3.9,3.7,3.7,3.7,3.9,3.9,3.9,3.8,4.0,3.2,3.4,3.8,3.5,3.0,2.9,2.9,3.2,3.4,3.6,2.9,3.4,3.6,3.8,3.0,3.8,4.0,4.0,4.0,3.9,3.8,3.7,4.1,3.7,3.7,3.9,3.7,3.8,3.8,3.8,3.3,3.9,4.2,3.2,3.4,3.1,3.2,4.0,3.8,3.6,3.9,3.2,2.9,3.8,3.8,3.5,2.9,2.9,3.7,4.0,3.8,3.6,3.1,4.3,4.2,4.1,3.9,4.1,4.1,4.1,4.2,4.2,4.1,4.1,4.0,4.0,4.2,4.1,4.1,4.0,3.8,3.8,3.9,4.0,4.1,3.9,4.1,4.0,4.1,4.0,3.7,3.8,3.8,3.7,3.8,3.9,3.9,3.7,4.1,2.9,4.0,3.8,3.9,3.4,3.7,3.8,3.9,3.8,3.3,3.8,3.1,3.4,3.1,3.5,3.0,3.7,3.0,3.7,3.9,3.9,3.3,2.9,3.9,4.0,3.9,3.7,4.0,3.0,3.7,4.2,3.9,4.1,4.0,3.7,3.7,2.9,3.9,2.9,3.9,3.9,4.1,4.1,4.0,4.1,3.4,4.2,3.8,3.8,4.1,4.1,3.8,3.8,4.1,3.8,3.8,4.3,4.1,3.9,3.8,4.0,4.1,3.7,3.4,4.3,4.2,4.1,4.2,4.2,4.1,4.2,4.2,4.2,4.0,4.2,4.1,3.8,3.8,3.8,3.8,3.9,3.2,2.9,3.7,3.9,4.1,4.2,4.0,4.2,3.8,4.1,4.0,3.7,3.8,3.7,3.6,4.2,3.6,4.2,4.1,3.9,3.2,4.0,4.0,4.0,3.3,4.0,3.9,3.9,3.8,3.9,4.1,3.9,4.1,3.8,3.9,3.9,3.2,4.1,3.7,4.2,3.9,4.2,4.1,3.5,4.0,3.9,4.1,4.2,3.9,3.9,4.0,4.2,4.2,3.6,4.2,4.2,3.9,4.1,3.8,4.2,3.7,3.0,3.9,4.3,3.8,4.1,4.2,4.0,4.1,3.6,4.2,4.1,3.6,3.9,4.3,4.2,4.2,4.2,3.9,3.9,3.8,3.9,4.0,4.3,4.1,3.8,3.8,3.9,3.6,3.7,4.0,4.1,3.8,3.8,4.0,4.0,3.7,4.2,3.0,4.2,3.8,3.9,3.8,3.5,3.9,3.5,4.0,4.3,3.7,4.1,4.2,4.1,3.6,3.8,4.0,3.7,3.9,3.9,3.8,3.9,3.7,3.9,2.9,3.9,3.9,3.9,3.6,3.0,4.1,3.9,4.1,4.1,4.0,3.3,3.8,4.3,3.8,3.6,3.9,3.5,4.1,3.9,4.1,3.0,3.7,3.8,3.7,4.0,3.8,3.9,3.8,3.9,3.6,4.0,3.7,3.9,3.6,3.8,4.1,3.9,3.9,3.8,4.2,3.9,3.6,3.8,4.1,4.2,4.1,3.8,4.3,4.1,4.1,4.2,3.7,4.0,4.0,3.9,3.4,3.9,4.1,3.5,3.8,4.0,3.9,4.0,3.8,4.1,3.2,3.9,4.0,4.2,4.2,4.1,3.9,4.2,3.8,3.8,3.8,2.9,3.7,4.1,4.0,4.1,4.0,3.5,3.8,3.8,3.5,3.8,4.1,3.1,3.9,3.6,3.7,4.1,3.8,3.0,3.8,4.0,3.8,4.2,4.3,4.1,4.2,4.0,3.6,3.6,3.8,3.2,4.0,3.7,3.5,3.9,3.8,3.9,3.8,3.8,4.3,4.0,3.9,3.9,4.0,4.0,3.8,4.1,4.1,4.3,4.2,4.2,4.2,4.2,3.8,4.1,4.3,3.5,3.7,3.8,4.0,3.9,3.8,4.2,4.0,3.9,4.1,3.9,4.3,4.0,3.8,3.9,4.1,3.8,3.9,3.8,4.1,3.8,3.8,3.9,3.9,3.6,4.0,4.1,3.7,3.7,4.1,3.8,3.4,3.7,3.7,3.9,3.9,3.8,4.1,4.2,3.8,3.9,3.6,4.2,4.1,3.8,3.8,3.9,4.2,4.1,3.9,2.9,3.9,4.0,3.8,3.8,4.0,4.2,4.1,4.1,4.3,4.3,4.2,4.1,4.3,4.2,4.0,3.7,4.2,4.1,4.1,4.2,4.1,4.0,4.0,4.1,4.2,4.1,4.2,4.1,4.1,4.0,3.8,4.2,4.2,4.3,4.1,4.2,3.9,3.9,4.1,4.1,4.2,3.8,4.2,4.2,4.0,4.0,4.2,4.0,4.2,4.1,4.2,4.2,3.6,3.5,4.0,4.1,3.9,3.8,3.8,3.8,3.9,3.6,3.8,3.8,3.0,3.9,3.7,4.0,4.0,3.5,3.8,3.8,3.8,3.9,3.8,3.8,3.8,3.9,4.0,3.7,3.8,3.7,4.1,3.8,4.1,3.7,3.8,3.9,3.9,3.8,3.9,3.9,3.8,3.6,3.8,3.0,3.8,3.6,3.8,3.7,3.0,2.9,3.3,3.8,3.5,3.9,4.1,3.5,3.7,3.4,2.9,3.0,3.5,3.7,3.5,3.6,4.0,3.7,3.7,4.3,4.1,4.1,3.8,3.7,3.8,3.0,4.1,4.0,4.1,3.0,3.5,3.0,4.3,4.3,3.9,4.0,4.3,3.0,4.0,3.6,3.1,4.0,3.7,3.8,4.0,4.3,4.3,4.3,3.7,3.4,3.9,4.1,3.2,2.9,3.3,4.3,3.8,3.9,2.9,3.8,4.0,4.0,4.2,4.2,3.9,3.8,3.8,3.8,3.7,4.0,3.8,2.9,3.9,3.9,4.0,3.8,4.2,4.1,4.0,3.9,3.8,4.1,3.8,4.0,3.8,4.0,3.2,3.8,3.4,3.8,4.0,3.5,4.0,4.1,3.9,3.3,3.1,3.7,3.5,3.9,3.7,3.9,4.3,4.1,4.0,2.9,4.1,3.7,3.9,3.8,3.5,4.3,4.3,3.6,4.0,4.3,4.3,3.5,3.5,4.0,4.1,4.0,3.8,3.7,3.9,4.1,3.9,3.8,4.0,3.9,4.0,3.6,3.1,4.3,3.6,4.0,3.9,3.9,3.0,4.2,3.0,3.9,3.7,3.9,3.4,4.1,3.9,4.0,3.6,3.7,4.1,4.3,4.1,2.9,4.2,4.0,3.0,4.3,4.0,4.0,3.2,2.9,3.9,4.1,4.0,3.9,4.0,4.0,3.2,3.7,3.2,3.7,4.0,3.6,4.0,4.0,4.2,2.9,3.7,4.1,3.7,3.2,3.8,3.8,3.6,3.2,3.6,4.1,4.1,3.0,4.0,3.8,4.0,2.9,3.7,4.2,3.8,2.9,3.9,3.0,3.9,4.1,3.8,4.0,4.0,4.0,3.7,3.8,3.8,4.3,3.8,3.8,3.8,3.2,3.6,4.3,4.0,3.0,3.2,3.1,3.7,3.9,4.3,3.6,3.7,3.5,3.7,3.6,3.8,3.7,3.5,3.9,4.2,3.5,3.0,3.2,3.8,3.6,4.0,3.1,3.9,3.9,4.1,3.8,3.7,4.2,4.0,3.8,3.0,3.5,2.9,3.5,3.8,4.3,4.0,4.0,3.9,4.2,2.9,3.6,3.9,4.1,3.7,3.7,3.8,4.0,4.3,4.2,4.3,3.7,3.8,3.9,3.9,3.9,4.1,4.1,4.0,4.3,4.2,4.0,4.0,4.0,4.0,4.0,3.4,3.8,3.7,4.0,3.8,3.8,4.0,4.1,3.0,3.9,3.9,2.9,4.2,3.8,3.0,3.7,3.0,3.2,3.6,3.1,3.5,3.7,3.7,3.0,3.2,3.8,3.6,3.9,4.0,4.2,4.0,3.5,4.0,3.9,2.9,3.9,3.6,3.8,2.9,3.2,3.3,4.0,2.9,3.7,3.7,4.3,3.7,3.2,2.9,3.0,4.2,4.3,4.3,3.9,4.0,4.3,4.2,4.3,4.3,4.1,3.5,2.9,4.1,4.1,3.7,4.0,3.7,4.1,4.0,3.7,3.8,3.0,3.8,3.9,3.7,3.3,3.2,3.5,3.2,2.9,3.3,3.1,3.5,3.2,2.9,3.2,3.8,3.2,3.8,2.9,3.5,4.0,4.1,4.2,4.2,4.1,4.1,4.2,4.1,3.8,4.0,3.9,4.3,4.0,4.1,4.2,4.3,4.2,4.0,3.9,4.1,3.1,3.9,3.0,3.7,3.7,3.8,4.0,3.9,4.2,4.3,4.2,3.8,3.6,3.6,4.2,4.0,4.3,4.3,4.3,4.2,4.3,4.3,4.1,4.3,4.0,4.1,3.9,4.3,3.9,3.6,4.0,4.2,4.2,3.7,4.0,4.1,3.9,4.2,3.4,3.9,3.7,3.9,3.8,3.8,4.1,4.3,4.3,4.2,4.1,3.9,4.0,4.3,3.8,4.0,3.9,4.1,4.0,3.8,4.3,4.2,3.5,4.3,4.3,3.3,3.9,4.2,4.2,4.0,3.8,3.8,4.3,3.6,3.8,4.0,3.8,4.1,4.1,3.8,3.7,4.1,3.1,4.2,4.3,4.3,4.3,3.9,4.0,3.9,4.0,3.9,3.1,3.0,4.2,3.7,4.0,4.2,3.7,3.9,4.0,3.9,3.5,4.1,3.9,4.3,3.9,4.1,4.0,4.1,3.9,3.9,4.2,4.0,4.3,4.0,3.9,3.5,4.0,4.2,3.8,4.1,3.9,4.0,3.9,4.3,4.2,3.7,3.9,3.9,4.1,3.8,4.0,4.2,4.2,4.2,4.0,4.2,3.9,3.8,4.3,3.9,4.3,3.9,3.8,3.9,4.0,4.3,4.1,3.9,4.3,4.2,3.9,3.8,3.3,3.9,3.9,4.2,3.7,4.1,4.2,4.3,3.1,3.4,3.5,4.2,4.1,4.3,4.0,4.3,3.9,3.9,4.3,4.1,4.0,2.9,3.2,4.1,3.9,4.2,4.0,4.0,4.2,3.8,4.1,3.9,2.9,4.0,4.0,3.5,3.9,3.8,3.9,4.0,3.9,4.2,4.3,4.2,4.1,3.9,3.7,3.4,4.1,3.6,3.7,3.9,4.2,3.9,3.7,3.6,4.2,3.8,4.1,3.7,3.4,4.1,4.1,3.8,3.5,3.7,4.1,3.8,3.0,3.8,3.6,3.8,3.9,4.3,4.0,3.3,4.0,4.0,3.8,4.1,3.9,4.3,4.1,4.1,3.9,4.2,4.1,4.0,3.6,3.4,4.0,3.5,4.1,3.3,4.0,3.7,4.2,4.1,4.1,4.0,3.6,3.8,4.0,3.9,4.0,4.1,3.8,3.8,4.0,3.8,3.2,4.0,4.3,4.3,4.0,3.0,3.7,3.7,3.6,2.9,4.1,4.1,3.6,3.9,3.7,3.8,4.0,4.3,3.7,3.8,3.6,3.8,4.1,4.1,3.9,4.3,4.1,4.3,4.3,4.2,4.1,4.3,3.9,4.1,4.0,4.3,4.3,4.3,4.0,3.9,3.9,4.0,3.8,3.9,3.9,4.0,4.1,3.4,3.4,3.0,3.9,3.8,3.5,4.1,3.9,3.9,3.9,4.0,4.1,4.2,4.0,4.3,3.6,4.1,4.3,4.0,4.3,4.2,4.1,4.2,4.0,3.6,4.0,4.3,4.2,4.0,4.0,4.0,3.8,4.1,4.0,4.0,2.9,4.0,3.4,4.1,3.7,3.9,4.1,4.3,4.2,4.3,4.3,4.2,4.0,4.1,4.0,4.2,3.9,3.7,4.2,4.1,3.8,2.9,4.0,4.0,3.9,3.9,3.9,3.7,3.8,3.9,3.9,3.6,4.1,3.8,3.9,4.0,3.7,3.7,4.2,3.4,3.5,4.3,4.3,4.3,4.3,4.1,4.2,4.2,3.9,4.2,4.3,4.3,3.9,4.3,4.1,4.1,4.3,4.3,4.1,4.2,4.3,4.0,4.3,4.1,4.2,4.2,3.9,4.3,4.2,4.0,4.3,4.2,4.1,4.0,4.2,4.1,4.1,4.3,4.3,3.9,4.1,4.3,3.9,4.1,4.0,4.1,4.1,4.1,3.9,4.3,4.3,4.1,4.0,4.1,4.0,4.3,4.0,4.0,3.9,4.2,4.3,4.2,3.9,3.9,3.9,3.6,3.9,4.2,4.1,4.2,4.1,4.0,4.2,3.9,4.0,3.7,3.8,4.2,3.9,3.9,3.9,3.6,3.0,3.7,3.6,4.1,3.1,4.0,4.1,3.1,3.7,3.9,3.8,3.8,3.9,4.2,3.9,3.9,3.4,3.9,3.7,3.8,3.3,3.8,3.0,3.7,4.1,4.0,3.8,3.7,3.8,4.0,3.8,3.5,3.6,2.9,3.8,3.9,3.8,3.7,3.4,3.8,3.4,4.1,4.1,4.0,4.1,3.6,3.9,4.0,4.1,4.3,4.0,4.1,4.0,4.1,3.6,4.0,3.9,4.0,3.9,3.0,3.2,3.9,3.6,3.8],\"type\":\"box\"}],                        {\"height\":900,\"title\":{\"text\":\"Box plot of approx cost\"},\"width\":800,\"yaxis\":{\"title\":{\"text\":\"rate\"}},\"template\":{\"data\":{\"histogram2dcontour\":[{\"type\":\"histogram2dcontour\",\"colorbar\":{\"outlinewidth\":0,\"ticks\":\"\"},\"colorscale\":[[0.0,\"#0d0887\"],[0.1111111111111111,\"#46039f\"],[0.2222222222222222,\"#7201a8\"],[0.3333333333333333,\"#9c179e\"],[0.4444444444444444,\"#bd3786\"],[0.5555555555555556,\"#d8576b\"],[0.6666666666666666,\"#ed7953\"],[0.7777777777777778,\"#fb9f3a\"],[0.8888888888888888,\"#fdca26\"],[1.0,\"#f0f921\"]]}],\"choropleth\":[{\"type\":\"choropleth\",\"colorbar\":{\"outlinewidth\":0,\"ticks\":\"\"}}],\"histogram2d\":[{\"type\":\"histogram2d\",\"colorbar\":{\"outlinewidth\":0,\"ticks\":\"\"},\"colorscale\":[[0.0,\"#0d0887\"],[0.1111111111111111,\"#46039f\"],[0.2222222222222222,\"#7201a8\"],[0.3333333333333333,\"#9c179e\"],[0.4444444444444444,\"#bd3786\"],[0.5555555555555556,\"#d8576b\"],[0.6666666666666666,\"#ed7953\"],[0.7777777777777778,\"#fb9f3a\"],[0.8888888888888888,\"#fdca26\"],[1.0,\"#f0f921\"]]}],\"heatmap\":[{\"type\":\"heatmap\",\"colorbar\":{\"outlinewidth\":0,\"ticks\":\"\"},\"colorscale\":[[0.0,\"#0d0887\"],[0.1111111111111111,\"#46039f\"],[0.2222222222222222,\"#7201a8\"],[0.3333333333333333,\"#9c179e\"],[0.4444444444444444,\"#bd3786\"],[0.5555555555555556,\"#d8576b\"],[0.6666666666666666,\"#ed7953\"],[0.7777777777777778,\"#fb9f3a\"],[0.8888888888888888,\"#fdca26\"],[1.0,\"#f0f921\"]]}],\"heatmapgl\":[{\"type\":\"heatmapgl\",\"colorbar\":{\"outlinewidth\":0,\"ticks\":\"\"},\"colorscale\":[[0.0,\"#0d0887\"],[0.1111111111111111,\"#46039f\"],[0.2222222222222222,\"#7201a8\"],[0.3333333333333333,\"#9c179e\"],[0.4444444444444444,\"#bd3786\"],[0.5555555555555556,\"#d8576b\"],[0.6666666666666666,\"#ed7953\"],[0.7777777777777778,\"#fb9f3a\"],[0.8888888888888888,\"#fdca26\"],[1.0,\"#f0f921\"]]}],\"contourcarpet\":[{\"type\":\"contourcarpet\",\"colorbar\":{\"outlinewidth\":0,\"ticks\":\"\"}}],\"contour\":[{\"type\":\"contour\",\"colorbar\":{\"outlinewidth\":0,\"ticks\":\"\"},\"colorscale\":[[0.0,\"#0d0887\"],[0.1111111111111111,\"#46039f\"],[0.2222222222222222,\"#7201a8\"],[0.3333333333333333,\"#9c179e\"],[0.4444444444444444,\"#bd3786\"],[0.5555555555555556,\"#d8576b\"],[0.6666666666666666,\"#ed7953\"],[0.7777777777777778,\"#fb9f3a\"],[0.8888888888888888,\"#fdca26\"],[1.0,\"#f0f921\"]]}],\"surface\":[{\"type\":\"surface\",\"colorbar\":{\"outlinewidth\":0,\"ticks\":\"\"},\"colorscale\":[[0.0,\"#0d0887\"],[0.1111111111111111,\"#46039f\"],[0.2222222222222222,\"#7201a8\"],[0.3333333333333333,\"#9c179e\"],[0.4444444444444444,\"#bd3786\"],[0.5555555555555556,\"#d8576b\"],[0.6666666666666666,\"#ed7953\"],[0.7777777777777778,\"#fb9f3a\"],[0.8888888888888888,\"#fdca26\"],[1.0,\"#f0f921\"]]}],\"mesh3d\":[{\"type\":\"mesh3d\",\"colorbar\":{\"outlinewidth\":0,\"ticks\":\"\"}}],\"scatter\":[{\"fillpattern\":{\"fillmode\":\"overlay\",\"size\":10,\"solidity\":0.2},\"type\":\"scatter\"}],\"parcoords\":[{\"type\":\"parcoords\",\"line\":{\"colorbar\":{\"outlinewidth\":0,\"ticks\":\"\"}}}],\"scatterpolargl\":[{\"type\":\"scatterpolargl\",\"marker\":{\"colorbar\":{\"outlinewidth\":0,\"ticks\":\"\"}}}],\"bar\":[{\"error_x\":{\"color\":\"#2a3f5f\"},\"error_y\":{\"color\":\"#2a3f5f\"},\"marker\":{\"line\":{\"color\":\"#E5ECF6\",\"width\":0.5},\"pattern\":{\"fillmode\":\"overlay\",\"size\":10,\"solidity\":0.2}},\"type\":\"bar\"}],\"scattergeo\":[{\"type\":\"scattergeo\",\"marker\":{\"colorbar\":{\"outlinewidth\":0,\"ticks\":\"\"}}}],\"scatterpolar\":[{\"type\":\"scatterpolar\",\"marker\":{\"colorbar\":{\"outlinewidth\":0,\"ticks\":\"\"}}}],\"histogram\":[{\"marker\":{\"pattern\":{\"fillmode\":\"overlay\",\"size\":10,\"solidity\":0.2}},\"type\":\"histogram\"}],\"scattergl\":[{\"type\":\"scattergl\",\"marker\":{\"colorbar\":{\"outlinewidth\":0,\"ticks\":\"\"}}}],\"scatter3d\":[{\"type\":\"scatter3d\",\"line\":{\"colorbar\":{\"outlinewidth\":0,\"ticks\":\"\"}},\"marker\":{\"colorbar\":{\"outlinewidth\":0,\"ticks\":\"\"}}}],\"scattermapbox\":[{\"type\":\"scattermapbox\",\"marker\":{\"colorbar\":{\"outlinewidth\":0,\"ticks\":\"\"}}}],\"scatterternary\":[{\"type\":\"scatterternary\",\"marker\":{\"colorbar\":{\"outlinewidth\":0,\"ticks\":\"\"}}}],\"scattercarpet\":[{\"type\":\"scattercarpet\",\"marker\":{\"colorbar\":{\"outlinewidth\":0,\"ticks\":\"\"}}}],\"carpet\":[{\"aaxis\":{\"endlinecolor\":\"#2a3f5f\",\"gridcolor\":\"white\",\"linecolor\":\"white\",\"minorgridcolor\":\"white\",\"startlinecolor\":\"#2a3f5f\"},\"baxis\":{\"endlinecolor\":\"#2a3f5f\",\"gridcolor\":\"white\",\"linecolor\":\"white\",\"minorgridcolor\":\"white\",\"startlinecolor\":\"#2a3f5f\"},\"type\":\"carpet\"}],\"table\":[{\"cells\":{\"fill\":{\"color\":\"#EBF0F8\"},\"line\":{\"color\":\"white\"}},\"header\":{\"fill\":{\"color\":\"#C8D4E3\"},\"line\":{\"color\":\"white\"}},\"type\":\"table\"}],\"barpolar\":[{\"marker\":{\"line\":{\"color\":\"#E5ECF6\",\"width\":0.5},\"pattern\":{\"fillmode\":\"overlay\",\"size\":10,\"solidity\":0.2}},\"type\":\"barpolar\"}],\"pie\":[{\"automargin\":true,\"type\":\"pie\"}]},\"layout\":{\"autotypenumbers\":\"strict\",\"colorway\":[\"#636efa\",\"#EF553B\",\"#00cc96\",\"#ab63fa\",\"#FFA15A\",\"#19d3f3\",\"#FF6692\",\"#B6E880\",\"#FF97FF\",\"#FECB52\"],\"font\":{\"color\":\"#2a3f5f\"},\"hovermode\":\"closest\",\"hoverlabel\":{\"align\":\"left\"},\"paper_bgcolor\":\"white\",\"plot_bgcolor\":\"#E5ECF6\",\"polar\":{\"bgcolor\":\"#E5ECF6\",\"angularaxis\":{\"gridcolor\":\"white\",\"linecolor\":\"white\",\"ticks\":\"\"},\"radialaxis\":{\"gridcolor\":\"white\",\"linecolor\":\"white\",\"ticks\":\"\"}},\"ternary\":{\"bgcolor\":\"#E5ECF6\",\"aaxis\":{\"gridcolor\":\"white\",\"linecolor\":\"white\",\"ticks\":\"\"},\"baxis\":{\"gridcolor\":\"white\",\"linecolor\":\"white\",\"ticks\":\"\"},\"caxis\":{\"gridcolor\":\"white\",\"linecolor\":\"white\",\"ticks\":\"\"}},\"coloraxis\":{\"colorbar\":{\"outlinewidth\":0,\"ticks\":\"\"}},\"colorscale\":{\"sequential\":[[0.0,\"#0d0887\"],[0.1111111111111111,\"#46039f\"],[0.2222222222222222,\"#7201a8\"],[0.3333333333333333,\"#9c179e\"],[0.4444444444444444,\"#bd3786\"],[0.5555555555555556,\"#d8576b\"],[0.6666666666666666,\"#ed7953\"],[0.7777777777777778,\"#fb9f3a\"],[0.8888888888888888,\"#fdca26\"],[1.0,\"#f0f921\"]],\"sequentialminus\":[[0.0,\"#0d0887\"],[0.1111111111111111,\"#46039f\"],[0.2222222222222222,\"#7201a8\"],[0.3333333333333333,\"#9c179e\"],[0.4444444444444444,\"#bd3786\"],[0.5555555555555556,\"#d8576b\"],[0.6666666666666666,\"#ed7953\"],[0.7777777777777778,\"#fb9f3a\"],[0.8888888888888888,\"#fdca26\"],[1.0,\"#f0f921\"]],\"diverging\":[[0,\"#8e0152\"],[0.1,\"#c51b7d\"],[0.2,\"#de77ae\"],[0.3,\"#f1b6da\"],[0.4,\"#fde0ef\"],[0.5,\"#f7f7f7\"],[0.6,\"#e6f5d0\"],[0.7,\"#b8e186\"],[0.8,\"#7fbc41\"],[0.9,\"#4d9221\"],[1,\"#276419\"]]},\"xaxis\":{\"gridcolor\":\"white\",\"linecolor\":\"white\",\"ticks\":\"\",\"title\":{\"standoff\":15},\"zerolinecolor\":\"white\",\"automargin\":true,\"zerolinewidth\":2},\"yaxis\":{\"gridcolor\":\"white\",\"linecolor\":\"white\",\"ticks\":\"\",\"title\":{\"standoff\":15},\"zerolinecolor\":\"white\",\"automargin\":true,\"zerolinewidth\":2},\"scene\":{\"xaxis\":{\"backgroundcolor\":\"#E5ECF6\",\"gridcolor\":\"white\",\"linecolor\":\"white\",\"showbackground\":true,\"ticks\":\"\",\"zerolinecolor\":\"white\",\"gridwidth\":2},\"yaxis\":{\"backgroundcolor\":\"#E5ECF6\",\"gridcolor\":\"white\",\"linecolor\":\"white\",\"showbackground\":true,\"ticks\":\"\",\"zerolinecolor\":\"white\",\"gridwidth\":2},\"zaxis\":{\"backgroundcolor\":\"#E5ECF6\",\"gridcolor\":\"white\",\"linecolor\":\"white\",\"showbackground\":true,\"ticks\":\"\",\"zerolinecolor\":\"white\",\"gridwidth\":2}},\"shapedefaults\":{\"line\":{\"color\":\"#2a3f5f\"}},\"annotationdefaults\":{\"arrowcolor\":\"#2a3f5f\",\"arrowhead\":0,\"arrowwidth\":1},\"geo\":{\"bgcolor\":\"white\",\"landcolor\":\"#E5ECF6\",\"subunitcolor\":\"white\",\"showland\":true,\"showlakes\":true,\"lakecolor\":\"white\"},\"title\":{\"x\":0.05},\"mapbox\":{\"style\":\"light\"}}}},                        {\"responsive\": true}                    ).then(function(){\n",
       "                            \n",
       "var gd = document.getElementById('be853cfe-ba10-488a-aae9-7b48f1ea1a18');\n",
       "var x = new MutationObserver(function (mutations, observer) {{\n",
       "        var display = window.getComputedStyle(gd).display;\n",
       "        if (!display || display === 'none') {{\n",
       "            console.log([gd, 'removed!']);\n",
       "            Plotly.purge(gd);\n",
       "            observer.disconnect();\n",
       "        }}\n",
       "}});\n",
       "\n",
       "// Listen for the removal of the full notebook cells\n",
       "var notebookContainer = gd.closest('#notebook-container');\n",
       "if (notebookContainer) {{\n",
       "    x.observe(notebookContainer, {childList: true});\n",
       "}}\n",
       "\n",
       "// Listen for the clearing of the current output cell\n",
       "var outputEl = gd.closest('.output');\n",
       "if (outputEl) {{\n",
       "    x.observe(outputEl, {childList: true});\n",
       "}}\n",
       "\n",
       "                        })                };                });            </script>        </div>"
      ]
     },
     "metadata": {},
     "output_type": "display_data"
    }
   ],
   "source": [
    "\n",
    "\n",
    "\n",
    "trace0 = go.Box(y=df['rate'],name=\"Accepting Online Order\",marker=dict(color='rgb(113,10,100)',))\n",
    "data=[trace0]\n",
    "layout=go.Layout(title=\"Box plot of approx cost\",width=800,height=900,yaxis=dict(title=\"rate\"))\n",
    "fig=go.Figure(data=data,layout=layout)\n",
    "fig"
   ]
  },
  {
   "cell_type": "code",
   "execution_count": null,
   "id": "a357f081",
   "metadata": {},
   "outputs": [],
   "source": []
  },
  {
   "cell_type": "code",
   "execution_count": 432,
   "id": "ab351b29",
   "metadata": {
    "ExecuteTime": {
     "end_time": "2024-03-28T22:39:56.738526Z",
     "start_time": "2024-03-28T22:39:56.004553Z"
    }
   },
   "outputs": [
    {
     "data": {
      "application/javascript": [
       "\n",
       "        if (window._pyforest_update_imports_cell) { window._pyforest_update_imports_cell('import pandas as pd\\nfrom sklearn.preprocessing import LabelEncoder\\nimport plotly.graph_objs as go\\nfrom sklearn.ensemble import RandomForestRegressor\\nimport matplotlib.pyplot as plt\\nfrom sklearn.linear_model import LinearRegression\\nfrom sklearn.model_selection import train_test_split\\nimport seaborn as sns\\nimport pickle'); }\n",
       "    "
      ],
      "text/plain": [
       "<IPython.core.display.Javascript object>"
      ]
     },
     "metadata": {},
     "output_type": "display_data"
    },
    {
     "data": {
      "application/javascript": [
       "\n",
       "        if (window._pyforest_update_imports_cell) { window._pyforest_update_imports_cell('import pandas as pd\\nfrom sklearn.preprocessing import LabelEncoder\\nimport plotly.graph_objs as go\\nfrom sklearn.ensemble import RandomForestRegressor\\nimport matplotlib.pyplot as plt\\nfrom sklearn.linear_model import LinearRegression\\nfrom sklearn.model_selection import train_test_split\\nimport seaborn as sns\\nimport pickle'); }\n",
       "    "
      ],
      "text/plain": [
       "<IPython.core.display.Javascript object>"
      ]
     },
     "metadata": {},
     "output_type": "display_data"
    },
    {
     "data": {
      "application/javascript": [
       "\n",
       "        if (window._pyforest_update_imports_cell) { window._pyforest_update_imports_cell('import pandas as pd\\nfrom sklearn.preprocessing import LabelEncoder\\nimport plotly.graph_objs as go\\nfrom sklearn.ensemble import RandomForestRegressor\\nimport matplotlib.pyplot as plt\\nfrom sklearn.linear_model import LinearRegression\\nfrom sklearn.model_selection import train_test_split\\nimport seaborn as sns\\nimport pickle'); }\n",
       "    "
      ],
      "text/plain": [
       "<IPython.core.display.Javascript object>"
      ]
     },
     "metadata": {},
     "output_type": "display_data"
    },
    {
     "data": {
      "text/plain": [
       "<Figure size 30000x30000 with 0 Axes>"
      ]
     },
     "metadata": {},
     "output_type": "display_data"
    },
    {
     "data": {
      "image/png": "[encoded data removed]",
      "text/plain": [
       "<Figure size 500x500 with 1 Axes>"
      ]
     },
     "metadata": {},
     "output_type": "display_data"
    }
   ],
   "source": [
    "plt.figure(figsize=(300,300))\n",
    "sns.displot(df['cost'])\n",
    "plt.show()"
   ]
  },
  {
   "cell_type": "code",
   "execution_count": 433,
   "id": "a3afc5c6",
   "metadata": {
    "ExecuteTime": {
     "end_time": "2024-03-28T22:39:57.198882Z",
     "start_time": "2024-03-28T22:39:56.742028Z"
    }
   },
   "outputs": [
    {
     "data": {
      "application/javascript": [
       "\n",
       "        if (window._pyforest_update_imports_cell) { window._pyforest_update_imports_cell('import pandas as pd\\nfrom sklearn.preprocessing import LabelEncoder\\nimport plotly.graph_objs as go\\nfrom sklearn.ensemble import RandomForestRegressor\\nimport matplotlib.pyplot as plt\\nfrom sklearn.linear_model import LinearRegression\\nfrom sklearn.model_selection import train_test_split\\nimport seaborn as sns\\nimport pickle'); }\n",
       "    "
      ],
      "text/plain": [
       "<IPython.core.display.Javascript object>"
      ]
     },
     "metadata": {},
     "output_type": "display_data"
    },
    {
     "data": {
      "text/plain": [
       " Pasta              239\n",
       " Sandwiches         159\n",
       " Burgers            151\n",
       " Pizza              138\n",
       " Nachos             129\n",
       " Coffee             129\n",
       " Fries              122\n",
       " Biryani            122\n",
       " Paratha            109\n",
       " Chicken Biryani    108\n",
       " Roti               101\n",
       " Mocktails          100\n",
       "Coffee               98\n",
       "Burgers              97\n",
       "Pasta                97\n",
       " Thali               94\n",
       " Sandwich            89\n",
       " Noodles             86\n",
       " Salads              85\n",
       "Pizza                83\n",
       " Mutton Biryani      79\n",
       " Tea                 76\n",
       " Butter Chicken      72\n",
       " Fish                72\n",
       "Biryani              71\n",
       " Chaat               70\n",
       " Cocktails           70\n",
       " Masala Dosa         69\n",
       " Momos               68\n",
       " Salad               68\n",
       "Name: count, dtype: int64"
      ]
     },
     "execution_count": 433,
     "metadata": {},
     "output_type": "execute_result"
    }
   ],
   "source": [
    "#top favorite food\n",
    "import re\n",
    "df.index = range(df.shape[0])\n",
    "likes = []\n",
    "for i in range(df.shape[0]):\n",
    "    array_split = re.split(',',df['dish_liked'][i])\n",
    "    for item in array_split:\n",
    "        likes.append(item)\n",
    "        \n",
    "favorite=pd.Series(likes).value_counts()\n",
    "favorite.head(30)"
   ]
  },
  {
   "cell_type": "code",
   "execution_count": 434,
   "id": "4972e6c5",
   "metadata": {
    "ExecuteTime": {
     "end_time": "2024-03-28T22:39:58.630568Z",
     "start_time": "2024-03-28T22:39:57.768583Z"
    }
   },
   "outputs": [
    {
     "data": {
      "image/png": "[encoded data removed]",
      "text/plain": [
       "<Figure size 2000x2000 with 1 Axes>"
      ]
     },
     "metadata": {},
     "output_type": "display_data"
    }
   ],
   "source": [
    "ax=favorite.nlargest(n = 20,keep ='first').plot(kind='bar',figsize=(20,20),title=\"top 30 food \")\n",
    "for i in ax.patches:\n",
    "    ax.annotate(str(i.get_height()),(i.get_x()*1.005,i.get_height()*1.005))"
   ]
  },
  {
   "cell_type": "code",
   "execution_count": 435,
   "id": "dbb9683f",
   "metadata": {
    "ExecuteTime": {
     "end_time": "2024-03-28T22:40:00.856599Z",
     "start_time": "2024-03-28T22:40:00.055680Z"
    },
    "scrolled": true
   },
   "outputs": [
    {
     "data": {
      "application/javascript": [
       "\n",
       "        if (window._pyforest_update_imports_cell) { window._pyforest_update_imports_cell('import pandas as pd\\nfrom sklearn.preprocessing import LabelEncoder\\nimport plotly.graph_objs as go\\nfrom sklearn.ensemble import RandomForestRegressor\\nimport matplotlib.pyplot as plt\\nfrom sklearn.linear_model import LinearRegression\\nfrom sklearn.model_selection import train_test_split\\nimport seaborn as sns\\nimport pickle'); }\n",
       "    "
      ],
      "text/plain": [
       "<IPython.core.display.Javascript object>"
      ]
     },
     "metadata": {},
     "output_type": "display_data"
    },
    {
     "data": {
      "application/javascript": [
       "\n",
       "        if (window._pyforest_update_imports_cell) { window._pyforest_update_imports_cell('import pandas as pd\\nfrom sklearn.preprocessing import LabelEncoder\\nimport plotly.graph_objs as go\\nfrom sklearn.ensemble import RandomForestRegressor\\nimport matplotlib.pyplot as plt\\nfrom sklearn.linear_model import LinearRegression\\nfrom sklearn.model_selection import train_test_split\\nimport seaborn as sns\\nimport pickle'); }\n",
       "    "
      ],
      "text/plain": [
       "<IPython.core.display.Javascript object>"
      ]
     },
     "metadata": {},
     "output_type": "display_data"
    },
    {
     "data": {
      "application/javascript": [
       "\n",
       "        if (window._pyforest_update_imports_cell) { window._pyforest_update_imports_cell('import pandas as pd\\nfrom sklearn.preprocessing import LabelEncoder\\nimport plotly.graph_objs as go\\nfrom sklearn.ensemble import RandomForestRegressor\\nimport matplotlib.pyplot as plt\\nfrom sklearn.linear_model import LinearRegression\\nfrom sklearn.model_selection import train_test_split\\nimport seaborn as sns\\nimport pickle'); }\n",
       "    "
      ],
      "text/plain": [
       "<IPython.core.display.Javascript object>"
      ]
     },
     "metadata": {},
     "output_type": "display_data"
    },
    {
     "data": {
      "application/javascript": [
       "\n",
       "        if (window._pyforest_update_imports_cell) { window._pyforest_update_imports_cell('import pandas as pd\\nfrom sklearn.preprocessing import LabelEncoder\\nimport plotly.graph_objs as go\\nfrom sklearn.ensemble import RandomForestRegressor\\nimport matplotlib.pyplot as plt\\nfrom sklearn.linear_model import LinearRegression\\nfrom sklearn.model_selection import train_test_split\\nimport seaborn as sns\\nimport pickle'); }\n",
       "    "
      ],
      "text/plain": [
       "<IPython.core.display.Javascript object>"
      ]
     },
     "metadata": {},
     "output_type": "display_data"
    },
    {
     "data": {
      "text/plain": [
       "Text(0.5, 0, 'number')"
      ]
     },
     "execution_count": 435,
     "metadata": {},
     "output_type": "execute_result"
    },
    {
     "data": {
      "image/png": "[encoded data removed]",
      "text/plain": [
       "<Figure size 1600x700 with 1 Axes>"
      ]
     },
     "metadata": {},
     "output_type": "display_data"
    }
   ],
   "source": [
    "#restaurant and their count\n",
    "plt.figure(figsize=(16,7))\n",
    "rest= df['rest_type'].value_counts()[:20]\n",
    "sns.barplot(x=rest, y=rest.index, alpha=0.9)\n",
    "plt.title(\"Type of Restaurant\")\n",
    "plt.xlabel(\"number\")\n"
   ]
  },
  {
   "cell_type": "code",
   "execution_count": 436,
   "id": "49edc0db",
   "metadata": {
    "ExecuteTime": {
     "end_time": "2024-03-28T22:40:01.399510Z",
     "start_time": "2024-03-28T22:40:01.379813Z"
    }
   },
   "outputs": [
    {
     "data": {
      "application/javascript": [
       "\n",
       "        if (window._pyforest_update_imports_cell) { window._pyforest_update_imports_cell('import pandas as pd\\nfrom sklearn.preprocessing import LabelEncoder\\nimport plotly.graph_objs as go\\nfrom sklearn.ensemble import RandomForestRegressor\\nimport matplotlib.pyplot as plt\\nfrom sklearn.linear_model import LinearRegression\\nfrom sklearn.model_selection import train_test_split\\nimport seaborn as sns\\nimport pickle'); }\n",
       "    "
      ],
      "text/plain": [
       "<IPython.core.display.Javascript object>"
      ]
     },
     "metadata": {},
     "output_type": "display_data"
    },
    {
     "data": {
      "text/plain": [
       "online_order\n",
       "1    1624\n",
       "0     494\n",
       "Name: count, dtype: int64"
      ]
     },
     "execution_count": 436,
     "metadata": {},
     "output_type": "execute_result"
    }
   ],
   "source": [
    "#BUILDING THE MODEL I DONT WANNA CREATE A  NEW NOTEBOOK TO LOST ALL CLEANING\n",
    "#I DONT KNOW  BUT I WILL ASK THE TEACHER \n",
    "df.online_order[df.online_order == 'Yes'] =1\n",
    "df.online_order[df.online_order == 'No'] =0\n",
    "df.online_order = pd.to_numeric(df.online_order)\n",
    "df.online_order.value_counts()"
   ]
  },
  {
   "cell_type": "code",
   "execution_count": 437,
   "id": "2bc70282",
   "metadata": {
    "ExecuteTime": {
     "end_time": "2024-03-28T22:40:05.436928Z",
     "start_time": "2024-03-28T22:40:05.415188Z"
    }
   },
   "outputs": [
    {
     "data": {
      "application/javascript": [
       "\n",
       "        if (window._pyforest_update_imports_cell) { window._pyforest_update_imports_cell('import pandas as pd\\nfrom sklearn.preprocessing import LabelEncoder\\nimport plotly.graph_objs as go\\nfrom sklearn.ensemble import RandomForestRegressor\\nimport matplotlib.pyplot as plt\\nfrom sklearn.linear_model import LinearRegression\\nfrom sklearn.model_selection import train_test_split\\nimport seaborn as sns\\nimport pickle'); }\n",
       "    "
      ],
      "text/plain": [
       "<IPython.core.display.Javascript object>"
      ]
     },
     "metadata": {},
     "output_type": "display_data"
    },
    {
     "data": {
      "text/plain": [
       "book_table\n",
       "0    1738\n",
       "1     380\n",
       "Name: count, dtype: int64"
      ]
     },
     "execution_count": 437,
     "metadata": {},
     "output_type": "execute_result"
    }
   ],
   "source": [
    "#same as book table ,change bolean to int\n",
    "df.book_table[df.book_table == 'Yes'] =1\n",
    "df.book_table[df.book_table== 'No'] =0\n",
    "df.book_table = pd.to_numeric(df.book_table)\n",
    "df.book_table.value_counts()"
   ]
  },
  {
   "cell_type": "code",
   "execution_count": 438,
   "id": "7117e9f0",
   "metadata": {
    "ExecuteTime": {
     "end_time": "2024-03-28T22:40:08.875376Z",
     "start_time": "2024-03-28T22:40:08.800698Z"
    }
   },
   "outputs": [
    {
     "data": {
      "application/javascript": [
       "\n",
       "        if (window._pyforest_update_imports_cell) { window._pyforest_update_imports_cell('import pandas as pd\\nfrom sklearn.preprocessing import LabelEncoder\\nimport plotly.graph_objs as go\\nfrom sklearn.ensemble import RandomForestRegressor\\nimport matplotlib.pyplot as plt\\nfrom sklearn.linear_model import LinearRegression\\nfrom sklearn.model_selection import train_test_split\\nimport seaborn as sns\\nimport pickle'); }\n",
       "    "
      ],
      "text/plain": [
       "<IPython.core.display.Javascript object>"
      ]
     },
     "metadata": {},
     "output_type": "display_data"
    },
    {
     "data": {
      "text/html": [
       "<div>\n",
       "<style scoped>\n",
       "    .dataframe tbody tr th:only-of-type {\n",
       "        vertical-align: middle;\n",
       "    }\n",
       "\n",
       "    .dataframe tbody tr th {\n",
       "        vertical-align: top;\n",
       "    }\n",
       "\n",
       "    .dataframe thead th {\n",
       "        text-align: right;\n",
       "    }\n",
       "</style>\n",
       "<table border=\"1\" class=\"dataframe\">\n",
       "  <thead>\n",
       "    <tr style=\"text-align: right;\">\n",
       "      <th></th>\n",
       "      <th>address</th>\n",
       "      <th>name</th>\n",
       "      <th>online_order</th>\n",
       "      <th>book_table</th>\n",
       "      <th>rate</th>\n",
       "      <th>votes</th>\n",
       "      <th>location</th>\n",
       "      <th>rest_type</th>\n",
       "      <th>dish_liked</th>\n",
       "      <th>cuisines</th>\n",
       "      <th>cost</th>\n",
       "      <th>reviews_list</th>\n",
       "      <th>menu_item</th>\n",
       "      <th>type</th>\n",
       "      <th>city</th>\n",
       "    </tr>\n",
       "  </thead>\n",
       "  <tbody>\n",
       "    <tr>\n",
       "      <th>0</th>\n",
       "      <td>942, 21st Main Road, 2nd Stage, Banashankari, ...</td>\n",
       "      <td>Jalsa</td>\n",
       "      <td>1</td>\n",
       "      <td>1</td>\n",
       "      <td>4.1</td>\n",
       "      <td>775</td>\n",
       "      <td>1</td>\n",
       "      <td>15</td>\n",
       "      <td>Pasta, Lunch Buffet, Masala Papad, Paneer Laja...</td>\n",
       "      <td>471</td>\n",
       "      <td>800.0</td>\n",
       "      <td>[('Rated 4.0', 'RATED\\n  A beautiful place to ...</td>\n",
       "      <td>435</td>\n",
       "      <td>Buffet</td>\n",
       "      <td>Banashankari</td>\n",
       "    </tr>\n",
       "    <tr>\n",
       "      <th>1</th>\n",
       "      <td>2nd Floor, 80 Feet Road, Near Big Bazaar, 6th ...</td>\n",
       "      <td>Spice Elephant</td>\n",
       "      <td>1</td>\n",
       "      <td>0</td>\n",
       "      <td>4.1</td>\n",
       "      <td>787</td>\n",
       "      <td>1</td>\n",
       "      <td>15</td>\n",
       "      <td>Momos, Lunch Buffet, Chocolate Nirvana, Thai G...</td>\n",
       "      <td>221</td>\n",
       "      <td>800.0</td>\n",
       "      <td>[('Rated 4.0', 'RATED\\n  Had been here for din...</td>\n",
       "      <td>435</td>\n",
       "      <td>Buffet</td>\n",
       "      <td>Banashankari</td>\n",
       "    </tr>\n",
       "    <tr>\n",
       "      <th>2</th>\n",
       "      <td>1112, Next to KIMS Medical College, 17th Cross...</td>\n",
       "      <td>San Churro Cafe</td>\n",
       "      <td>1</td>\n",
       "      <td>0</td>\n",
       "      <td>3.8</td>\n",
       "      <td>918</td>\n",
       "      <td>1</td>\n",
       "      <td>12</td>\n",
       "      <td>Churros, Cannelloni, Minestrone Soup, Hot Choc...</td>\n",
       "      <td>189</td>\n",
       "      <td>800.0</td>\n",
       "      <td>[('Rated 3.0', \"RATED\\n  Ambience is not that ...</td>\n",
       "      <td>435</td>\n",
       "      <td>Buffet</td>\n",
       "      <td>Banashankari</td>\n",
       "    </tr>\n",
       "    <tr>\n",
       "      <th>3</th>\n",
       "      <td>1st Floor, Annakuteera, 3rd Stage, Banashankar...</td>\n",
       "      <td>Addhuri Udupi Bhojana</td>\n",
       "      <td>0</td>\n",
       "      <td>0</td>\n",
       "      <td>3.7</td>\n",
       "      <td>88</td>\n",
       "      <td>1</td>\n",
       "      <td>36</td>\n",
       "      <td>Masala Dosa</td>\n",
       "      <td>550</td>\n",
       "      <td>300.0</td>\n",
       "      <td>[('Rated 4.0', \"RATED\\n  Great food and proper...</td>\n",
       "      <td>435</td>\n",
       "      <td>Buffet</td>\n",
       "      <td>Banashankari</td>\n",
       "    </tr>\n",
       "    <tr>\n",
       "      <th>4</th>\n",
       "      <td>10, 3rd Floor, Lakshmi Associates, Gandhi Baza...</td>\n",
       "      <td>Grand Village</td>\n",
       "      <td>0</td>\n",
       "      <td>0</td>\n",
       "      <td>3.8</td>\n",
       "      <td>166</td>\n",
       "      <td>3</td>\n",
       "      <td>15</td>\n",
       "      <td>Panipuri, Gol Gappe</td>\n",
       "      <td>478</td>\n",
       "      <td>600.0</td>\n",
       "      <td>[('Rated 4.0', 'RATED\\n  Very good restaurant ...</td>\n",
       "      <td>435</td>\n",
       "      <td>Buffet</td>\n",
       "      <td>Banashankari</td>\n",
       "    </tr>\n",
       "  </tbody>\n",
       "</table>\n",
       "</div>"
      ],
      "text/plain": [
       "                                             address                   name  \\\n",
       "0  942, 21st Main Road, 2nd Stage, Banashankari, ...                  Jalsa   \n",
       "1  2nd Floor, 80 Feet Road, Near Big Bazaar, 6th ...         Spice Elephant   \n",
       "2  1112, Next to KIMS Medical College, 17th Cross...        San Churro Cafe   \n",
       "3  1st Floor, Annakuteera, 3rd Stage, Banashankar...  Addhuri Udupi Bhojana   \n",
       "4  10, 3rd Floor, Lakshmi Associates, Gandhi Baza...          Grand Village   \n",
       "\n",
       "   online_order  book_table  rate  votes  location  rest_type  \\\n",
       "0             1           1   4.1    775         1         15   \n",
       "1             1           0   4.1    787         1         15   \n",
       "2             1           0   3.8    918         1         12   \n",
       "3             0           0   3.7     88         1         36   \n",
       "4             0           0   3.8    166         3         15   \n",
       "\n",
       "                                          dish_liked  cuisines   cost  \\\n",
       "0  Pasta, Lunch Buffet, Masala Papad, Paneer Laja...       471  800.0   \n",
       "1  Momos, Lunch Buffet, Chocolate Nirvana, Thai G...       221  800.0   \n",
       "2  Churros, Cannelloni, Minestrone Soup, Hot Choc...       189  800.0   \n",
       "3                                        Masala Dosa       550  300.0   \n",
       "4                                Panipuri, Gol Gappe       478  600.0   \n",
       "\n",
       "                                        reviews_list  menu_item    type  \\\n",
       "0  [('Rated 4.0', 'RATED\\n  A beautiful place to ...        435  Buffet   \n",
       "1  [('Rated 4.0', 'RATED\\n  Had been here for din...        435  Buffet   \n",
       "2  [('Rated 3.0', \"RATED\\n  Ambience is not that ...        435  Buffet   \n",
       "3  [('Rated 4.0', \"RATED\\n  Great food and proper...        435  Buffet   \n",
       "4  [('Rated 4.0', 'RATED\\n  Very good restaurant ...        435  Buffet   \n",
       "\n",
       "           city  \n",
       "0  Banashankari  \n",
       "1  Banashankari  \n",
       "2  Banashankari  \n",
       "3  Banashankari  \n",
       "4  Banashankari  "
      ]
     },
     "execution_count": 438,
     "metadata": {},
     "output_type": "execute_result"
    }
   ],
   "source": [
    "#skylearn \n",
    "le=LabelEncoder()\n",
    "df.location=le.fit_transform(df.location)\n",
    "df.rest_type=le.fit_transform(df.rest_type)\n",
    "df.cuisines=le.fit_transform(df.cuisines)\n",
    "df.menu_item=le.fit_transform(df.menu_item)\n",
    "\n",
    "df.head()"
   ]
  },
  {
   "cell_type": "code",
   "execution_count": 439,
   "id": "8f4ed1db",
   "metadata": {
    "ExecuteTime": {
     "end_time": "2024-03-28T22:40:10.167988Z",
     "start_time": "2024-03-28T22:40:09.985428Z"
    }
   },
   "outputs": [],
   "source": [
    "my_data = df.iloc [:,[2,3,4,5,6,7,9,10,12]]\n",
    "my_data.to_csv('./../data/zomatoM.csv',index=False)\n"
   ]
  },
  {
   "cell_type": "code",
   "execution_count": 440,
   "id": "98acf750",
   "metadata": {
    "ExecuteTime": {
     "end_time": "2024-03-28T22:40:11.536517Z",
     "start_time": "2024-03-28T22:40:11.525357Z"
    },
    "scrolled": true
   },
   "outputs": [
    {
     "data": {
      "text/html": [
       "<div>\n",
       "<style scoped>\n",
       "    .dataframe tbody tr th:only-of-type {\n",
       "        vertical-align: middle;\n",
       "    }\n",
       "\n",
       "    .dataframe tbody tr th {\n",
       "        vertical-align: top;\n",
       "    }\n",
       "\n",
       "    .dataframe thead th {\n",
       "        text-align: right;\n",
       "    }\n",
       "</style>\n",
       "<table border=\"1\" class=\"dataframe\">\n",
       "  <thead>\n",
       "    <tr style=\"text-align: right;\">\n",
       "      <th></th>\n",
       "      <th>online_order</th>\n",
       "      <th>book_table</th>\n",
       "      <th>votes</th>\n",
       "      <th>location</th>\n",
       "      <th>rest_type</th>\n",
       "      <th>cuisines</th>\n",
       "      <th>cost</th>\n",
       "      <th>menu_item</th>\n",
       "    </tr>\n",
       "  </thead>\n",
       "  <tbody>\n",
       "    <tr>\n",
       "      <th>0</th>\n",
       "      <td>1</td>\n",
       "      <td>1</td>\n",
       "      <td>775</td>\n",
       "      <td>1</td>\n",
       "      <td>15</td>\n",
       "      <td>471</td>\n",
       "      <td>800.0</td>\n",
       "      <td>435</td>\n",
       "    </tr>\n",
       "    <tr>\n",
       "      <th>1</th>\n",
       "      <td>1</td>\n",
       "      <td>0</td>\n",
       "      <td>787</td>\n",
       "      <td>1</td>\n",
       "      <td>15</td>\n",
       "      <td>221</td>\n",
       "      <td>800.0</td>\n",
       "      <td>435</td>\n",
       "    </tr>\n",
       "    <tr>\n",
       "      <th>2</th>\n",
       "      <td>1</td>\n",
       "      <td>0</td>\n",
       "      <td>918</td>\n",
       "      <td>1</td>\n",
       "      <td>12</td>\n",
       "      <td>189</td>\n",
       "      <td>800.0</td>\n",
       "      <td>435</td>\n",
       "    </tr>\n",
       "    <tr>\n",
       "      <th>3</th>\n",
       "      <td>0</td>\n",
       "      <td>0</td>\n",
       "      <td>88</td>\n",
       "      <td>1</td>\n",
       "      <td>36</td>\n",
       "      <td>550</td>\n",
       "      <td>300.0</td>\n",
       "      <td>435</td>\n",
       "    </tr>\n",
       "    <tr>\n",
       "      <th>4</th>\n",
       "      <td>0</td>\n",
       "      <td>0</td>\n",
       "      <td>166</td>\n",
       "      <td>3</td>\n",
       "      <td>15</td>\n",
       "      <td>478</td>\n",
       "      <td>600.0</td>\n",
       "      <td>435</td>\n",
       "    </tr>\n",
       "  </tbody>\n",
       "</table>\n",
       "</div>"
      ],
      "text/plain": [
       "   online_order  book_table  votes  location  rest_type  cuisines   cost  \\\n",
       "0             1           1    775         1         15       471  800.0   \n",
       "1             1           0    787         1         15       221  800.0   \n",
       "2             1           0    918         1         12       189  800.0   \n",
       "3             0           0     88         1         36       550  300.0   \n",
       "4             0           0    166         3         15       478  600.0   \n",
       "\n",
       "   menu_item  \n",
       "0        435  \n",
       "1        435  \n",
       "2        435  \n",
       "3        435  \n",
       "4        435  "
      ]
     },
     "execution_count": 440,
     "metadata": {},
     "output_type": "execute_result"
    }
   ],
   "source": [
    "x = df.iloc [:,[2,3,5,6,7,9,10,12]]\n",
    "x.head()"
   ]
  },
  {
   "cell_type": "code",
   "execution_count": 441,
   "id": "ece297ed",
   "metadata": {
    "ExecuteTime": {
     "end_time": "2024-03-28T22:40:12.636020Z",
     "start_time": "2024-03-28T22:40:12.625094Z"
    }
   },
   "outputs": [
    {
     "data": {
      "text/plain": [
       "0       4.1\n",
       "1       4.1\n",
       "2       3.8\n",
       "3       3.7\n",
       "4       3.8\n",
       "       ... \n",
       "2113    3.0\n",
       "2114    3.2\n",
       "2115    3.9\n",
       "2116    3.6\n",
       "2117    3.8\n",
       "Name: rate, Length: 2118, dtype: float64"
      ]
     },
     "execution_count": 441,
     "metadata": {},
     "output_type": "execute_result"
    }
   ],
   "source": [
    "y=df['rate']\n",
    "y"
   ]
  },
  {
   "cell_type": "code",
   "execution_count": 442,
   "id": "021a759c",
   "metadata": {
    "ExecuteTime": {
     "end_time": "2024-03-28T22:40:14.074180Z",
     "start_time": "2024-03-28T22:40:14.065008Z"
    }
   },
   "outputs": [
    {
     "data": {
      "text/plain": [
       "address          object\n",
       "name             object\n",
       "online_order      int64\n",
       "book_table        int64\n",
       "rate            float64\n",
       "votes             int64\n",
       "location          int32\n",
       "rest_type         int32\n",
       "dish_liked       object\n",
       "cuisines          int32\n",
       "cost            float64\n",
       "reviews_list     object\n",
       "menu_item         int32\n",
       "type             object\n",
       "city             object\n",
       "dtype: object"
      ]
     },
     "execution_count": 442,
     "metadata": {},
     "output_type": "execute_result"
    }
   ],
   "source": [
    "df.dtypes"
   ]
  },
  {
   "cell_type": "code",
   "execution_count": 443,
   "id": "dff911f6",
   "metadata": {
    "ExecuteTime": {
     "end_time": "2024-03-28T22:40:15.397077Z",
     "start_time": "2024-03-28T22:40:15.378159Z"
    }
   },
   "outputs": [
    {
     "data": {
      "application/javascript": [
       "\n",
       "        if (window._pyforest_update_imports_cell) { window._pyforest_update_imports_cell('import pandas as pd\\nfrom sklearn.preprocessing import LabelEncoder\\nimport plotly.graph_objs as go\\nfrom sklearn.ensemble import RandomForestRegressor\\nimport matplotlib.pyplot as plt\\nfrom sklearn.linear_model import LinearRegression\\nfrom sklearn.model_selection import train_test_split\\nimport seaborn as sns\\nimport pickle'); }\n",
       "    "
      ],
      "text/plain": [
       "<IPython.core.display.Javascript object>"
      ]
     },
     "metadata": {},
     "output_type": "display_data"
    }
   ],
   "source": [
    "x_train,x_test,y_train,y_test = train_test_split(x,y,test_size=0.3,random_state=10)"
   ]
  },
  {
   "cell_type": "code",
   "execution_count": 444,
   "id": "da61144c",
   "metadata": {
    "ExecuteTime": {
     "end_time": "2024-03-28T23:03:30.318570Z",
     "start_time": "2024-03-28T23:03:30.298756Z"
    }
   },
   "outputs": [
    {
     "data": {
      "application/javascript": [
       "\n",
       "        if (window._pyforest_update_imports_cell) { window._pyforest_update_imports_cell('import pandas as pd\\nfrom sklearn.preprocessing import LabelEncoder\\nimport plotly.graph_objs as go\\nfrom sklearn.ensemble import RandomForestRegressor\\nimport matplotlib.pyplot as plt\\nfrom sklearn.linear_model import LinearRegression\\nfrom sklearn.model_selection import train_test_split\\nimport seaborn as sns\\nimport pickle'); }\n",
       "    "
      ],
      "text/plain": [
       "<IPython.core.display.Javascript object>"
      ]
     },
     "metadata": {},
     "output_type": "display_data"
    },
    {
     "name": "stdout",
     "output_type": "stream",
     "text": [
      "LINEAR REGRESSION MODEL\n",
      "Score : 0.17189387645913623\n",
      "MSE : 0.09192029971559554\n",
      "Time : 0.0364682674407959\n"
     ]
    }
   ],
   "source": [
    "#make our prediction to verify our model with the test on y portion\n",
    "start=time.time()\n",
    "model = LinearRegression()\n",
    "model.fit(x_train,y_train)\n",
    "prediction=model.predict(x_test)\n",
    "end=time.time()\n",
    "\n",
    "print(f\"LINEAR REGRESSION MODEL\")\n",
    "print(f\"Score : {r2_score(y_test,prediction)}\")\n",
    "print(f\"MSE : {mean_squared_error(y_test,prediction)}\")\n",
    "print(f\"Time : {end-start}\")\n"
   ]
  },
  {
   "cell_type": "code",
   "execution_count": 445,
   "id": "cb9fba6f",
   "metadata": {
    "ExecuteTime": {
     "end_time": "2024-03-28T23:04:09.970767Z",
     "start_time": "2024-03-28T23:03:40.141259Z"
    }
   },
   "outputs": [
    {
     "data": {
      "application/javascript": [
       "\n",
       "        if (window._pyforest_update_imports_cell) { window._pyforest_update_imports_cell('import pandas as pd\\nfrom sklearn.preprocessing import LabelEncoder\\nimport plotly.graph_objs as go\\nfrom sklearn.ensemble import RandomForestRegressor\\nimport matplotlib.pyplot as plt\\nfrom sklearn.linear_model import LinearRegression\\nfrom sklearn.model_selection import train_test_split\\nimport seaborn as sns\\nimport pickle'); }\n",
       "    "
      ],
      "text/plain": [
       "<IPython.core.display.Javascript object>"
      ]
     },
     "metadata": {},
     "output_type": "display_data"
    },
    {
     "name": "stdout",
     "output_type": "stream",
     "text": [
      "RANDOM FOREST MODEL\n",
      "Score : 0.6401548038660364\n",
      "MSE : 0.03994304273275788\n",
      "Time : 4.6863319873809814\n"
     ]
    }
   ],
   "source": [
    "# Different Model Test Heavy Compute load \n",
    "#Random Forest\n",
    "start=time.time()\n",
    "random_forest = RandomForestRegressor(n_estimators=650,random_state=245,min_samples_leaf=0.0001)\n",
    "random_forest.fit(x_train,y_train)\n",
    "prediction = random_forest.predict(x_test)\n",
    "end=time.time()\n",
    "\n",
    "print(f\"RANDOM FOREST MODEL\")\n",
    "print(f\"Score : {r2_score(y_test,prediction)}\")\n",
    "print(f\"MSE : {mean_squared_error(y_test,prediction)}\")\n",
    "print(f\"Time : {end-start}\")"
   ]
  },
  {
   "cell_type": "code",
   "execution_count": null,
   "id": "429a659fef4d5a5",
   "metadata": {},
   "outputs": [],
   "source": []
  },
  {
   "cell_type": "code",
   "execution_count": 446,
   "id": "fa961b0e027ecc21",
   "metadata": {
    "ExecuteTime": {
     "end_time": "2024-03-28T23:05:56.042272Z",
     "start_time": "2024-03-28T23:05:52.860284Z"
    }
   },
   "outputs": [
    {
     "name": "stdout",
     "output_type": "stream",
     "text": [
      "EXTRA REGRESSOR MODEL\n",
      "Score : 0.6271921282494834\n",
      "MSE : 0.041381907866002834\n",
      "Time : 0.48871684074401855\n"
     ]
    }
   ],
   "source": [
    "#Extra Tree Regressor\n",
    "start=time.time()\n",
    "extra_tree= ExtraTreesRegressor(n_estimators=120)\n",
    "extra_tree.fit(x_train,y_train)\n",
    "prediction = extra_tree.predict(x_test)\n",
    "end=time.time()\n",
    "print(f\"EXTRA REGRESSOR MODEL\")\n",
    "print(f\"Score : {r2_score(y_test,prediction)}\")\n",
    "print(f\"MSE : {mean_squared_error(y_test,prediction)}\")\n",
    "print(f\"Time : {end-start}\")\n"
   ]
  },
  {
   "cell_type": "code",
   "execution_count": 447,
   "id": "9c0b4c13f16c036d",
   "metadata": {
    "ExecuteTime": {
     "end_time": "2024-03-28T23:06:55.191138Z",
     "start_time": "2024-03-28T23:06:54.945104Z"
    }
   },
   "outputs": [
    {
     "name": "stdout",
     "output_type": "stream",
     "text": [
      "XG BOOST REGRESSOR MODEL\n",
      "Score : 0.6615621290088591\n",
      "MSE : 0.03756681619934742\n",
      "Time : 0.17293620109558105\n"
     ]
    }
   ],
   "source": [
    "# Gradient Boosting Regressor,\n",
    "start=time.time()\n",
    "xgb_regressor = xgb.XGBRegressor(objective='reg:squarederror', random_state=10)\n",
    "xgb_regressor.fit(x_train, y_train)\n",
    "prediction = xgb_regressor.predict(x_test)\n",
    "end=time.time()\n",
    "\n",
    "print(f\"XG BOOST REGRESSOR MODEL\")\n",
    "print(f\"Score : {r2_score(y_test,prediction)}\")\n",
    "print(f\"MSE : {mean_squared_error(y_test,prediction)}\")\n",
    "print(f\"Time : {end-start}\")"
   ]
  },
  {
   "cell_type": "code",
   "execution_count": 448,
   "id": "d279be4f4d5aa757",
   "metadata": {},
   "outputs": [
    {
     "data": {
      "application/javascript": [
       "\n",
       "        if (window._pyforest_update_imports_cell) { window._pyforest_update_imports_cell('import pandas as pd\\nfrom sklearn.preprocessing import LabelEncoder\\nimport plotly.graph_objs as go\\nfrom sklearn.ensemble import RandomForestRegressor\\nimport matplotlib.pyplot as plt\\nfrom sklearn.linear_model import LinearRegression\\nfrom sklearn.model_selection import train_test_split\\nimport seaborn as sns\\nimport pickle'); }\n",
       "    "
      ],
      "text/plain": [
       "<IPython.core.display.Javascript object>"
      ]
     },
     "metadata": {},
     "output_type": "display_data"
    }
   ],
   "source": [
    "#Split and train :Linear Regression Model and caching the model\n",
    "\n",
    "extra_tree = ExtraTreesRegressor(n_estimators = 120)\n",
    "extra_tree.fit(x_train , y_train)\n",
    "prediction = extra_tree.predict(x_test)\n",
    "pickle.dump(extra_tree , open('./../data/model.pkl' , 'wb'))"
   ]
  },
  {
   "cell_type": "code",
   "execution_count": null,
   "id": "96a30de57cd215ad",
   "metadata": {},
   "outputs": [],
   "source": []
  },
  {
   "cell_type": "code",
   "execution_count": null,
   "id": "4723d3d106a274d7",
   "metadata": {},
   "outputs": [],
   "source": []
  },
  {
   "cell_type": "code",
   "execution_count": 127,
   "id": "dd59155321200077",
   "metadata": {},
   "outputs": [],
   "source": []
  },
  {
   "cell_type": "code",
   "execution_count": 128,
   "id": "df776d73b36cfaac",
   "metadata": {},
   "outputs": [],
   "source": []
  },
  {
   "cell_type": "code",
   "execution_count": null,
   "id": "adbe904d6a385ef5",
   "metadata": {},
   "outputs": [],
   "source": []
  },
  {
   "cell_type": "code",
   "execution_count": null,
   "id": "bf2325d4",
   "metadata": {},
   "outputs": [],
   "source": []
  },
  {
   "cell_type": "code",
   "execution_count": null,
   "id": "b2205f49",
   "metadata": {},
   "outputs": [],
   "source": []
  }
 ],
 "metadata": {
  "kernelspec": {
   "display_name": "Python 3 (ipykernel)",
   "language": "python",
   "name": "python3"
  },
  "language_info": {
   "codemirror_mode": {
    "name": "ipython",
    "version": 3
   },
   "file_extension": ".py",
   "mimetype": "text/x-python",
   "name": "python",
   "nbconvert_exporter": "python",
   "pygments_lexer": "ipython3",
   "version": "3.11.5"
  }
 },
 "nbformat": 4,
 "nbformat_minor": 5
}
